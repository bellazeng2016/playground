{
  "nbformat": 4,
  "nbformat_minor": 0,
  "metadata": {
    "colab": {
      "name": "recommendation sys.ipynb",
      "provenance": [],
      "authorship_tag": "ABX9TyNu//8Lfx5PPYAQSNkq8wml",
      "include_colab_link": true
    },
    "kernelspec": {
      "name": "python3",
      "display_name": "Python 3"
    },
    "language_info": {
      "name": "python"
    },
    "widgets": {
      "application/vnd.jupyter.widget-state+json": {
        "44002a5705414fc9a0f260e23fa5c42a": {
          "model_module": "@jupyter-widgets/controls",
          "model_name": "HBoxModel",
          "model_module_version": "1.5.0",
          "state": {
            "_dom_classes": [],
            "_model_module": "@jupyter-widgets/controls",
            "_model_module_version": "1.5.0",
            "_model_name": "HBoxModel",
            "_view_count": null,
            "_view_module": "@jupyter-widgets/controls",
            "_view_module_version": "1.5.0",
            "_view_name": "HBoxView",
            "box_style": "",
            "children": [
              "IPY_MODEL_a4b7a2e98fe641da98c43d5ddbf02a07",
              "IPY_MODEL_855af71570bc48d5a9343c8557bb6cbe",
              "IPY_MODEL_ab0f970adae0415498d6508630f4191e"
            ],
            "layout": "IPY_MODEL_9b6ec73b444948b1908ce5fbdada8e27"
          }
        },
        "a4b7a2e98fe641da98c43d5ddbf02a07": {
          "model_module": "@jupyter-widgets/controls",
          "model_name": "HTMLModel",
          "model_module_version": "1.5.0",
          "state": {
            "_dom_classes": [],
            "_model_module": "@jupyter-widgets/controls",
            "_model_module_version": "1.5.0",
            "_model_name": "HTMLModel",
            "_view_count": null,
            "_view_module": "@jupyter-widgets/controls",
            "_view_module_version": "1.5.0",
            "_view_name": "HTMLView",
            "description": "",
            "description_tooltip": null,
            "layout": "IPY_MODEL_d96f1bebbd6d4c6ca07f0895a32bda26",
            "placeholder": "​",
            "style": "IPY_MODEL_f18b8981804640728fc04f11aa77b6c4",
            "value": "Dl Completed...: 100%"
          }
        },
        "855af71570bc48d5a9343c8557bb6cbe": {
          "model_module": "@jupyter-widgets/controls",
          "model_name": "FloatProgressModel",
          "model_module_version": "1.5.0",
          "state": {
            "_dom_classes": [],
            "_model_module": "@jupyter-widgets/controls",
            "_model_module_version": "1.5.0",
            "_model_name": "FloatProgressModel",
            "_view_count": null,
            "_view_module": "@jupyter-widgets/controls",
            "_view_module_version": "1.5.0",
            "_view_name": "ProgressView",
            "bar_style": "success",
            "description": "",
            "description_tooltip": null,
            "layout": "IPY_MODEL_39224879b561441da4408a8d6dc95246",
            "max": 1,
            "min": 0,
            "orientation": "horizontal",
            "style": "IPY_MODEL_cc5ee095dc8c431fa8cd2d697c38932d",
            "value": 1
          }
        },
        "ab0f970adae0415498d6508630f4191e": {
          "model_module": "@jupyter-widgets/controls",
          "model_name": "HTMLModel",
          "model_module_version": "1.5.0",
          "state": {
            "_dom_classes": [],
            "_model_module": "@jupyter-widgets/controls",
            "_model_module_version": "1.5.0",
            "_model_name": "HTMLModel",
            "_view_count": null,
            "_view_module": "@jupyter-widgets/controls",
            "_view_module_version": "1.5.0",
            "_view_name": "HTMLView",
            "description": "",
            "description_tooltip": null,
            "layout": "IPY_MODEL_6e18252d62b844a7b84a2f5f4c9143fa",
            "placeholder": "​",
            "style": "IPY_MODEL_2fbe6bd0670940859e550a7c10bdca42",
            "value": " 1/1 [00:01&lt;00:00,  1.31 url/s]"
          }
        },
        "9b6ec73b444948b1908ce5fbdada8e27": {
          "model_module": "@jupyter-widgets/base",
          "model_name": "LayoutModel",
          "model_module_version": "1.2.0",
          "state": {
            "_model_module": "@jupyter-widgets/base",
            "_model_module_version": "1.2.0",
            "_model_name": "LayoutModel",
            "_view_count": null,
            "_view_module": "@jupyter-widgets/base",
            "_view_module_version": "1.2.0",
            "_view_name": "LayoutView",
            "align_content": null,
            "align_items": null,
            "align_self": null,
            "border": null,
            "bottom": null,
            "display": null,
            "flex": null,
            "flex_flow": null,
            "grid_area": null,
            "grid_auto_columns": null,
            "grid_auto_flow": null,
            "grid_auto_rows": null,
            "grid_column": null,
            "grid_gap": null,
            "grid_row": null,
            "grid_template_areas": null,
            "grid_template_columns": null,
            "grid_template_rows": null,
            "height": null,
            "justify_content": null,
            "justify_items": null,
            "left": null,
            "margin": null,
            "max_height": null,
            "max_width": null,
            "min_height": null,
            "min_width": null,
            "object_fit": null,
            "object_position": null,
            "order": null,
            "overflow": null,
            "overflow_x": null,
            "overflow_y": null,
            "padding": null,
            "right": null,
            "top": null,
            "visibility": null,
            "width": null
          }
        },
        "d96f1bebbd6d4c6ca07f0895a32bda26": {
          "model_module": "@jupyter-widgets/base",
          "model_name": "LayoutModel",
          "model_module_version": "1.2.0",
          "state": {
            "_model_module": "@jupyter-widgets/base",
            "_model_module_version": "1.2.0",
            "_model_name": "LayoutModel",
            "_view_count": null,
            "_view_module": "@jupyter-widgets/base",
            "_view_module_version": "1.2.0",
            "_view_name": "LayoutView",
            "align_content": null,
            "align_items": null,
            "align_self": null,
            "border": null,
            "bottom": null,
            "display": null,
            "flex": null,
            "flex_flow": null,
            "grid_area": null,
            "grid_auto_columns": null,
            "grid_auto_flow": null,
            "grid_auto_rows": null,
            "grid_column": null,
            "grid_gap": null,
            "grid_row": null,
            "grid_template_areas": null,
            "grid_template_columns": null,
            "grid_template_rows": null,
            "height": null,
            "justify_content": null,
            "justify_items": null,
            "left": null,
            "margin": null,
            "max_height": null,
            "max_width": null,
            "min_height": null,
            "min_width": null,
            "object_fit": null,
            "object_position": null,
            "order": null,
            "overflow": null,
            "overflow_x": null,
            "overflow_y": null,
            "padding": null,
            "right": null,
            "top": null,
            "visibility": null,
            "width": null
          }
        },
        "f18b8981804640728fc04f11aa77b6c4": {
          "model_module": "@jupyter-widgets/controls",
          "model_name": "DescriptionStyleModel",
          "model_module_version": "1.5.0",
          "state": {
            "_model_module": "@jupyter-widgets/controls",
            "_model_module_version": "1.5.0",
            "_model_name": "DescriptionStyleModel",
            "_view_count": null,
            "_view_module": "@jupyter-widgets/base",
            "_view_module_version": "1.2.0",
            "_view_name": "StyleView",
            "description_width": ""
          }
        },
        "39224879b561441da4408a8d6dc95246": {
          "model_module": "@jupyter-widgets/base",
          "model_name": "LayoutModel",
          "model_module_version": "1.2.0",
          "state": {
            "_model_module": "@jupyter-widgets/base",
            "_model_module_version": "1.2.0",
            "_model_name": "LayoutModel",
            "_view_count": null,
            "_view_module": "@jupyter-widgets/base",
            "_view_module_version": "1.2.0",
            "_view_name": "LayoutView",
            "align_content": null,
            "align_items": null,
            "align_self": null,
            "border": null,
            "bottom": null,
            "display": null,
            "flex": null,
            "flex_flow": null,
            "grid_area": null,
            "grid_auto_columns": null,
            "grid_auto_flow": null,
            "grid_auto_rows": null,
            "grid_column": null,
            "grid_gap": null,
            "grid_row": null,
            "grid_template_areas": null,
            "grid_template_columns": null,
            "grid_template_rows": null,
            "height": null,
            "justify_content": null,
            "justify_items": null,
            "left": null,
            "margin": null,
            "max_height": null,
            "max_width": null,
            "min_height": null,
            "min_width": null,
            "object_fit": null,
            "object_position": null,
            "order": null,
            "overflow": null,
            "overflow_x": null,
            "overflow_y": null,
            "padding": null,
            "right": null,
            "top": null,
            "visibility": null,
            "width": "20px"
          }
        },
        "cc5ee095dc8c431fa8cd2d697c38932d": {
          "model_module": "@jupyter-widgets/controls",
          "model_name": "ProgressStyleModel",
          "model_module_version": "1.5.0",
          "state": {
            "_model_module": "@jupyter-widgets/controls",
            "_model_module_version": "1.5.0",
            "_model_name": "ProgressStyleModel",
            "_view_count": null,
            "_view_module": "@jupyter-widgets/base",
            "_view_module_version": "1.2.0",
            "_view_name": "StyleView",
            "bar_color": null,
            "description_width": ""
          }
        },
        "6e18252d62b844a7b84a2f5f4c9143fa": {
          "model_module": "@jupyter-widgets/base",
          "model_name": "LayoutModel",
          "model_module_version": "1.2.0",
          "state": {
            "_model_module": "@jupyter-widgets/base",
            "_model_module_version": "1.2.0",
            "_model_name": "LayoutModel",
            "_view_count": null,
            "_view_module": "@jupyter-widgets/base",
            "_view_module_version": "1.2.0",
            "_view_name": "LayoutView",
            "align_content": null,
            "align_items": null,
            "align_self": null,
            "border": null,
            "bottom": null,
            "display": null,
            "flex": null,
            "flex_flow": null,
            "grid_area": null,
            "grid_auto_columns": null,
            "grid_auto_flow": null,
            "grid_auto_rows": null,
            "grid_column": null,
            "grid_gap": null,
            "grid_row": null,
            "grid_template_areas": null,
            "grid_template_columns": null,
            "grid_template_rows": null,
            "height": null,
            "justify_content": null,
            "justify_items": null,
            "left": null,
            "margin": null,
            "max_height": null,
            "max_width": null,
            "min_height": null,
            "min_width": null,
            "object_fit": null,
            "object_position": null,
            "order": null,
            "overflow": null,
            "overflow_x": null,
            "overflow_y": null,
            "padding": null,
            "right": null,
            "top": null,
            "visibility": null,
            "width": null
          }
        },
        "2fbe6bd0670940859e550a7c10bdca42": {
          "model_module": "@jupyter-widgets/controls",
          "model_name": "DescriptionStyleModel",
          "model_module_version": "1.5.0",
          "state": {
            "_model_module": "@jupyter-widgets/controls",
            "_model_module_version": "1.5.0",
            "_model_name": "DescriptionStyleModel",
            "_view_count": null,
            "_view_module": "@jupyter-widgets/base",
            "_view_module_version": "1.2.0",
            "_view_name": "StyleView",
            "description_width": ""
          }
        },
        "0b68defeaee6446c820a638c06eddb70": {
          "model_module": "@jupyter-widgets/controls",
          "model_name": "HBoxModel",
          "model_module_version": "1.5.0",
          "state": {
            "_dom_classes": [],
            "_model_module": "@jupyter-widgets/controls",
            "_model_module_version": "1.5.0",
            "_model_name": "HBoxModel",
            "_view_count": null,
            "_view_module": "@jupyter-widgets/controls",
            "_view_module_version": "1.5.0",
            "_view_name": "HBoxView",
            "box_style": "",
            "children": [
              "IPY_MODEL_c95410717fb04f2b8630badb96948c3d",
              "IPY_MODEL_09f6ed8462ec47ad83da54637d4afb95",
              "IPY_MODEL_ef05a866b7fb4815b6b1eb087f3ace32"
            ],
            "layout": "IPY_MODEL_140f82b47c6641ea8cc018b937e1b5b6"
          }
        },
        "c95410717fb04f2b8630badb96948c3d": {
          "model_module": "@jupyter-widgets/controls",
          "model_name": "HTMLModel",
          "model_module_version": "1.5.0",
          "state": {
            "_dom_classes": [],
            "_model_module": "@jupyter-widgets/controls",
            "_model_module_version": "1.5.0",
            "_model_name": "HTMLModel",
            "_view_count": null,
            "_view_module": "@jupyter-widgets/controls",
            "_view_module_version": "1.5.0",
            "_view_name": "HTMLView",
            "description": "",
            "description_tooltip": null,
            "layout": "IPY_MODEL_80f4ab83c19c458386a6e39ee92343ba",
            "placeholder": "​",
            "style": "IPY_MODEL_39fb73d6a8874667bfa0815c61a33748",
            "value": "Dl Size...: 100%"
          }
        },
        "09f6ed8462ec47ad83da54637d4afb95": {
          "model_module": "@jupyter-widgets/controls",
          "model_name": "FloatProgressModel",
          "model_module_version": "1.5.0",
          "state": {
            "_dom_classes": [],
            "_model_module": "@jupyter-widgets/controls",
            "_model_module_version": "1.5.0",
            "_model_name": "FloatProgressModel",
            "_view_count": null,
            "_view_module": "@jupyter-widgets/controls",
            "_view_module_version": "1.5.0",
            "_view_name": "ProgressView",
            "bar_style": "success",
            "description": "",
            "description_tooltip": null,
            "layout": "IPY_MODEL_f316789ee1444bbca95952de4ed23784",
            "max": 1,
            "min": 0,
            "orientation": "horizontal",
            "style": "IPY_MODEL_aad9d33fe4ae44269ce75d3f4192d007",
            "value": 1
          }
        },
        "ef05a866b7fb4815b6b1eb087f3ace32": {
          "model_module": "@jupyter-widgets/controls",
          "model_name": "HTMLModel",
          "model_module_version": "1.5.0",
          "state": {
            "_dom_classes": [],
            "_model_module": "@jupyter-widgets/controls",
            "_model_module_version": "1.5.0",
            "_model_name": "HTMLModel",
            "_view_count": null,
            "_view_module": "@jupyter-widgets/controls",
            "_view_module_version": "1.5.0",
            "_view_name": "HTMLView",
            "description": "",
            "description_tooltip": null,
            "layout": "IPY_MODEL_34a231f6c79d46feb841a03083f851c2",
            "placeholder": "​",
            "style": "IPY_MODEL_df1db18685de4973b1d2c1d05f7ef735",
            "value": " 4/4 [00:01&lt;00:00,  7.02 MiB/s]"
          }
        },
        "140f82b47c6641ea8cc018b937e1b5b6": {
          "model_module": "@jupyter-widgets/base",
          "model_name": "LayoutModel",
          "model_module_version": "1.2.0",
          "state": {
            "_model_module": "@jupyter-widgets/base",
            "_model_module_version": "1.2.0",
            "_model_name": "LayoutModel",
            "_view_count": null,
            "_view_module": "@jupyter-widgets/base",
            "_view_module_version": "1.2.0",
            "_view_name": "LayoutView",
            "align_content": null,
            "align_items": null,
            "align_self": null,
            "border": null,
            "bottom": null,
            "display": null,
            "flex": null,
            "flex_flow": null,
            "grid_area": null,
            "grid_auto_columns": null,
            "grid_auto_flow": null,
            "grid_auto_rows": null,
            "grid_column": null,
            "grid_gap": null,
            "grid_row": null,
            "grid_template_areas": null,
            "grid_template_columns": null,
            "grid_template_rows": null,
            "height": null,
            "justify_content": null,
            "justify_items": null,
            "left": null,
            "margin": null,
            "max_height": null,
            "max_width": null,
            "min_height": null,
            "min_width": null,
            "object_fit": null,
            "object_position": null,
            "order": null,
            "overflow": null,
            "overflow_x": null,
            "overflow_y": null,
            "padding": null,
            "right": null,
            "top": null,
            "visibility": null,
            "width": null
          }
        },
        "80f4ab83c19c458386a6e39ee92343ba": {
          "model_module": "@jupyter-widgets/base",
          "model_name": "LayoutModel",
          "model_module_version": "1.2.0",
          "state": {
            "_model_module": "@jupyter-widgets/base",
            "_model_module_version": "1.2.0",
            "_model_name": "LayoutModel",
            "_view_count": null,
            "_view_module": "@jupyter-widgets/base",
            "_view_module_version": "1.2.0",
            "_view_name": "LayoutView",
            "align_content": null,
            "align_items": null,
            "align_self": null,
            "border": null,
            "bottom": null,
            "display": null,
            "flex": null,
            "flex_flow": null,
            "grid_area": null,
            "grid_auto_columns": null,
            "grid_auto_flow": null,
            "grid_auto_rows": null,
            "grid_column": null,
            "grid_gap": null,
            "grid_row": null,
            "grid_template_areas": null,
            "grid_template_columns": null,
            "grid_template_rows": null,
            "height": null,
            "justify_content": null,
            "justify_items": null,
            "left": null,
            "margin": null,
            "max_height": null,
            "max_width": null,
            "min_height": null,
            "min_width": null,
            "object_fit": null,
            "object_position": null,
            "order": null,
            "overflow": null,
            "overflow_x": null,
            "overflow_y": null,
            "padding": null,
            "right": null,
            "top": null,
            "visibility": null,
            "width": null
          }
        },
        "39fb73d6a8874667bfa0815c61a33748": {
          "model_module": "@jupyter-widgets/controls",
          "model_name": "DescriptionStyleModel",
          "model_module_version": "1.5.0",
          "state": {
            "_model_module": "@jupyter-widgets/controls",
            "_model_module_version": "1.5.0",
            "_model_name": "DescriptionStyleModel",
            "_view_count": null,
            "_view_module": "@jupyter-widgets/base",
            "_view_module_version": "1.2.0",
            "_view_name": "StyleView",
            "description_width": ""
          }
        },
        "f316789ee1444bbca95952de4ed23784": {
          "model_module": "@jupyter-widgets/base",
          "model_name": "LayoutModel",
          "model_module_version": "1.2.0",
          "state": {
            "_model_module": "@jupyter-widgets/base",
            "_model_module_version": "1.2.0",
            "_model_name": "LayoutModel",
            "_view_count": null,
            "_view_module": "@jupyter-widgets/base",
            "_view_module_version": "1.2.0",
            "_view_name": "LayoutView",
            "align_content": null,
            "align_items": null,
            "align_self": null,
            "border": null,
            "bottom": null,
            "display": null,
            "flex": null,
            "flex_flow": null,
            "grid_area": null,
            "grid_auto_columns": null,
            "grid_auto_flow": null,
            "grid_auto_rows": null,
            "grid_column": null,
            "grid_gap": null,
            "grid_row": null,
            "grid_template_areas": null,
            "grid_template_columns": null,
            "grid_template_rows": null,
            "height": null,
            "justify_content": null,
            "justify_items": null,
            "left": null,
            "margin": null,
            "max_height": null,
            "max_width": null,
            "min_height": null,
            "min_width": null,
            "object_fit": null,
            "object_position": null,
            "order": null,
            "overflow": null,
            "overflow_x": null,
            "overflow_y": null,
            "padding": null,
            "right": null,
            "top": null,
            "visibility": null,
            "width": "20px"
          }
        },
        "aad9d33fe4ae44269ce75d3f4192d007": {
          "model_module": "@jupyter-widgets/controls",
          "model_name": "ProgressStyleModel",
          "model_module_version": "1.5.0",
          "state": {
            "_model_module": "@jupyter-widgets/controls",
            "_model_module_version": "1.5.0",
            "_model_name": "ProgressStyleModel",
            "_view_count": null,
            "_view_module": "@jupyter-widgets/base",
            "_view_module_version": "1.2.0",
            "_view_name": "StyleView",
            "bar_color": null,
            "description_width": ""
          }
        },
        "34a231f6c79d46feb841a03083f851c2": {
          "model_module": "@jupyter-widgets/base",
          "model_name": "LayoutModel",
          "model_module_version": "1.2.0",
          "state": {
            "_model_module": "@jupyter-widgets/base",
            "_model_module_version": "1.2.0",
            "_model_name": "LayoutModel",
            "_view_count": null,
            "_view_module": "@jupyter-widgets/base",
            "_view_module_version": "1.2.0",
            "_view_name": "LayoutView",
            "align_content": null,
            "align_items": null,
            "align_self": null,
            "border": null,
            "bottom": null,
            "display": null,
            "flex": null,
            "flex_flow": null,
            "grid_area": null,
            "grid_auto_columns": null,
            "grid_auto_flow": null,
            "grid_auto_rows": null,
            "grid_column": null,
            "grid_gap": null,
            "grid_row": null,
            "grid_template_areas": null,
            "grid_template_columns": null,
            "grid_template_rows": null,
            "height": null,
            "justify_content": null,
            "justify_items": null,
            "left": null,
            "margin": null,
            "max_height": null,
            "max_width": null,
            "min_height": null,
            "min_width": null,
            "object_fit": null,
            "object_position": null,
            "order": null,
            "overflow": null,
            "overflow_x": null,
            "overflow_y": null,
            "padding": null,
            "right": null,
            "top": null,
            "visibility": null,
            "width": null
          }
        },
        "df1db18685de4973b1d2c1d05f7ef735": {
          "model_module": "@jupyter-widgets/controls",
          "model_name": "DescriptionStyleModel",
          "model_module_version": "1.5.0",
          "state": {
            "_model_module": "@jupyter-widgets/controls",
            "_model_module_version": "1.5.0",
            "_model_name": "DescriptionStyleModel",
            "_view_count": null,
            "_view_module": "@jupyter-widgets/base",
            "_view_module_version": "1.2.0",
            "_view_name": "StyleView",
            "description_width": ""
          }
        },
        "a56d605c26784faaa5380c8a2f6f4734": {
          "model_module": "@jupyter-widgets/controls",
          "model_name": "HBoxModel",
          "model_module_version": "1.5.0",
          "state": {
            "_dom_classes": [],
            "_model_module": "@jupyter-widgets/controls",
            "_model_module_version": "1.5.0",
            "_model_name": "HBoxModel",
            "_view_count": null,
            "_view_module": "@jupyter-widgets/controls",
            "_view_module_version": "1.5.0",
            "_view_name": "HBoxView",
            "box_style": "",
            "children": [
              "IPY_MODEL_042ad00f355f4bdfad7e8a9c3009cd11",
              "IPY_MODEL_945c789b74ed4505aee27cc8c2124acd",
              "IPY_MODEL_16fd1bc2c7694a6cbac588a48f041265"
            ],
            "layout": "IPY_MODEL_087d7ab10b9f4dbe96e042081a6138eb"
          }
        },
        "042ad00f355f4bdfad7e8a9c3009cd11": {
          "model_module": "@jupyter-widgets/controls",
          "model_name": "HTMLModel",
          "model_module_version": "1.5.0",
          "state": {
            "_dom_classes": [],
            "_model_module": "@jupyter-widgets/controls",
            "_model_module_version": "1.5.0",
            "_model_name": "HTMLModel",
            "_view_count": null,
            "_view_module": "@jupyter-widgets/controls",
            "_view_module_version": "1.5.0",
            "_view_name": "HTMLView",
            "description": "",
            "description_tooltip": null,
            "layout": "IPY_MODEL_359e9cb8f1944ffc8f82257d80501a01",
            "placeholder": "​",
            "style": "IPY_MODEL_e7884cbcf9434dfea75634a1a4e27291",
            "value": "Extraction completed...: 100%"
          }
        },
        "945c789b74ed4505aee27cc8c2124acd": {
          "model_module": "@jupyter-widgets/controls",
          "model_name": "FloatProgressModel",
          "model_module_version": "1.5.0",
          "state": {
            "_dom_classes": [],
            "_model_module": "@jupyter-widgets/controls",
            "_model_module_version": "1.5.0",
            "_model_name": "FloatProgressModel",
            "_view_count": null,
            "_view_module": "@jupyter-widgets/controls",
            "_view_module_version": "1.5.0",
            "_view_name": "ProgressView",
            "bar_style": "success",
            "description": "",
            "description_tooltip": null,
            "layout": "IPY_MODEL_3eedb84a760f47bfa49c15888913ce18",
            "max": 1,
            "min": 0,
            "orientation": "horizontal",
            "style": "IPY_MODEL_0cb84118c1a74f1b883f1d909543dd7f",
            "value": 1
          }
        },
        "16fd1bc2c7694a6cbac588a48f041265": {
          "model_module": "@jupyter-widgets/controls",
          "model_name": "HTMLModel",
          "model_module_version": "1.5.0",
          "state": {
            "_dom_classes": [],
            "_model_module": "@jupyter-widgets/controls",
            "_model_module_version": "1.5.0",
            "_model_name": "HTMLModel",
            "_view_count": null,
            "_view_module": "@jupyter-widgets/controls",
            "_view_module_version": "1.5.0",
            "_view_name": "HTMLView",
            "description": "",
            "description_tooltip": null,
            "layout": "IPY_MODEL_7830fbfcb8334723bf6134d87ed15df4",
            "placeholder": "​",
            "style": "IPY_MODEL_98f264977e5640618755c3e848993bd4",
            "value": " 1/1 [00:01&lt;00:00,  1.02 file/s]"
          }
        },
        "087d7ab10b9f4dbe96e042081a6138eb": {
          "model_module": "@jupyter-widgets/base",
          "model_name": "LayoutModel",
          "model_module_version": "1.2.0",
          "state": {
            "_model_module": "@jupyter-widgets/base",
            "_model_module_version": "1.2.0",
            "_model_name": "LayoutModel",
            "_view_count": null,
            "_view_module": "@jupyter-widgets/base",
            "_view_module_version": "1.2.0",
            "_view_name": "LayoutView",
            "align_content": null,
            "align_items": null,
            "align_self": null,
            "border": null,
            "bottom": null,
            "display": null,
            "flex": null,
            "flex_flow": null,
            "grid_area": null,
            "grid_auto_columns": null,
            "grid_auto_flow": null,
            "grid_auto_rows": null,
            "grid_column": null,
            "grid_gap": null,
            "grid_row": null,
            "grid_template_areas": null,
            "grid_template_columns": null,
            "grid_template_rows": null,
            "height": null,
            "justify_content": null,
            "justify_items": null,
            "left": null,
            "margin": null,
            "max_height": null,
            "max_width": null,
            "min_height": null,
            "min_width": null,
            "object_fit": null,
            "object_position": null,
            "order": null,
            "overflow": null,
            "overflow_x": null,
            "overflow_y": null,
            "padding": null,
            "right": null,
            "top": null,
            "visibility": null,
            "width": null
          }
        },
        "359e9cb8f1944ffc8f82257d80501a01": {
          "model_module": "@jupyter-widgets/base",
          "model_name": "LayoutModel",
          "model_module_version": "1.2.0",
          "state": {
            "_model_module": "@jupyter-widgets/base",
            "_model_module_version": "1.2.0",
            "_model_name": "LayoutModel",
            "_view_count": null,
            "_view_module": "@jupyter-widgets/base",
            "_view_module_version": "1.2.0",
            "_view_name": "LayoutView",
            "align_content": null,
            "align_items": null,
            "align_self": null,
            "border": null,
            "bottom": null,
            "display": null,
            "flex": null,
            "flex_flow": null,
            "grid_area": null,
            "grid_auto_columns": null,
            "grid_auto_flow": null,
            "grid_auto_rows": null,
            "grid_column": null,
            "grid_gap": null,
            "grid_row": null,
            "grid_template_areas": null,
            "grid_template_columns": null,
            "grid_template_rows": null,
            "height": null,
            "justify_content": null,
            "justify_items": null,
            "left": null,
            "margin": null,
            "max_height": null,
            "max_width": null,
            "min_height": null,
            "min_width": null,
            "object_fit": null,
            "object_position": null,
            "order": null,
            "overflow": null,
            "overflow_x": null,
            "overflow_y": null,
            "padding": null,
            "right": null,
            "top": null,
            "visibility": null,
            "width": null
          }
        },
        "e7884cbcf9434dfea75634a1a4e27291": {
          "model_module": "@jupyter-widgets/controls",
          "model_name": "DescriptionStyleModel",
          "model_module_version": "1.5.0",
          "state": {
            "_model_module": "@jupyter-widgets/controls",
            "_model_module_version": "1.5.0",
            "_model_name": "DescriptionStyleModel",
            "_view_count": null,
            "_view_module": "@jupyter-widgets/base",
            "_view_module_version": "1.2.0",
            "_view_name": "StyleView",
            "description_width": ""
          }
        },
        "3eedb84a760f47bfa49c15888913ce18": {
          "model_module": "@jupyter-widgets/base",
          "model_name": "LayoutModel",
          "model_module_version": "1.2.0",
          "state": {
            "_model_module": "@jupyter-widgets/base",
            "_model_module_version": "1.2.0",
            "_model_name": "LayoutModel",
            "_view_count": null,
            "_view_module": "@jupyter-widgets/base",
            "_view_module_version": "1.2.0",
            "_view_name": "LayoutView",
            "align_content": null,
            "align_items": null,
            "align_self": null,
            "border": null,
            "bottom": null,
            "display": null,
            "flex": null,
            "flex_flow": null,
            "grid_area": null,
            "grid_auto_columns": null,
            "grid_auto_flow": null,
            "grid_auto_rows": null,
            "grid_column": null,
            "grid_gap": null,
            "grid_row": null,
            "grid_template_areas": null,
            "grid_template_columns": null,
            "grid_template_rows": null,
            "height": null,
            "justify_content": null,
            "justify_items": null,
            "left": null,
            "margin": null,
            "max_height": null,
            "max_width": null,
            "min_height": null,
            "min_width": null,
            "object_fit": null,
            "object_position": null,
            "order": null,
            "overflow": null,
            "overflow_x": null,
            "overflow_y": null,
            "padding": null,
            "right": null,
            "top": null,
            "visibility": null,
            "width": "20px"
          }
        },
        "0cb84118c1a74f1b883f1d909543dd7f": {
          "model_module": "@jupyter-widgets/controls",
          "model_name": "ProgressStyleModel",
          "model_module_version": "1.5.0",
          "state": {
            "_model_module": "@jupyter-widgets/controls",
            "_model_module_version": "1.5.0",
            "_model_name": "ProgressStyleModel",
            "_view_count": null,
            "_view_module": "@jupyter-widgets/base",
            "_view_module_version": "1.2.0",
            "_view_name": "StyleView",
            "bar_color": null,
            "description_width": ""
          }
        },
        "7830fbfcb8334723bf6134d87ed15df4": {
          "model_module": "@jupyter-widgets/base",
          "model_name": "LayoutModel",
          "model_module_version": "1.2.0",
          "state": {
            "_model_module": "@jupyter-widgets/base",
            "_model_module_version": "1.2.0",
            "_model_name": "LayoutModel",
            "_view_count": null,
            "_view_module": "@jupyter-widgets/base",
            "_view_module_version": "1.2.0",
            "_view_name": "LayoutView",
            "align_content": null,
            "align_items": null,
            "align_self": null,
            "border": null,
            "bottom": null,
            "display": null,
            "flex": null,
            "flex_flow": null,
            "grid_area": null,
            "grid_auto_columns": null,
            "grid_auto_flow": null,
            "grid_auto_rows": null,
            "grid_column": null,
            "grid_gap": null,
            "grid_row": null,
            "grid_template_areas": null,
            "grid_template_columns": null,
            "grid_template_rows": null,
            "height": null,
            "justify_content": null,
            "justify_items": null,
            "left": null,
            "margin": null,
            "max_height": null,
            "max_width": null,
            "min_height": null,
            "min_width": null,
            "object_fit": null,
            "object_position": null,
            "order": null,
            "overflow": null,
            "overflow_x": null,
            "overflow_y": null,
            "padding": null,
            "right": null,
            "top": null,
            "visibility": null,
            "width": null
          }
        },
        "98f264977e5640618755c3e848993bd4": {
          "model_module": "@jupyter-widgets/controls",
          "model_name": "DescriptionStyleModel",
          "model_module_version": "1.5.0",
          "state": {
            "_model_module": "@jupyter-widgets/controls",
            "_model_module_version": "1.5.0",
            "_model_name": "DescriptionStyleModel",
            "_view_count": null,
            "_view_module": "@jupyter-widgets/base",
            "_view_module_version": "1.2.0",
            "_view_name": "StyleView",
            "description_width": ""
          }
        },
        "aa65e498cd78407484ba4ca01c4ac5a3": {
          "model_module": "@jupyter-widgets/controls",
          "model_name": "HBoxModel",
          "model_module_version": "1.5.0",
          "state": {
            "_dom_classes": [],
            "_model_module": "@jupyter-widgets/controls",
            "_model_module_version": "1.5.0",
            "_model_name": "HBoxModel",
            "_view_count": null,
            "_view_module": "@jupyter-widgets/controls",
            "_view_module_version": "1.5.0",
            "_view_name": "HBoxView",
            "box_style": "",
            "children": [
              "IPY_MODEL_57f2ea6f99c4453e9041a9844306d760",
              "IPY_MODEL_2412363ef9e64efb8493d9360761575d",
              "IPY_MODEL_8c35bbf1820d4f0daad26285ee0effb1"
            ],
            "layout": "IPY_MODEL_a49f1b947d0f466d9d3db401a3b3eb96"
          }
        },
        "57f2ea6f99c4453e9041a9844306d760": {
          "model_module": "@jupyter-widgets/controls",
          "model_name": "HTMLModel",
          "model_module_version": "1.5.0",
          "state": {
            "_dom_classes": [],
            "_model_module": "@jupyter-widgets/controls",
            "_model_module_version": "1.5.0",
            "_model_name": "HTMLModel",
            "_view_count": null,
            "_view_module": "@jupyter-widgets/controls",
            "_view_module_version": "1.5.0",
            "_view_name": "HTMLView",
            "description": "",
            "description_tooltip": null,
            "layout": "IPY_MODEL_7ec0eeff6e844ae69c57af6522581693",
            "placeholder": "​",
            "style": "IPY_MODEL_3d94c9c9788b46009769e1c1d57cc91b",
            "value": "Generating splits...: 100%"
          }
        },
        "2412363ef9e64efb8493d9360761575d": {
          "model_module": "@jupyter-widgets/controls",
          "model_name": "FloatProgressModel",
          "model_module_version": "1.5.0",
          "state": {
            "_dom_classes": [],
            "_model_module": "@jupyter-widgets/controls",
            "_model_module_version": "1.5.0",
            "_model_name": "FloatProgressModel",
            "_view_count": null,
            "_view_module": "@jupyter-widgets/controls",
            "_view_module_version": "1.5.0",
            "_view_name": "ProgressView",
            "bar_style": "",
            "description": "",
            "description_tooltip": null,
            "layout": "IPY_MODEL_626b856279aa43ceb6e739cd3cca8059",
            "max": 1,
            "min": 0,
            "orientation": "horizontal",
            "style": "IPY_MODEL_37ff571dd3d44aa5a75ef3b1a013df00",
            "value": 1
          }
        },
        "8c35bbf1820d4f0daad26285ee0effb1": {
          "model_module": "@jupyter-widgets/controls",
          "model_name": "HTMLModel",
          "model_module_version": "1.5.0",
          "state": {
            "_dom_classes": [],
            "_model_module": "@jupyter-widgets/controls",
            "_model_module_version": "1.5.0",
            "_model_name": "HTMLModel",
            "_view_count": null,
            "_view_module": "@jupyter-widgets/controls",
            "_view_module_version": "1.5.0",
            "_view_name": "HTMLView",
            "description": "",
            "description_tooltip": null,
            "layout": "IPY_MODEL_6d55ba42a6ba4c799376ffa4ca5fcc2d",
            "placeholder": "​",
            "style": "IPY_MODEL_dea511202daa48ca955922238ba20fe8",
            "value": " 1/1 [00:49&lt;00:00, 49.80s/ splits]"
          }
        },
        "a49f1b947d0f466d9d3db401a3b3eb96": {
          "model_module": "@jupyter-widgets/base",
          "model_name": "LayoutModel",
          "model_module_version": "1.2.0",
          "state": {
            "_model_module": "@jupyter-widgets/base",
            "_model_module_version": "1.2.0",
            "_model_name": "LayoutModel",
            "_view_count": null,
            "_view_module": "@jupyter-widgets/base",
            "_view_module_version": "1.2.0",
            "_view_name": "LayoutView",
            "align_content": null,
            "align_items": null,
            "align_self": null,
            "border": null,
            "bottom": null,
            "display": null,
            "flex": null,
            "flex_flow": null,
            "grid_area": null,
            "grid_auto_columns": null,
            "grid_auto_flow": null,
            "grid_auto_rows": null,
            "grid_column": null,
            "grid_gap": null,
            "grid_row": null,
            "grid_template_areas": null,
            "grid_template_columns": null,
            "grid_template_rows": null,
            "height": null,
            "justify_content": null,
            "justify_items": null,
            "left": null,
            "margin": null,
            "max_height": null,
            "max_width": null,
            "min_height": null,
            "min_width": null,
            "object_fit": null,
            "object_position": null,
            "order": null,
            "overflow": null,
            "overflow_x": null,
            "overflow_y": null,
            "padding": null,
            "right": null,
            "top": null,
            "visibility": null,
            "width": null
          }
        },
        "7ec0eeff6e844ae69c57af6522581693": {
          "model_module": "@jupyter-widgets/base",
          "model_name": "LayoutModel",
          "model_module_version": "1.2.0",
          "state": {
            "_model_module": "@jupyter-widgets/base",
            "_model_module_version": "1.2.0",
            "_model_name": "LayoutModel",
            "_view_count": null,
            "_view_module": "@jupyter-widgets/base",
            "_view_module_version": "1.2.0",
            "_view_name": "LayoutView",
            "align_content": null,
            "align_items": null,
            "align_self": null,
            "border": null,
            "bottom": null,
            "display": null,
            "flex": null,
            "flex_flow": null,
            "grid_area": null,
            "grid_auto_columns": null,
            "grid_auto_flow": null,
            "grid_auto_rows": null,
            "grid_column": null,
            "grid_gap": null,
            "grid_row": null,
            "grid_template_areas": null,
            "grid_template_columns": null,
            "grid_template_rows": null,
            "height": null,
            "justify_content": null,
            "justify_items": null,
            "left": null,
            "margin": null,
            "max_height": null,
            "max_width": null,
            "min_height": null,
            "min_width": null,
            "object_fit": null,
            "object_position": null,
            "order": null,
            "overflow": null,
            "overflow_x": null,
            "overflow_y": null,
            "padding": null,
            "right": null,
            "top": null,
            "visibility": null,
            "width": null
          }
        },
        "3d94c9c9788b46009769e1c1d57cc91b": {
          "model_module": "@jupyter-widgets/controls",
          "model_name": "DescriptionStyleModel",
          "model_module_version": "1.5.0",
          "state": {
            "_model_module": "@jupyter-widgets/controls",
            "_model_module_version": "1.5.0",
            "_model_name": "DescriptionStyleModel",
            "_view_count": null,
            "_view_module": "@jupyter-widgets/base",
            "_view_module_version": "1.2.0",
            "_view_name": "StyleView",
            "description_width": ""
          }
        },
        "626b856279aa43ceb6e739cd3cca8059": {
          "model_module": "@jupyter-widgets/base",
          "model_name": "LayoutModel",
          "model_module_version": "1.2.0",
          "state": {
            "_model_module": "@jupyter-widgets/base",
            "_model_module_version": "1.2.0",
            "_model_name": "LayoutModel",
            "_view_count": null,
            "_view_module": "@jupyter-widgets/base",
            "_view_module_version": "1.2.0",
            "_view_name": "LayoutView",
            "align_content": null,
            "align_items": null,
            "align_self": null,
            "border": null,
            "bottom": null,
            "display": null,
            "flex": null,
            "flex_flow": null,
            "grid_area": null,
            "grid_auto_columns": null,
            "grid_auto_flow": null,
            "grid_auto_rows": null,
            "grid_column": null,
            "grid_gap": null,
            "grid_row": null,
            "grid_template_areas": null,
            "grid_template_columns": null,
            "grid_template_rows": null,
            "height": null,
            "justify_content": null,
            "justify_items": null,
            "left": null,
            "margin": null,
            "max_height": null,
            "max_width": null,
            "min_height": null,
            "min_width": null,
            "object_fit": null,
            "object_position": null,
            "order": null,
            "overflow": null,
            "overflow_x": null,
            "overflow_y": null,
            "padding": null,
            "right": null,
            "top": null,
            "visibility": null,
            "width": null
          }
        },
        "37ff571dd3d44aa5a75ef3b1a013df00": {
          "model_module": "@jupyter-widgets/controls",
          "model_name": "ProgressStyleModel",
          "model_module_version": "1.5.0",
          "state": {
            "_model_module": "@jupyter-widgets/controls",
            "_model_module_version": "1.5.0",
            "_model_name": "ProgressStyleModel",
            "_view_count": null,
            "_view_module": "@jupyter-widgets/base",
            "_view_module_version": "1.2.0",
            "_view_name": "StyleView",
            "bar_color": null,
            "description_width": ""
          }
        },
        "6d55ba42a6ba4c799376ffa4ca5fcc2d": {
          "model_module": "@jupyter-widgets/base",
          "model_name": "LayoutModel",
          "model_module_version": "1.2.0",
          "state": {
            "_model_module": "@jupyter-widgets/base",
            "_model_module_version": "1.2.0",
            "_model_name": "LayoutModel",
            "_view_count": null,
            "_view_module": "@jupyter-widgets/base",
            "_view_module_version": "1.2.0",
            "_view_name": "LayoutView",
            "align_content": null,
            "align_items": null,
            "align_self": null,
            "border": null,
            "bottom": null,
            "display": null,
            "flex": null,
            "flex_flow": null,
            "grid_area": null,
            "grid_auto_columns": null,
            "grid_auto_flow": null,
            "grid_auto_rows": null,
            "grid_column": null,
            "grid_gap": null,
            "grid_row": null,
            "grid_template_areas": null,
            "grid_template_columns": null,
            "grid_template_rows": null,
            "height": null,
            "justify_content": null,
            "justify_items": null,
            "left": null,
            "margin": null,
            "max_height": null,
            "max_width": null,
            "min_height": null,
            "min_width": null,
            "object_fit": null,
            "object_position": null,
            "order": null,
            "overflow": null,
            "overflow_x": null,
            "overflow_y": null,
            "padding": null,
            "right": null,
            "top": null,
            "visibility": null,
            "width": null
          }
        },
        "dea511202daa48ca955922238ba20fe8": {
          "model_module": "@jupyter-widgets/controls",
          "model_name": "DescriptionStyleModel",
          "model_module_version": "1.5.0",
          "state": {
            "_model_module": "@jupyter-widgets/controls",
            "_model_module_version": "1.5.0",
            "_model_name": "DescriptionStyleModel",
            "_view_count": null,
            "_view_module": "@jupyter-widgets/base",
            "_view_module_version": "1.2.0",
            "_view_name": "StyleView",
            "description_width": ""
          }
        },
        "7cd4f5aeb30f4b249ef0afaa4107eaeb": {
          "model_module": "@jupyter-widgets/controls",
          "model_name": "HBoxModel",
          "model_module_version": "1.5.0",
          "state": {
            "_dom_classes": [],
            "_model_module": "@jupyter-widgets/controls",
            "_model_module_version": "1.5.0",
            "_model_name": "HBoxModel",
            "_view_count": null,
            "_view_module": "@jupyter-widgets/controls",
            "_view_module_version": "1.5.0",
            "_view_name": "HBoxView",
            "box_style": "",
            "children": [
              "IPY_MODEL_eee8f7279c044eb7836331b477f8b55d",
              "IPY_MODEL_d2cd31661582425eb1a586dd14ff5791",
              "IPY_MODEL_fe8a083ba50440688baa84b1157693cf"
            ],
            "layout": "IPY_MODEL_27e55fd312324678a8709d85651bbdf1"
          }
        },
        "eee8f7279c044eb7836331b477f8b55d": {
          "model_module": "@jupyter-widgets/controls",
          "model_name": "HTMLModel",
          "model_module_version": "1.5.0",
          "state": {
            "_dom_classes": [],
            "_model_module": "@jupyter-widgets/controls",
            "_model_module_version": "1.5.0",
            "_model_name": "HTMLModel",
            "_view_count": null,
            "_view_module": "@jupyter-widgets/controls",
            "_view_module_version": "1.5.0",
            "_view_name": "HTMLView",
            "description": "",
            "description_tooltip": null,
            "layout": "IPY_MODEL_ef2a584b8d174aa6bc6c8570583da19e",
            "placeholder": "​",
            "style": "IPY_MODEL_bc46b73dd37b468c9b2bbca79dbc1373",
            "value": "Generating train examples...: 100%"
          }
        },
        "d2cd31661582425eb1a586dd14ff5791": {
          "model_module": "@jupyter-widgets/controls",
          "model_name": "FloatProgressModel",
          "model_module_version": "1.5.0",
          "state": {
            "_dom_classes": [],
            "_model_module": "@jupyter-widgets/controls",
            "_model_module_version": "1.5.0",
            "_model_name": "FloatProgressModel",
            "_view_count": null,
            "_view_module": "@jupyter-widgets/controls",
            "_view_module_version": "1.5.0",
            "_view_name": "ProgressView",
            "bar_style": "",
            "description": "",
            "description_tooltip": null,
            "layout": "IPY_MODEL_756291b5f6a040058ccf7d456dbf8a33",
            "max": 100000,
            "min": 0,
            "orientation": "horizontal",
            "style": "IPY_MODEL_90a18692b33f482a94208b13fa856bc1",
            "value": 100000
          }
        },
        "fe8a083ba50440688baa84b1157693cf": {
          "model_module": "@jupyter-widgets/controls",
          "model_name": "HTMLModel",
          "model_module_version": "1.5.0",
          "state": {
            "_dom_classes": [],
            "_model_module": "@jupyter-widgets/controls",
            "_model_module_version": "1.5.0",
            "_model_name": "HTMLModel",
            "_view_count": null,
            "_view_module": "@jupyter-widgets/controls",
            "_view_module_version": "1.5.0",
            "_view_name": "HTMLView",
            "description": "",
            "description_tooltip": null,
            "layout": "IPY_MODEL_0ea59763e4264806874edf88a31d146a",
            "placeholder": "​",
            "style": "IPY_MODEL_4c6d2156206e4abf8bba9d1c049d1b93",
            "value": " 99834/100000 [00:49&lt;00:00, 1923.44 examples/s]"
          }
        },
        "27e55fd312324678a8709d85651bbdf1": {
          "model_module": "@jupyter-widgets/base",
          "model_name": "LayoutModel",
          "model_module_version": "1.2.0",
          "state": {
            "_model_module": "@jupyter-widgets/base",
            "_model_module_version": "1.2.0",
            "_model_name": "LayoutModel",
            "_view_count": null,
            "_view_module": "@jupyter-widgets/base",
            "_view_module_version": "1.2.0",
            "_view_name": "LayoutView",
            "align_content": null,
            "align_items": null,
            "align_self": null,
            "border": null,
            "bottom": null,
            "display": null,
            "flex": null,
            "flex_flow": null,
            "grid_area": null,
            "grid_auto_columns": null,
            "grid_auto_flow": null,
            "grid_auto_rows": null,
            "grid_column": null,
            "grid_gap": null,
            "grid_row": null,
            "grid_template_areas": null,
            "grid_template_columns": null,
            "grid_template_rows": null,
            "height": null,
            "justify_content": null,
            "justify_items": null,
            "left": null,
            "margin": null,
            "max_height": null,
            "max_width": null,
            "min_height": null,
            "min_width": null,
            "object_fit": null,
            "object_position": null,
            "order": null,
            "overflow": null,
            "overflow_x": null,
            "overflow_y": null,
            "padding": null,
            "right": null,
            "top": null,
            "visibility": null,
            "width": null
          }
        },
        "ef2a584b8d174aa6bc6c8570583da19e": {
          "model_module": "@jupyter-widgets/base",
          "model_name": "LayoutModel",
          "model_module_version": "1.2.0",
          "state": {
            "_model_module": "@jupyter-widgets/base",
            "_model_module_version": "1.2.0",
            "_model_name": "LayoutModel",
            "_view_count": null,
            "_view_module": "@jupyter-widgets/base",
            "_view_module_version": "1.2.0",
            "_view_name": "LayoutView",
            "align_content": null,
            "align_items": null,
            "align_self": null,
            "border": null,
            "bottom": null,
            "display": null,
            "flex": null,
            "flex_flow": null,
            "grid_area": null,
            "grid_auto_columns": null,
            "grid_auto_flow": null,
            "grid_auto_rows": null,
            "grid_column": null,
            "grid_gap": null,
            "grid_row": null,
            "grid_template_areas": null,
            "grid_template_columns": null,
            "grid_template_rows": null,
            "height": null,
            "justify_content": null,
            "justify_items": null,
            "left": null,
            "margin": null,
            "max_height": null,
            "max_width": null,
            "min_height": null,
            "min_width": null,
            "object_fit": null,
            "object_position": null,
            "order": null,
            "overflow": null,
            "overflow_x": null,
            "overflow_y": null,
            "padding": null,
            "right": null,
            "top": null,
            "visibility": null,
            "width": null
          }
        },
        "bc46b73dd37b468c9b2bbca79dbc1373": {
          "model_module": "@jupyter-widgets/controls",
          "model_name": "DescriptionStyleModel",
          "model_module_version": "1.5.0",
          "state": {
            "_model_module": "@jupyter-widgets/controls",
            "_model_module_version": "1.5.0",
            "_model_name": "DescriptionStyleModel",
            "_view_count": null,
            "_view_module": "@jupyter-widgets/base",
            "_view_module_version": "1.2.0",
            "_view_name": "StyleView",
            "description_width": ""
          }
        },
        "756291b5f6a040058ccf7d456dbf8a33": {
          "model_module": "@jupyter-widgets/base",
          "model_name": "LayoutModel",
          "model_module_version": "1.2.0",
          "state": {
            "_model_module": "@jupyter-widgets/base",
            "_model_module_version": "1.2.0",
            "_model_name": "LayoutModel",
            "_view_count": null,
            "_view_module": "@jupyter-widgets/base",
            "_view_module_version": "1.2.0",
            "_view_name": "LayoutView",
            "align_content": null,
            "align_items": null,
            "align_self": null,
            "border": null,
            "bottom": null,
            "display": null,
            "flex": null,
            "flex_flow": null,
            "grid_area": null,
            "grid_auto_columns": null,
            "grid_auto_flow": null,
            "grid_auto_rows": null,
            "grid_column": null,
            "grid_gap": null,
            "grid_row": null,
            "grid_template_areas": null,
            "grid_template_columns": null,
            "grid_template_rows": null,
            "height": null,
            "justify_content": null,
            "justify_items": null,
            "left": null,
            "margin": null,
            "max_height": null,
            "max_width": null,
            "min_height": null,
            "min_width": null,
            "object_fit": null,
            "object_position": null,
            "order": null,
            "overflow": null,
            "overflow_x": null,
            "overflow_y": null,
            "padding": null,
            "right": null,
            "top": null,
            "visibility": null,
            "width": null
          }
        },
        "90a18692b33f482a94208b13fa856bc1": {
          "model_module": "@jupyter-widgets/controls",
          "model_name": "ProgressStyleModel",
          "model_module_version": "1.5.0",
          "state": {
            "_model_module": "@jupyter-widgets/controls",
            "_model_module_version": "1.5.0",
            "_model_name": "ProgressStyleModel",
            "_view_count": null,
            "_view_module": "@jupyter-widgets/base",
            "_view_module_version": "1.2.0",
            "_view_name": "StyleView",
            "bar_color": null,
            "description_width": ""
          }
        },
        "0ea59763e4264806874edf88a31d146a": {
          "model_module": "@jupyter-widgets/base",
          "model_name": "LayoutModel",
          "model_module_version": "1.2.0",
          "state": {
            "_model_module": "@jupyter-widgets/base",
            "_model_module_version": "1.2.0",
            "_model_name": "LayoutModel",
            "_view_count": null,
            "_view_module": "@jupyter-widgets/base",
            "_view_module_version": "1.2.0",
            "_view_name": "LayoutView",
            "align_content": null,
            "align_items": null,
            "align_self": null,
            "border": null,
            "bottom": null,
            "display": null,
            "flex": null,
            "flex_flow": null,
            "grid_area": null,
            "grid_auto_columns": null,
            "grid_auto_flow": null,
            "grid_auto_rows": null,
            "grid_column": null,
            "grid_gap": null,
            "grid_row": null,
            "grid_template_areas": null,
            "grid_template_columns": null,
            "grid_template_rows": null,
            "height": null,
            "justify_content": null,
            "justify_items": null,
            "left": null,
            "margin": null,
            "max_height": null,
            "max_width": null,
            "min_height": null,
            "min_width": null,
            "object_fit": null,
            "object_position": null,
            "order": null,
            "overflow": null,
            "overflow_x": null,
            "overflow_y": null,
            "padding": null,
            "right": null,
            "top": null,
            "visibility": null,
            "width": null
          }
        },
        "4c6d2156206e4abf8bba9d1c049d1b93": {
          "model_module": "@jupyter-widgets/controls",
          "model_name": "DescriptionStyleModel",
          "model_module_version": "1.5.0",
          "state": {
            "_model_module": "@jupyter-widgets/controls",
            "_model_module_version": "1.5.0",
            "_model_name": "DescriptionStyleModel",
            "_view_count": null,
            "_view_module": "@jupyter-widgets/base",
            "_view_module_version": "1.2.0",
            "_view_name": "StyleView",
            "description_width": ""
          }
        },
        "8ebb201ef1ab4217b5ec1086288a123d": {
          "model_module": "@jupyter-widgets/controls",
          "model_name": "HBoxModel",
          "model_module_version": "1.5.0",
          "state": {
            "_dom_classes": [],
            "_model_module": "@jupyter-widgets/controls",
            "_model_module_version": "1.5.0",
            "_model_name": "HBoxModel",
            "_view_count": null,
            "_view_module": "@jupyter-widgets/controls",
            "_view_module_version": "1.5.0",
            "_view_name": "HBoxView",
            "box_style": "",
            "children": [
              "IPY_MODEL_966a2e8db80a416facf68825e41ed1f2",
              "IPY_MODEL_a16e6dd4c97d426085e1066039c215c2",
              "IPY_MODEL_b83dc9cd516947099a44ad8cfdfc38de"
            ],
            "layout": "IPY_MODEL_c7ead969373c4792b6494b688007dcb8"
          }
        },
        "966a2e8db80a416facf68825e41ed1f2": {
          "model_module": "@jupyter-widgets/controls",
          "model_name": "HTMLModel",
          "model_module_version": "1.5.0",
          "state": {
            "_dom_classes": [],
            "_model_module": "@jupyter-widgets/controls",
            "_model_module_version": "1.5.0",
            "_model_name": "HTMLModel",
            "_view_count": null,
            "_view_module": "@jupyter-widgets/controls",
            "_view_module_version": "1.5.0",
            "_view_name": "HTMLView",
            "description": "",
            "description_tooltip": null,
            "layout": "IPY_MODEL_a1d264c611314906ae85d88e3514e32b",
            "placeholder": "​",
            "style": "IPY_MODEL_4724166a5ff447b19e723bd441c4fcdc",
            "value": "Shuffling ~/tensorflow_datasets/movielens/100k-ratings/0.1.1.incompleteAXD1CU/movielens-train.tfrecord*...:  66%"
          }
        },
        "a16e6dd4c97d426085e1066039c215c2": {
          "model_module": "@jupyter-widgets/controls",
          "model_name": "FloatProgressModel",
          "model_module_version": "1.5.0",
          "state": {
            "_dom_classes": [],
            "_model_module": "@jupyter-widgets/controls",
            "_model_module_version": "1.5.0",
            "_model_name": "FloatProgressModel",
            "_view_count": null,
            "_view_module": "@jupyter-widgets/controls",
            "_view_module_version": "1.5.0",
            "_view_name": "ProgressView",
            "bar_style": "",
            "description": "",
            "description_tooltip": null,
            "layout": "IPY_MODEL_0351280964534bc9908128d59844cc0e",
            "max": 100000,
            "min": 0,
            "orientation": "horizontal",
            "style": "IPY_MODEL_3ff098c4fa7c4c468591b419a38981ef",
            "value": 100000
          }
        },
        "b83dc9cd516947099a44ad8cfdfc38de": {
          "model_module": "@jupyter-widgets/controls",
          "model_name": "HTMLModel",
          "model_module_version": "1.5.0",
          "state": {
            "_dom_classes": [],
            "_model_module": "@jupyter-widgets/controls",
            "_model_module_version": "1.5.0",
            "_model_name": "HTMLModel",
            "_view_count": null,
            "_view_module": "@jupyter-widgets/controls",
            "_view_module_version": "1.5.0",
            "_view_name": "HTMLView",
            "description": "",
            "description_tooltip": null,
            "layout": "IPY_MODEL_b123fc6740df4dc18ea4a761ed8be783",
            "placeholder": "​",
            "style": "IPY_MODEL_e461142e7950419ba606722046f46d66",
            "value": " 66186/100000 [00:00&lt;00:00, 224876.08 examples/s]"
          }
        },
        "c7ead969373c4792b6494b688007dcb8": {
          "model_module": "@jupyter-widgets/base",
          "model_name": "LayoutModel",
          "model_module_version": "1.2.0",
          "state": {
            "_model_module": "@jupyter-widgets/base",
            "_model_module_version": "1.2.0",
            "_model_name": "LayoutModel",
            "_view_count": null,
            "_view_module": "@jupyter-widgets/base",
            "_view_module_version": "1.2.0",
            "_view_name": "LayoutView",
            "align_content": null,
            "align_items": null,
            "align_self": null,
            "border": null,
            "bottom": null,
            "display": null,
            "flex": null,
            "flex_flow": null,
            "grid_area": null,
            "grid_auto_columns": null,
            "grid_auto_flow": null,
            "grid_auto_rows": null,
            "grid_column": null,
            "grid_gap": null,
            "grid_row": null,
            "grid_template_areas": null,
            "grid_template_columns": null,
            "grid_template_rows": null,
            "height": null,
            "justify_content": null,
            "justify_items": null,
            "left": null,
            "margin": null,
            "max_height": null,
            "max_width": null,
            "min_height": null,
            "min_width": null,
            "object_fit": null,
            "object_position": null,
            "order": null,
            "overflow": null,
            "overflow_x": null,
            "overflow_y": null,
            "padding": null,
            "right": null,
            "top": null,
            "visibility": null,
            "width": null
          }
        },
        "a1d264c611314906ae85d88e3514e32b": {
          "model_module": "@jupyter-widgets/base",
          "model_name": "LayoutModel",
          "model_module_version": "1.2.0",
          "state": {
            "_model_module": "@jupyter-widgets/base",
            "_model_module_version": "1.2.0",
            "_model_name": "LayoutModel",
            "_view_count": null,
            "_view_module": "@jupyter-widgets/base",
            "_view_module_version": "1.2.0",
            "_view_name": "LayoutView",
            "align_content": null,
            "align_items": null,
            "align_self": null,
            "border": null,
            "bottom": null,
            "display": null,
            "flex": null,
            "flex_flow": null,
            "grid_area": null,
            "grid_auto_columns": null,
            "grid_auto_flow": null,
            "grid_auto_rows": null,
            "grid_column": null,
            "grid_gap": null,
            "grid_row": null,
            "grid_template_areas": null,
            "grid_template_columns": null,
            "grid_template_rows": null,
            "height": null,
            "justify_content": null,
            "justify_items": null,
            "left": null,
            "margin": null,
            "max_height": null,
            "max_width": null,
            "min_height": null,
            "min_width": null,
            "object_fit": null,
            "object_position": null,
            "order": null,
            "overflow": null,
            "overflow_x": null,
            "overflow_y": null,
            "padding": null,
            "right": null,
            "top": null,
            "visibility": null,
            "width": null
          }
        },
        "4724166a5ff447b19e723bd441c4fcdc": {
          "model_module": "@jupyter-widgets/controls",
          "model_name": "DescriptionStyleModel",
          "model_module_version": "1.5.0",
          "state": {
            "_model_module": "@jupyter-widgets/controls",
            "_model_module_version": "1.5.0",
            "_model_name": "DescriptionStyleModel",
            "_view_count": null,
            "_view_module": "@jupyter-widgets/base",
            "_view_module_version": "1.2.0",
            "_view_name": "StyleView",
            "description_width": ""
          }
        },
        "0351280964534bc9908128d59844cc0e": {
          "model_module": "@jupyter-widgets/base",
          "model_name": "LayoutModel",
          "model_module_version": "1.2.0",
          "state": {
            "_model_module": "@jupyter-widgets/base",
            "_model_module_version": "1.2.0",
            "_model_name": "LayoutModel",
            "_view_count": null,
            "_view_module": "@jupyter-widgets/base",
            "_view_module_version": "1.2.0",
            "_view_name": "LayoutView",
            "align_content": null,
            "align_items": null,
            "align_self": null,
            "border": null,
            "bottom": null,
            "display": null,
            "flex": null,
            "flex_flow": null,
            "grid_area": null,
            "grid_auto_columns": null,
            "grid_auto_flow": null,
            "grid_auto_rows": null,
            "grid_column": null,
            "grid_gap": null,
            "grid_row": null,
            "grid_template_areas": null,
            "grid_template_columns": null,
            "grid_template_rows": null,
            "height": null,
            "justify_content": null,
            "justify_items": null,
            "left": null,
            "margin": null,
            "max_height": null,
            "max_width": null,
            "min_height": null,
            "min_width": null,
            "object_fit": null,
            "object_position": null,
            "order": null,
            "overflow": null,
            "overflow_x": null,
            "overflow_y": null,
            "padding": null,
            "right": null,
            "top": null,
            "visibility": null,
            "width": null
          }
        },
        "3ff098c4fa7c4c468591b419a38981ef": {
          "model_module": "@jupyter-widgets/controls",
          "model_name": "ProgressStyleModel",
          "model_module_version": "1.5.0",
          "state": {
            "_model_module": "@jupyter-widgets/controls",
            "_model_module_version": "1.5.0",
            "_model_name": "ProgressStyleModel",
            "_view_count": null,
            "_view_module": "@jupyter-widgets/base",
            "_view_module_version": "1.2.0",
            "_view_name": "StyleView",
            "bar_color": null,
            "description_width": ""
          }
        },
        "b123fc6740df4dc18ea4a761ed8be783": {
          "model_module": "@jupyter-widgets/base",
          "model_name": "LayoutModel",
          "model_module_version": "1.2.0",
          "state": {
            "_model_module": "@jupyter-widgets/base",
            "_model_module_version": "1.2.0",
            "_model_name": "LayoutModel",
            "_view_count": null,
            "_view_module": "@jupyter-widgets/base",
            "_view_module_version": "1.2.0",
            "_view_name": "LayoutView",
            "align_content": null,
            "align_items": null,
            "align_self": null,
            "border": null,
            "bottom": null,
            "display": null,
            "flex": null,
            "flex_flow": null,
            "grid_area": null,
            "grid_auto_columns": null,
            "grid_auto_flow": null,
            "grid_auto_rows": null,
            "grid_column": null,
            "grid_gap": null,
            "grid_row": null,
            "grid_template_areas": null,
            "grid_template_columns": null,
            "grid_template_rows": null,
            "height": null,
            "justify_content": null,
            "justify_items": null,
            "left": null,
            "margin": null,
            "max_height": null,
            "max_width": null,
            "min_height": null,
            "min_width": null,
            "object_fit": null,
            "object_position": null,
            "order": null,
            "overflow": null,
            "overflow_x": null,
            "overflow_y": null,
            "padding": null,
            "right": null,
            "top": null,
            "visibility": null,
            "width": null
          }
        },
        "e461142e7950419ba606722046f46d66": {
          "model_module": "@jupyter-widgets/controls",
          "model_name": "DescriptionStyleModel",
          "model_module_version": "1.5.0",
          "state": {
            "_model_module": "@jupyter-widgets/controls",
            "_model_module_version": "1.5.0",
            "_model_name": "DescriptionStyleModel",
            "_view_count": null,
            "_view_module": "@jupyter-widgets/base",
            "_view_module_version": "1.2.0",
            "_view_name": "StyleView",
            "description_width": ""
          }
        }
      }
    }
  },
  "cells": [
    {
      "cell_type": "markdown",
      "metadata": {
        "id": "view-in-github",
        "colab_type": "text"
      },
      "source": [
        "<a href=\"https://colab.research.google.com/github/bellazeng2016/playground/blob/main/recommendation_sys.ipynb\" target=\"_parent\"><img src=\"https://colab.research.google.com/assets/colab-badge.svg\" alt=\"Open In Colab\"/></a>"
      ]
    },
    {
      "cell_type": "code",
      "execution_count": null,
      "metadata": {
        "id": "R-YZbqS2G54k"
      },
      "outputs": [],
      "source": [
        "#!pip install -q --upgrade tensorflow-datasets"
      ]
    },
    {
      "cell_type": "code",
      "source": [
        "import tensorflow_datasets as tfds"
      ],
      "metadata": {
        "id": "KikoLmcLHpps"
      },
      "execution_count": 1,
      "outputs": []
    },
    {
      "cell_type": "code",
      "source": [
        "# Download the data, save them as `tfrecord` files, load the `tfrecord` files\n",
        "# and create the `tf.data.Dataset` object containing the dataset.\n",
        "ratings_dataset, ratings_dataset_info = tfds.load(\n",
        "    name='movielens/100k-ratings',\n",
        "    # MovieLens dataset is not splitted into `train` and `test` sets by default.\n",
        "    # So TFDS has put it all into `train` split. We load it completely and split\n",
        "    # it manually.\n",
        "    split ='train',\n",
        "    with_info= True\n",
        ")"
      ],
      "metadata": {
        "colab": {
          "base_uri": "https://localhost:8080/",
          "height": 148,
          "referenced_widgets": [
            "44002a5705414fc9a0f260e23fa5c42a",
            "a4b7a2e98fe641da98c43d5ddbf02a07",
            "855af71570bc48d5a9343c8557bb6cbe",
            "ab0f970adae0415498d6508630f4191e",
            "9b6ec73b444948b1908ce5fbdada8e27",
            "d96f1bebbd6d4c6ca07f0895a32bda26",
            "f18b8981804640728fc04f11aa77b6c4",
            "39224879b561441da4408a8d6dc95246",
            "cc5ee095dc8c431fa8cd2d697c38932d",
            "6e18252d62b844a7b84a2f5f4c9143fa",
            "2fbe6bd0670940859e550a7c10bdca42",
            "0b68defeaee6446c820a638c06eddb70",
            "c95410717fb04f2b8630badb96948c3d",
            "09f6ed8462ec47ad83da54637d4afb95",
            "ef05a866b7fb4815b6b1eb087f3ace32",
            "140f82b47c6641ea8cc018b937e1b5b6",
            "80f4ab83c19c458386a6e39ee92343ba",
            "39fb73d6a8874667bfa0815c61a33748",
            "f316789ee1444bbca95952de4ed23784",
            "aad9d33fe4ae44269ce75d3f4192d007",
            "34a231f6c79d46feb841a03083f851c2",
            "df1db18685de4973b1d2c1d05f7ef735",
            "a56d605c26784faaa5380c8a2f6f4734",
            "042ad00f355f4bdfad7e8a9c3009cd11",
            "945c789b74ed4505aee27cc8c2124acd",
            "16fd1bc2c7694a6cbac588a48f041265",
            "087d7ab10b9f4dbe96e042081a6138eb",
            "359e9cb8f1944ffc8f82257d80501a01",
            "e7884cbcf9434dfea75634a1a4e27291",
            "3eedb84a760f47bfa49c15888913ce18",
            "0cb84118c1a74f1b883f1d909543dd7f",
            "7830fbfcb8334723bf6134d87ed15df4",
            "98f264977e5640618755c3e848993bd4",
            "aa65e498cd78407484ba4ca01c4ac5a3",
            "57f2ea6f99c4453e9041a9844306d760",
            "2412363ef9e64efb8493d9360761575d",
            "8c35bbf1820d4f0daad26285ee0effb1",
            "a49f1b947d0f466d9d3db401a3b3eb96",
            "7ec0eeff6e844ae69c57af6522581693",
            "3d94c9c9788b46009769e1c1d57cc91b",
            "626b856279aa43ceb6e739cd3cca8059",
            "37ff571dd3d44aa5a75ef3b1a013df00",
            "6d55ba42a6ba4c799376ffa4ca5fcc2d",
            "dea511202daa48ca955922238ba20fe8",
            "7cd4f5aeb30f4b249ef0afaa4107eaeb",
            "eee8f7279c044eb7836331b477f8b55d",
            "d2cd31661582425eb1a586dd14ff5791",
            "fe8a083ba50440688baa84b1157693cf",
            "27e55fd312324678a8709d85651bbdf1",
            "ef2a584b8d174aa6bc6c8570583da19e",
            "bc46b73dd37b468c9b2bbca79dbc1373",
            "756291b5f6a040058ccf7d456dbf8a33",
            "90a18692b33f482a94208b13fa856bc1",
            "0ea59763e4264806874edf88a31d146a",
            "4c6d2156206e4abf8bba9d1c049d1b93",
            "8ebb201ef1ab4217b5ec1086288a123d",
            "966a2e8db80a416facf68825e41ed1f2",
            "a16e6dd4c97d426085e1066039c215c2",
            "b83dc9cd516947099a44ad8cfdfc38de",
            "c7ead969373c4792b6494b688007dcb8",
            "a1d264c611314906ae85d88e3514e32b",
            "4724166a5ff447b19e723bd441c4fcdc",
            "0351280964534bc9908128d59844cc0e",
            "3ff098c4fa7c4c468591b419a38981ef",
            "b123fc6740df4dc18ea4a761ed8be783",
            "e461142e7950419ba606722046f46d66"
          ]
        },
        "id": "cQDX6I7tHpsS",
        "outputId": "004bc02a-76f6-4f5a-f20e-b8aaa62795fc"
      },
      "execution_count": 2,
      "outputs": [
        {
          "output_type": "stream",
          "name": "stdout",
          "text": [
            "\u001b[1mDownloading and preparing dataset 4.70 MiB (download: 4.70 MiB, generated: 32.41 MiB, total: 37.10 MiB) to ~/tensorflow_datasets/movielens/100k-ratings/0.1.1...\u001b[0m\n"
          ]
        },
        {
          "output_type": "display_data",
          "data": {
            "text/plain": [
              "Dl Completed...: 0 url [00:00, ? url/s]"
            ],
            "application/vnd.jupyter.widget-view+json": {
              "version_major": 2,
              "version_minor": 0,
              "model_id": "44002a5705414fc9a0f260e23fa5c42a"
            }
          },
          "metadata": {}
        },
        {
          "output_type": "display_data",
          "data": {
            "text/plain": [
              "Dl Size...: 0 MiB [00:00, ? MiB/s]"
            ],
            "application/vnd.jupyter.widget-view+json": {
              "version_major": 2,
              "version_minor": 0,
              "model_id": "0b68defeaee6446c820a638c06eddb70"
            }
          },
          "metadata": {}
        },
        {
          "output_type": "display_data",
          "data": {
            "text/plain": [
              "Extraction completed...: 0 file [00:00, ? file/s]"
            ],
            "application/vnd.jupyter.widget-view+json": {
              "version_major": 2,
              "version_minor": 0,
              "model_id": "a56d605c26784faaa5380c8a2f6f4734"
            }
          },
          "metadata": {}
        },
        {
          "output_type": "display_data",
          "data": {
            "text/plain": [
              "Generating splits...:   0%|          | 0/1 [00:00<?, ? splits/s]"
            ],
            "application/vnd.jupyter.widget-view+json": {
              "version_major": 2,
              "version_minor": 0,
              "model_id": "aa65e498cd78407484ba4ca01c4ac5a3"
            }
          },
          "metadata": {}
        },
        {
          "output_type": "display_data",
          "data": {
            "text/plain": [
              "Generating train examples...:   0%|          | 0/100000 [00:00<?, ? examples/s]"
            ],
            "application/vnd.jupyter.widget-view+json": {
              "version_major": 2,
              "version_minor": 0,
              "model_id": "7cd4f5aeb30f4b249ef0afaa4107eaeb"
            }
          },
          "metadata": {}
        },
        {
          "output_type": "display_data",
          "data": {
            "text/plain": [
              "Shuffling ~/tensorflow_datasets/movielens/100k-ratings/0.1.1.incompleteAXD1CU/movielens-train.tfrecord*...:   …"
            ],
            "application/vnd.jupyter.widget-view+json": {
              "version_major": 2,
              "version_minor": 0,
              "model_id": "8ebb201ef1ab4217b5ec1086288a123d"
            }
          },
          "metadata": {}
        },
        {
          "output_type": "stream",
          "name": "stdout",
          "text": [
            "\u001b[1mDataset movielens downloaded and prepared to ~/tensorflow_datasets/movielens/100k-ratings/0.1.1. Subsequent calls will reuse this data.\u001b[0m\n"
          ]
        }
      ]
    },
    {
      "cell_type": "code",
      "source": [
        "import tensorflow as tf"
      ],
      "metadata": {
        "id": "LTwmOcX0HpvC"
      },
      "execution_count": 3,
      "outputs": []
    },
    {
      "cell_type": "code",
      "source": [
        "assert isinstance(ratings_dataset, tf.data.Dataset)"
      ],
      "metadata": {
        "id": "j20S2PvyHpxT"
      },
      "execution_count": 4,
      "outputs": []
    },
    {
      "cell_type": "code",
      "source": [
        "print(f'ratings_dataset size is {ratings_dataset.__len__()}')"
      ],
      "metadata": {
        "colab": {
          "base_uri": "https://localhost:8080/"
        },
        "id": "cMeKBksyHp0L",
        "outputId": "1175f3d4-b48d-477f-c7e7-53de5d525045"
      },
      "execution_count": 5,
      "outputs": [
        {
          "output_type": "stream",
          "name": "stdout",
          "text": [
            "ratings_dataset size is 100000\n"
          ]
        }
      ]
    },
    {
      "cell_type": "code",
      "source": [
        "print(tfds.as_dataframe(ratings_dataset.take(5), ratings_dataset_info))"
      ],
      "metadata": {
        "colab": {
          "base_uri": "https://localhost:8080/"
        },
        "id": "D2AMoxPLHp2j",
        "outputId": "e5262dfd-b931-4afa-b5c2-3e99bdbf263a"
      },
      "execution_count": 6,
      "outputs": [
        {
          "output_type": "stream",
          "name": "stdout",
          "text": [
            "   bucketized_user_age movie_genres movie_id  \\\n",
            "0                 45.0          [7]   b'357'   \n",
            "1                 25.0      [4, 14]   b'709'   \n",
            "2                 18.0          [4]   b'412'   \n",
            "3                 50.0       [5, 7]    b'56'   \n",
            "4                 50.0     [10, 16]   b'895'   \n",
            "\n",
            "                                 movie_title  raw_user_age  timestamp  \\\n",
            "0  b\"One Flew Over the Cuckoo's Nest (1975)\"          46.0  879024327   \n",
            "1                b'Strictly Ballroom (1992)'          32.0  875654590   \n",
            "2             b'Very Brady Sequel, A (1996)'          24.0  882075110   \n",
            "3                     b'Pulp Fiction (1994)'          50.0  883326919   \n",
            "4                         b'Scream 2 (1997)'          55.0  891409199   \n",
            "\n",
            "   user_gender user_id  user_occupation_label user_occupation_text  \\\n",
            "0         True  b'138'                      4            b'doctor'   \n",
            "1         True   b'92'                      5     b'entertainment'   \n",
            "2         True  b'301'                     17           b'student'   \n",
            "3         True   b'60'                      4        b'healthcare'   \n",
            "4         True  b'197'                     18        b'technician'   \n",
            "\n",
            "   user_rating user_zip_code  \n",
            "0          4.0      b'53211'  \n",
            "1          2.0      b'80525'  \n",
            "2          4.0      b'55439'  \n",
            "3          4.0      b'06472'  \n",
            "4          3.0      b'75094'  \n"
          ]
        }
      ]
    },
    {
      "cell_type": "code",
      "source": [
        "# feature selection\n",
        "ratings_dataset = ratings_dataset.map( lambda rating: {'user_id': rating['user_id'],\n",
        "                                     'movie_id': rating['movie_id'],\n",
        "                                     'movie_title': rating['movie_title'],\n",
        "                                     'user_rating': rating['user_rating'],\n",
        "                                     'timestamp': rating['timestamp']})"
      ],
      "metadata": {
        "id": "WQt4xpnyHp5E"
      },
      "execution_count": 7,
      "outputs": []
    },
    {
      "cell_type": "code",
      "source": [
        "tfds.as_dataframe(ratings_dataset.take(5), ratings_dataset_info)"
      ],
      "metadata": {
        "colab": {
          "base_uri": "https://localhost:8080/",
          "height": 144
        },
        "id": "8dUHpwzjHp77",
        "outputId": "3bbc0e5c-d9ae-4105-c7a2-b0c54761f1ec"
      },
      "execution_count": 8,
      "outputs": [
        {
          "output_type": "execute_result",
          "data": {
            "text/plain": [
              "  movie_id                                movie_title  timestamp user_id  \\\n",
              "0   b'357'  b\"One Flew Over the Cuckoo's Nest (1975)\"  879024327  b'138'   \n",
              "1   b'709'                b'Strictly Ballroom (1992)'  875654590   b'92'   \n",
              "2   b'412'             b'Very Brady Sequel, A (1996)'  882075110  b'301'   \n",
              "3    b'56'                     b'Pulp Fiction (1994)'  883326919   b'60'   \n",
              "4   b'895'                         b'Scream 2 (1997)'  891409199  b'197'   \n",
              "\n",
              "   user_rating  \n",
              "0          4.0  \n",
              "1          2.0  \n",
              "2          4.0  \n",
              "3          4.0  \n",
              "4          3.0  "
            ],
            "text/html": [
              "\n",
              "  <div id=\"df-7c996b1c-e21a-4348-a80c-ab769a361ce8\">\n",
              "    <div class=\"colab-df-container\">\n",
              "      <style type=\"text/css\">\n",
              "</style>\n",
              "<table id=\"T_8afe1_\">\n",
              "  <thead>\n",
              "    <tr>\n",
              "      <th class=\"blank level0\" >&nbsp;</th>\n",
              "      <th class=\"col_heading level0 col0\" >movie_id</th>\n",
              "      <th class=\"col_heading level0 col1\" >movie_title</th>\n",
              "      <th class=\"col_heading level0 col2\" >timestamp</th>\n",
              "      <th class=\"col_heading level0 col3\" >user_id</th>\n",
              "      <th class=\"col_heading level0 col4\" >user_rating</th>\n",
              "    </tr>\n",
              "  </thead>\n",
              "  <tbody>\n",
              "    <tr>\n",
              "      <th id=\"T_8afe1_level0_row0\" class=\"row_heading level0 row0\" >0</th>\n",
              "      <td id=\"T_8afe1_row0_col0\" class=\"data row0 col0\" >b&#x27;357&#x27;</td>\n",
              "      <td id=\"T_8afe1_row0_col1\" class=\"data row0 col1\" >b&quot;One Flew Over the Cuckoo&#x27;s Nest (1975)&quot;</td>\n",
              "      <td id=\"T_8afe1_row0_col2\" class=\"data row0 col2\" >879024327</td>\n",
              "      <td id=\"T_8afe1_row0_col3\" class=\"data row0 col3\" >b&#x27;138&#x27;</td>\n",
              "      <td id=\"T_8afe1_row0_col4\" class=\"data row0 col4\" >4.0</td>\n",
              "    </tr>\n",
              "    <tr>\n",
              "      <th id=\"T_8afe1_level0_row1\" class=\"row_heading level0 row1\" >1</th>\n",
              "      <td id=\"T_8afe1_row1_col0\" class=\"data row1 col0\" >b&#x27;709&#x27;</td>\n",
              "      <td id=\"T_8afe1_row1_col1\" class=\"data row1 col1\" >b&#x27;Strictly Ballroom (1992)&#x27;</td>\n",
              "      <td id=\"T_8afe1_row1_col2\" class=\"data row1 col2\" >875654590</td>\n",
              "      <td id=\"T_8afe1_row1_col3\" class=\"data row1 col3\" >b&#x27;92&#x27;</td>\n",
              "      <td id=\"T_8afe1_row1_col4\" class=\"data row1 col4\" >2.0</td>\n",
              "    </tr>\n",
              "    <tr>\n",
              "      <th id=\"T_8afe1_level0_row2\" class=\"row_heading level0 row2\" >2</th>\n",
              "      <td id=\"T_8afe1_row2_col0\" class=\"data row2 col0\" >b&#x27;412&#x27;</td>\n",
              "      <td id=\"T_8afe1_row2_col1\" class=\"data row2 col1\" >b&#x27;Very Brady Sequel, A (1996)&#x27;</td>\n",
              "      <td id=\"T_8afe1_row2_col2\" class=\"data row2 col2\" >882075110</td>\n",
              "      <td id=\"T_8afe1_row2_col3\" class=\"data row2 col3\" >b&#x27;301&#x27;</td>\n",
              "      <td id=\"T_8afe1_row2_col4\" class=\"data row2 col4\" >4.0</td>\n",
              "    </tr>\n",
              "    <tr>\n",
              "      <th id=\"T_8afe1_level0_row3\" class=\"row_heading level0 row3\" >3</th>\n",
              "      <td id=\"T_8afe1_row3_col0\" class=\"data row3 col0\" >b&#x27;56&#x27;</td>\n",
              "      <td id=\"T_8afe1_row3_col1\" class=\"data row3 col1\" >b&#x27;Pulp Fiction (1994)&#x27;</td>\n",
              "      <td id=\"T_8afe1_row3_col2\" class=\"data row3 col2\" >883326919</td>\n",
              "      <td id=\"T_8afe1_row3_col3\" class=\"data row3 col3\" >b&#x27;60&#x27;</td>\n",
              "      <td id=\"T_8afe1_row3_col4\" class=\"data row3 col4\" >4.0</td>\n",
              "    </tr>\n",
              "    <tr>\n",
              "      <th id=\"T_8afe1_level0_row4\" class=\"row_heading level0 row4\" >4</th>\n",
              "      <td id=\"T_8afe1_row4_col0\" class=\"data row4 col0\" >b&#x27;895&#x27;</td>\n",
              "      <td id=\"T_8afe1_row4_col1\" class=\"data row4 col1\" >b&#x27;Scream 2 (1997)&#x27;</td>\n",
              "      <td id=\"T_8afe1_row4_col2\" class=\"data row4 col2\" >891409199</td>\n",
              "      <td id=\"T_8afe1_row4_col3\" class=\"data row4 col3\" >b&#x27;197&#x27;</td>\n",
              "      <td id=\"T_8afe1_row4_col4\" class=\"data row4 col4\" >3.0</td>\n",
              "    </tr>\n",
              "  </tbody>\n",
              "</table>\n",
              "\n",
              "      <button class=\"colab-df-convert\" onclick=\"convertToInteractive('df-7c996b1c-e21a-4348-a80c-ab769a361ce8')\"\n",
              "              title=\"Convert this dataframe to an interactive table.\"\n",
              "              style=\"display:none;\">\n",
              "        \n",
              "  <svg xmlns=\"http://www.w3.org/2000/svg\" height=\"24px\"viewBox=\"0 0 24 24\"\n",
              "       width=\"24px\">\n",
              "    <path d=\"M0 0h24v24H0V0z\" fill=\"none\"/>\n",
              "    <path d=\"M18.56 5.44l.94 2.06.94-2.06 2.06-.94-2.06-.94-.94-2.06-.94 2.06-2.06.94zm-11 1L8.5 8.5l.94-2.06 2.06-.94-2.06-.94L8.5 2.5l-.94 2.06-2.06.94zm10 10l.94 2.06.94-2.06 2.06-.94-2.06-.94-.94-2.06-.94 2.06-2.06.94z\"/><path d=\"M17.41 7.96l-1.37-1.37c-.4-.4-.92-.59-1.43-.59-.52 0-1.04.2-1.43.59L10.3 9.45l-7.72 7.72c-.78.78-.78 2.05 0 2.83L4 21.41c.39.39.9.59 1.41.59.51 0 1.02-.2 1.41-.59l7.78-7.78 2.81-2.81c.8-.78.8-2.07 0-2.86zM5.41 20L4 18.59l7.72-7.72 1.47 1.35L5.41 20z\"/>\n",
              "  </svg>\n",
              "      </button>\n",
              "      \n",
              "  <style>\n",
              "    .colab-df-container {\n",
              "      display:flex;\n",
              "      flex-wrap:wrap;\n",
              "      gap: 12px;\n",
              "    }\n",
              "\n",
              "    .colab-df-convert {\n",
              "      background-color: #E8F0FE;\n",
              "      border: none;\n",
              "      border-radius: 50%;\n",
              "      cursor: pointer;\n",
              "      display: none;\n",
              "      fill: #1967D2;\n",
              "      height: 32px;\n",
              "      padding: 0 0 0 0;\n",
              "      width: 32px;\n",
              "    }\n",
              "\n",
              "    .colab-df-convert:hover {\n",
              "      background-color: #E2EBFA;\n",
              "      box-shadow: 0px 1px 2px rgba(60, 64, 67, 0.3), 0px 1px 3px 1px rgba(60, 64, 67, 0.15);\n",
              "      fill: #174EA6;\n",
              "    }\n",
              "\n",
              "    [theme=dark] .colab-df-convert {\n",
              "      background-color: #3B4455;\n",
              "      fill: #D2E3FC;\n",
              "    }\n",
              "\n",
              "    [theme=dark] .colab-df-convert:hover {\n",
              "      background-color: #434B5C;\n",
              "      box-shadow: 0px 1px 3px 1px rgba(0, 0, 0, 0.15);\n",
              "      filter: drop-shadow(0px 1px 2px rgba(0, 0, 0, 0.3));\n",
              "      fill: #FFFFFF;\n",
              "    }\n",
              "  </style>\n",
              "\n",
              "      <script>\n",
              "        const buttonEl =\n",
              "          document.querySelector('#df-7c996b1c-e21a-4348-a80c-ab769a361ce8 button.colab-df-convert');\n",
              "        buttonEl.style.display =\n",
              "          google.colab.kernel.accessAllowed ? 'block' : 'none';\n",
              "\n",
              "        async function convertToInteractive(key) {\n",
              "          const element = document.querySelector('#df-7c996b1c-e21a-4348-a80c-ab769a361ce8');\n",
              "          const dataTable =\n",
              "            await google.colab.kernel.invokeFunction('convertToInteractive',\n",
              "                                                     [key], {});\n",
              "          if (!dataTable) return;\n",
              "\n",
              "          const docLinkHtml = 'Like what you see? Visit the ' +\n",
              "            '<a target=\"_blank\" href=https://colab.research.google.com/notebooks/data_table.ipynb>data table notebook</a>'\n",
              "            + ' to learn more about interactive tables.';\n",
              "          element.innerHTML = '';\n",
              "          dataTable['output_type'] = 'display_data';\n",
              "          await google.colab.output.renderOutput(dataTable, element);\n",
              "          const docLink = document.createElement('div');\n",
              "          docLink.innerHTML = docLinkHtml;\n",
              "          element.appendChild(docLink);\n",
              "        }\n",
              "      </script>\n",
              "    </div>\n",
              "  </div>\n",
              "  "
            ]
          },
          "metadata": {},
          "execution_count": 8
        }
      ]
    },
    {
      "cell_type": "code",
      "source": [
        "## split dataset randomly (80% for train and 20% for test)\n",
        "trainset_size = 0.8 * ratings_dataset.__len__().numpy()\n",
        "\n",
        "tf.random.set_seed(42)\n",
        "#shuffle the elements of the dataset randomly\n",
        "ratings_dataset_shuffled = ratings_dataset.shuffle(\n",
        "      buffer_size=100_000,\n",
        "      seed =42,\n",
        "      reshuffle_each_iteration=False\n",
        ")"
      ],
      "metadata": {
        "id": "CW4DNxzFHp-j"
      },
      "execution_count": 9,
      "outputs": []
    },
    {
      "cell_type": "code",
      "source": [
        "tfds.as_dataframe(ratings_dataset_shuffled.take(10))"
      ],
      "metadata": {
        "id": "ATkn8XVJN-Dm",
        "outputId": "a5d19eca-d232-49d5-c58a-ac5b30a8c5c1",
        "colab": {
          "base_uri": "https://localhost:8080/",
          "height": 249
        }
      },
      "execution_count": 10,
      "outputs": [
        {
          "output_type": "execute_result",
          "data": {
            "text/plain": [
              "  movie_id                    movie_title  timestamp user_id  user_rating\n",
              "0   b'898'         b'Postman, The (1997)'  885409515  b'681'          4.0\n",
              "1   b'367'             b'Clueless (1995)'  883388887  b'442'          2.0\n",
              "2   b'484'  b'Maltese Falcon, The (1941)'  891249586  b'932'          5.0\n",
              "3   b'494'      b'His Girl Friday (1940)'  878044851  b'506'          5.0\n",
              "4    b'58'            b'Quiz Show (1994)'  880130613   b'18'          4.0\n",
              "5    b'76'        b\"Carlito's Way (1993)\"  892778202  b'551'          4.0\n",
              "6   b'591'          b'Primal Fear (1996)'  879959212   b'12'          5.0\n",
              "7    b'95'              b'Aladdin (1992)'  877131685  b'901'          4.0\n",
              "8   b'160'  b'Glengarry Glen Ross (1992)'  891034219  b'835'          3.0\n",
              "9   b'313'              b'Titanic (1997)'  885328727  b'284'          3.0"
            ],
            "text/html": [
              "\n",
              "  <div id=\"df-67e64543-9955-46ca-874a-1cd43cb00f95\">\n",
              "    <div class=\"colab-df-container\">\n",
              "      <style type=\"text/css\">\n",
              "</style>\n",
              "<table id=\"T_f9e65_\">\n",
              "  <thead>\n",
              "    <tr>\n",
              "      <th class=\"blank level0\" >&nbsp;</th>\n",
              "      <th class=\"col_heading level0 col0\" >movie_id</th>\n",
              "      <th class=\"col_heading level0 col1\" >movie_title</th>\n",
              "      <th class=\"col_heading level0 col2\" >timestamp</th>\n",
              "      <th class=\"col_heading level0 col3\" >user_id</th>\n",
              "      <th class=\"col_heading level0 col4\" >user_rating</th>\n",
              "    </tr>\n",
              "  </thead>\n",
              "  <tbody>\n",
              "    <tr>\n",
              "      <th id=\"T_f9e65_level0_row0\" class=\"row_heading level0 row0\" >0</th>\n",
              "      <td id=\"T_f9e65_row0_col0\" class=\"data row0 col0\" >b'898'</td>\n",
              "      <td id=\"T_f9e65_row0_col1\" class=\"data row0 col1\" >b'Postman, The (1997)'</td>\n",
              "      <td id=\"T_f9e65_row0_col2\" class=\"data row0 col2\" >885409515</td>\n",
              "      <td id=\"T_f9e65_row0_col3\" class=\"data row0 col3\" >b'681'</td>\n",
              "      <td id=\"T_f9e65_row0_col4\" class=\"data row0 col4\" >4.000000</td>\n",
              "    </tr>\n",
              "    <tr>\n",
              "      <th id=\"T_f9e65_level0_row1\" class=\"row_heading level0 row1\" >1</th>\n",
              "      <td id=\"T_f9e65_row1_col0\" class=\"data row1 col0\" >b'367'</td>\n",
              "      <td id=\"T_f9e65_row1_col1\" class=\"data row1 col1\" >b'Clueless (1995)'</td>\n",
              "      <td id=\"T_f9e65_row1_col2\" class=\"data row1 col2\" >883388887</td>\n",
              "      <td id=\"T_f9e65_row1_col3\" class=\"data row1 col3\" >b'442'</td>\n",
              "      <td id=\"T_f9e65_row1_col4\" class=\"data row1 col4\" >2.000000</td>\n",
              "    </tr>\n",
              "    <tr>\n",
              "      <th id=\"T_f9e65_level0_row2\" class=\"row_heading level0 row2\" >2</th>\n",
              "      <td id=\"T_f9e65_row2_col0\" class=\"data row2 col0\" >b'484'</td>\n",
              "      <td id=\"T_f9e65_row2_col1\" class=\"data row2 col1\" >b'Maltese Falcon, The (1941)'</td>\n",
              "      <td id=\"T_f9e65_row2_col2\" class=\"data row2 col2\" >891249586</td>\n",
              "      <td id=\"T_f9e65_row2_col3\" class=\"data row2 col3\" >b'932'</td>\n",
              "      <td id=\"T_f9e65_row2_col4\" class=\"data row2 col4\" >5.000000</td>\n",
              "    </tr>\n",
              "    <tr>\n",
              "      <th id=\"T_f9e65_level0_row3\" class=\"row_heading level0 row3\" >3</th>\n",
              "      <td id=\"T_f9e65_row3_col0\" class=\"data row3 col0\" >b'494'</td>\n",
              "      <td id=\"T_f9e65_row3_col1\" class=\"data row3 col1\" >b'His Girl Friday (1940)'</td>\n",
              "      <td id=\"T_f9e65_row3_col2\" class=\"data row3 col2\" >878044851</td>\n",
              "      <td id=\"T_f9e65_row3_col3\" class=\"data row3 col3\" >b'506'</td>\n",
              "      <td id=\"T_f9e65_row3_col4\" class=\"data row3 col4\" >5.000000</td>\n",
              "    </tr>\n",
              "    <tr>\n",
              "      <th id=\"T_f9e65_level0_row4\" class=\"row_heading level0 row4\" >4</th>\n",
              "      <td id=\"T_f9e65_row4_col0\" class=\"data row4 col0\" >b'58'</td>\n",
              "      <td id=\"T_f9e65_row4_col1\" class=\"data row4 col1\" >b'Quiz Show (1994)'</td>\n",
              "      <td id=\"T_f9e65_row4_col2\" class=\"data row4 col2\" >880130613</td>\n",
              "      <td id=\"T_f9e65_row4_col3\" class=\"data row4 col3\" >b'18'</td>\n",
              "      <td id=\"T_f9e65_row4_col4\" class=\"data row4 col4\" >4.000000</td>\n",
              "    </tr>\n",
              "    <tr>\n",
              "      <th id=\"T_f9e65_level0_row5\" class=\"row_heading level0 row5\" >5</th>\n",
              "      <td id=\"T_f9e65_row5_col0\" class=\"data row5 col0\" >b'76'</td>\n",
              "      <td id=\"T_f9e65_row5_col1\" class=\"data row5 col1\" >b\"Carlito's Way (1993)\"</td>\n",
              "      <td id=\"T_f9e65_row5_col2\" class=\"data row5 col2\" >892778202</td>\n",
              "      <td id=\"T_f9e65_row5_col3\" class=\"data row5 col3\" >b'551'</td>\n",
              "      <td id=\"T_f9e65_row5_col4\" class=\"data row5 col4\" >4.000000</td>\n",
              "    </tr>\n",
              "    <tr>\n",
              "      <th id=\"T_f9e65_level0_row6\" class=\"row_heading level0 row6\" >6</th>\n",
              "      <td id=\"T_f9e65_row6_col0\" class=\"data row6 col0\" >b'591'</td>\n",
              "      <td id=\"T_f9e65_row6_col1\" class=\"data row6 col1\" >b'Primal Fear (1996)'</td>\n",
              "      <td id=\"T_f9e65_row6_col2\" class=\"data row6 col2\" >879959212</td>\n",
              "      <td id=\"T_f9e65_row6_col3\" class=\"data row6 col3\" >b'12'</td>\n",
              "      <td id=\"T_f9e65_row6_col4\" class=\"data row6 col4\" >5.000000</td>\n",
              "    </tr>\n",
              "    <tr>\n",
              "      <th id=\"T_f9e65_level0_row7\" class=\"row_heading level0 row7\" >7</th>\n",
              "      <td id=\"T_f9e65_row7_col0\" class=\"data row7 col0\" >b'95'</td>\n",
              "      <td id=\"T_f9e65_row7_col1\" class=\"data row7 col1\" >b'Aladdin (1992)'</td>\n",
              "      <td id=\"T_f9e65_row7_col2\" class=\"data row7 col2\" >877131685</td>\n",
              "      <td id=\"T_f9e65_row7_col3\" class=\"data row7 col3\" >b'901'</td>\n",
              "      <td id=\"T_f9e65_row7_col4\" class=\"data row7 col4\" >4.000000</td>\n",
              "    </tr>\n",
              "    <tr>\n",
              "      <th id=\"T_f9e65_level0_row8\" class=\"row_heading level0 row8\" >8</th>\n",
              "      <td id=\"T_f9e65_row8_col0\" class=\"data row8 col0\" >b'160'</td>\n",
              "      <td id=\"T_f9e65_row8_col1\" class=\"data row8 col1\" >b'Glengarry Glen Ross (1992)'</td>\n",
              "      <td id=\"T_f9e65_row8_col2\" class=\"data row8 col2\" >891034219</td>\n",
              "      <td id=\"T_f9e65_row8_col3\" class=\"data row8 col3\" >b'835'</td>\n",
              "      <td id=\"T_f9e65_row8_col4\" class=\"data row8 col4\" >3.000000</td>\n",
              "    </tr>\n",
              "    <tr>\n",
              "      <th id=\"T_f9e65_level0_row9\" class=\"row_heading level0 row9\" >9</th>\n",
              "      <td id=\"T_f9e65_row9_col0\" class=\"data row9 col0\" >b'313'</td>\n",
              "      <td id=\"T_f9e65_row9_col1\" class=\"data row9 col1\" >b'Titanic (1997)'</td>\n",
              "      <td id=\"T_f9e65_row9_col2\" class=\"data row9 col2\" >885328727</td>\n",
              "      <td id=\"T_f9e65_row9_col3\" class=\"data row9 col3\" >b'284'</td>\n",
              "      <td id=\"T_f9e65_row9_col4\" class=\"data row9 col4\" >3.000000</td>\n",
              "    </tr>\n",
              "  </tbody>\n",
              "</table>\n",
              "\n",
              "      <button class=\"colab-df-convert\" onclick=\"convertToInteractive('df-67e64543-9955-46ca-874a-1cd43cb00f95')\"\n",
              "              title=\"Convert this dataframe to an interactive table.\"\n",
              "              style=\"display:none;\">\n",
              "        \n",
              "  <svg xmlns=\"http://www.w3.org/2000/svg\" height=\"24px\"viewBox=\"0 0 24 24\"\n",
              "       width=\"24px\">\n",
              "    <path d=\"M0 0h24v24H0V0z\" fill=\"none\"/>\n",
              "    <path d=\"M18.56 5.44l.94 2.06.94-2.06 2.06-.94-2.06-.94-.94-2.06-.94 2.06-2.06.94zm-11 1L8.5 8.5l.94-2.06 2.06-.94-2.06-.94L8.5 2.5l-.94 2.06-2.06.94zm10 10l.94 2.06.94-2.06 2.06-.94-2.06-.94-.94-2.06-.94 2.06-2.06.94z\"/><path d=\"M17.41 7.96l-1.37-1.37c-.4-.4-.92-.59-1.43-.59-.52 0-1.04.2-1.43.59L10.3 9.45l-7.72 7.72c-.78.78-.78 2.05 0 2.83L4 21.41c.39.39.9.59 1.41.59.51 0 1.02-.2 1.41-.59l7.78-7.78 2.81-2.81c.8-.78.8-2.07 0-2.86zM5.41 20L4 18.59l7.72-7.72 1.47 1.35L5.41 20z\"/>\n",
              "  </svg>\n",
              "      </button>\n",
              "      \n",
              "  <style>\n",
              "    .colab-df-container {\n",
              "      display:flex;\n",
              "      flex-wrap:wrap;\n",
              "      gap: 12px;\n",
              "    }\n",
              "\n",
              "    .colab-df-convert {\n",
              "      background-color: #E8F0FE;\n",
              "      border: none;\n",
              "      border-radius: 50%;\n",
              "      cursor: pointer;\n",
              "      display: none;\n",
              "      fill: #1967D2;\n",
              "      height: 32px;\n",
              "      padding: 0 0 0 0;\n",
              "      width: 32px;\n",
              "    }\n",
              "\n",
              "    .colab-df-convert:hover {\n",
              "      background-color: #E2EBFA;\n",
              "      box-shadow: 0px 1px 2px rgba(60, 64, 67, 0.3), 0px 1px 3px 1px rgba(60, 64, 67, 0.15);\n",
              "      fill: #174EA6;\n",
              "    }\n",
              "\n",
              "    [theme=dark] .colab-df-convert {\n",
              "      background-color: #3B4455;\n",
              "      fill: #D2E3FC;\n",
              "    }\n",
              "\n",
              "    [theme=dark] .colab-df-convert:hover {\n",
              "      background-color: #434B5C;\n",
              "      box-shadow: 0px 1px 3px 1px rgba(0, 0, 0, 0.15);\n",
              "      filter: drop-shadow(0px 1px 2px rgba(0, 0, 0, 0.3));\n",
              "      fill: #FFFFFF;\n",
              "    }\n",
              "  </style>\n",
              "\n",
              "      <script>\n",
              "        const buttonEl =\n",
              "          document.querySelector('#df-67e64543-9955-46ca-874a-1cd43cb00f95 button.colab-df-convert');\n",
              "        buttonEl.style.display =\n",
              "          google.colab.kernel.accessAllowed ? 'block' : 'none';\n",
              "\n",
              "        async function convertToInteractive(key) {\n",
              "          const element = document.querySelector('#df-67e64543-9955-46ca-874a-1cd43cb00f95');\n",
              "          const dataTable =\n",
              "            await google.colab.kernel.invokeFunction('convertToInteractive',\n",
              "                                                     [key], {});\n",
              "          if (!dataTable) return;\n",
              "\n",
              "          const docLinkHtml = 'Like what you see? Visit the ' +\n",
              "            '<a target=\"_blank\" href=https://colab.research.google.com/notebooks/data_table.ipynb>data table notebook</a>'\n",
              "            + ' to learn more about interactive tables.';\n",
              "          element.innerHTML = '';\n",
              "          dataTable['output_type'] = 'display_data';\n",
              "          await google.colab.output.renderOutput(dataTable, element);\n",
              "          const docLink = document.createElement('div');\n",
              "          docLink.innerHTML = docLinkHtml;\n",
              "          element.appendChild(docLink);\n",
              "        }\n",
              "      </script>\n",
              "    </div>\n",
              "  </div>\n",
              "  "
            ]
          },
          "metadata": {},
          "execution_count": 10
        }
      ]
    },
    {
      "cell_type": "code",
      "source": [
        "ratings_trainset = ratings_dataset_shuffled.take(trainset_size)\n",
        "ratings_testset = ratings_dataset_shuffled.skip(trainset_size)"
      ],
      "metadata": {
        "id": "3pf9hpsAN-F-"
      },
      "execution_count": 11,
      "outputs": []
    },
    {
      "cell_type": "code",
      "source": [
        "print(f'training set size is {ratings_trainset.__len__()}')"
      ],
      "metadata": {
        "id": "EcKqSeMwN-IP",
        "outputId": "16128820-653f-4d85-e0e7-0b6dd0580e15",
        "colab": {
          "base_uri": "https://localhost:8080/"
        }
      },
      "execution_count": 12,
      "outputs": [
        {
          "output_type": "stream",
          "name": "stdout",
          "text": [
            "training set size is 80000\n"
          ]
        }
      ]
    },
    {
      "cell_type": "code",
      "source": [
        "print(f'test set size is {ratings_testset.__len__()}')"
      ],
      "metadata": {
        "id": "7D0ntgScN-Kd",
        "outputId": "b04de573-9610-4caf-fe26-9eff7b7c8d64",
        "colab": {
          "base_uri": "https://localhost:8080/"
        }
      },
      "execution_count": 13,
      "outputs": [
        {
          "output_type": "stream",
          "name": "stdout",
          "text": [
            "test set size is 20000\n"
          ]
        }
      ]
    },
    {
      "cell_type": "markdown",
      "source": [
        "## Preprocess raw features and make embeddings with Keras preprocessing layers"
      ],
      "metadata": {
        "id": "kfHKtOUnS3Ya"
      }
    },
    {
      "cell_type": "markdown",
      "source": [
        "* **Numerical features**( ratings, prices, timestamps, etc）need to be normalized so their values lie in small interval around 0\n",
        "* **Categorical features**(ids, usernames/emails/titles ) are usually string features and have to be translated into embedding vectors(numerical feature representations )\n",
        "* **Text features** ( descriptions, comments, etc) need to be at first, tokenized and then translated into embeddings\n"
      ],
      "metadata": {
        "id": "Vw4H8EmETEqJ"
      }
    },
    {
      "cell_type": "code",
      "source": [
        "from pprint import pprint\n",
        "for rating in ratings_trainset.take(1).as_numpy_iterator():\n",
        "  pprint(rating)"
      ],
      "metadata": {
        "id": "p6YBvxZLN-Mv",
        "outputId": "b01161a2-0608-4722-e024-6329609a02c9",
        "colab": {
          "base_uri": "https://localhost:8080/"
        }
      },
      "execution_count": 14,
      "outputs": [
        {
          "output_type": "stream",
          "name": "stdout",
          "text": [
            "{'movie_id': b'898',\n",
            " 'movie_title': b'Postman, The (1997)',\n",
            " 'timestamp': 885409515,\n",
            " 'user_id': b'681',\n",
            " 'user_rating': 4.0}\n"
          ]
        }
      ]
    },
    {
      "cell_type": "markdown",
      "source": [
        "### Normalize numeric features"
      ],
      "metadata": {
        "id": "iXICi4e2VZ88"
      }
    },
    {
      "cell_type": "code",
      "source": [
        "# make a keras Normalization layer to standardize a numerical feature\n",
        "timestamp_normalization_layer = tf.keras.layers.experimental.preprocessing.Normalization(axis=None)"
      ],
      "metadata": {
        "id": "FyusE7yiN-PP"
      },
      "execution_count": 15,
      "outputs": []
    },
    {
      "cell_type": "code",
      "source": [
        "timestamp_normalization_layer.adapt(\n",
        "    ratings_trainset.map(\n",
        "        lambda x: x['timestamp']\n",
        "    )\n",
        ")"
      ],
      "metadata": {
        "id": "5QYh_aZeN-Rf"
      },
      "execution_count": 16,
      "outputs": []
    },
    {
      "cell_type": "code",
      "source": [
        "for rating in ratings_trainset.take(5).as_numpy_iterator():\n",
        "  print(\n",
        "      f\"raw timestampe: {rating['timestamp']} ->\",\n",
        "      f\"normalized timestamp: {timestamp_normalization_layer(rating['timestamp'])}\"\n",
        "  )"
      ],
      "metadata": {
        "id": "CKYMAaZgZSu2",
        "outputId": "f04cde0f-4724-46c4-93af-4ae66a493f0e",
        "colab": {
          "base_uri": "https://localhost:8080/"
        }
      },
      "execution_count": 17,
      "outputs": [
        {
          "output_type": "stream",
          "name": "stdout",
          "text": [
            "raw timestampe: 885409515 -> normalized timestamp: 0.3537561595439911\n",
            "raw timestampe: 883388887 -> normalized timestamp: -0.02487170137465\n",
            "raw timestampe: 891249586 -> normalized timestamp: 1.4480509757995605\n",
            "raw timestampe: 878044851 -> normalized timestamp: -1.0262154340744019\n",
            "raw timestampe: 880130613 -> normalized timestamp: -0.6353915929794312\n"
          ]
        }
      ]
    },
    {
      "cell_type": "markdown",
      "source": [
        "### Turning categorical features into embeddings"
      ],
      "metadata": {
        "id": "YgFHrr9uaxA7"
      }
    },
    {
      "cell_type": "code",
      "source": [
        "## 1. Build a mapping( called 'vocabulary')\n",
        "user_id_lookup_layer = tf.keras.layers.experimental.preprocessing.StringLookup(mask_token= None)"
      ],
      "metadata": {
        "id": "PzXmdahSZS2O"
      },
      "execution_count": 18,
      "outputs": []
    },
    {
      "cell_type": "code",
      "source": [
        "user_id_lookup_layer.adapt(\n",
        "    ratings_trainset.map(\n",
        "        lambda x: x['user_id']\n",
        "    )\n",
        ")"
      ],
      "metadata": {
        "id": "0TtcF61TZS49"
      },
      "execution_count": 19,
      "outputs": []
    },
    {
      "cell_type": "code",
      "source": [
        "print(f\"Vocabulary[:10] -> {user_id_lookup_layer.get_vocabulary()[:10]}\")"
      ],
      "metadata": {
        "id": "0TKl1SF2ZS7w",
        "outputId": "a4be5cbd-0600-41b9-a0d4-aecd76221f33",
        "colab": {
          "base_uri": "https://localhost:8080/"
        }
      },
      "execution_count": 20,
      "outputs": [
        {
          "output_type": "stream",
          "name": "stdout",
          "text": [
            "Vocabulary[:10] -> ['[UNK]', '405', '655', '13', '450', '276', '303', '416', '537', '234']\n"
          ]
        }
      ]
    },
    {
      "cell_type": "code",
      "source": [
        "print(\n",
        "    \"Mapped integer for user ids: ['-2', '13', '655', 'xxx']\\n\",\n",
        "    user_id_lookup_layer(\n",
        "        ['-2', '13', '655', 'xxx']\n",
        "    )\n",
        ")"
      ],
      "metadata": {
        "id": "AeJlNk6qZS-N",
        "outputId": "de2e5794-7f7e-47b5-a261-529f5133d451",
        "colab": {
          "base_uri": "https://localhost:8080/"
        }
      },
      "execution_count": 21,
      "outputs": [
        {
          "output_type": "stream",
          "name": "stdout",
          "text": [
            "Mapped integer for user ids: ['-2', '13', '655', 'xxx']\n",
            " tf.Tensor([0 3 2 0], shape=(4,), dtype=int64)\n"
          ]
        }
      ]
    },
    {
      "cell_type": "code",
      "source": [
        ""
      ],
      "metadata": {
        "id": "JDHO8uPGc78P"
      },
      "execution_count": 21,
      "outputs": []
    },
    {
      "cell_type": "code",
      "source": [
        "## 2. Turn these integers into embedding vectors\n",
        "user_id_embedding_dim =32\n",
        "user_id_embedding_layer = tf.keras.layers.Embedding(\n",
        "    # size of the vocab\n",
        "    input_dim = user_id_lookup_layer.vocabulary_size(),\n",
        "    # Dimension of the dense embedding\n",
        "    output_dim = user_id_embedding_dim\n",
        ")"
      ],
      "metadata": {
        "id": "UZN4BMi_ZTA1"
      },
      "execution_count": 22,
      "outputs": []
    },
    {
      "cell_type": "code",
      "source": [
        "# A model that takes raw string feature values (user_id) in and yields embeddings\n",
        "user_id_model = tf.keras.Sequential(\n",
        "    [\n",
        "        user_id_lookup_layer,\n",
        "        user_id_embedding_layer\n",
        "    ]\n",
        ")"
      ],
      "metadata": {
        "id": "yNvGImZ7ZTDk"
      },
      "execution_count": 23,
      "outputs": []
    },
    {
      "cell_type": "code",
      "source": [
        "print(\n",
        "    \"Embeddings for user ids: ['-2', '13', '655', 'xxx']\\n\",\n",
        "    user_id_model(\n",
        "        ['-2', '13', '655', 'xxx']\n",
        "    )\n",
        ")"
      ],
      "metadata": {
        "id": "KzUFKg19ZTGW",
        "outputId": "b931e976-8a10-4082-b1bd-362db2c1f991",
        "colab": {
          "base_uri": "https://localhost:8080/"
        }
      },
      "execution_count": 24,
      "outputs": [
        {
          "output_type": "stream",
          "name": "stdout",
          "text": [
            "WARNING:tensorflow:Layers in a Sequential model should only have a single input tensor. Received: inputs=['-2', '13', '655', 'xxx']. Consider rewriting this model with the Functional API.\n"
          ]
        },
        {
          "output_type": "stream",
          "name": "stderr",
          "text": [
            "WARNING:tensorflow:Layers in a Sequential model should only have a single input tensor. Received: inputs=['-2', '13', '655', 'xxx']. Consider rewriting this model with the Functional API.\n"
          ]
        },
        {
          "output_type": "stream",
          "name": "stdout",
          "text": [
            "Embeddings for user ids: ['-2', '13', '655', 'xxx']\n",
            " tf.Tensor(\n",
            "[[ 0.01645621 -0.00589932 -0.01471175 -0.00355174 -0.04663396  0.01846724\n",
            "   0.02401174  0.03724445 -0.02736737 -0.02768031 -0.01896119  0.02223358\n",
            "  -0.03668128  0.00480639  0.00746088  0.03996835 -0.04905364  0.00212307\n",
            "   0.01345445 -0.03006717  0.02294225  0.00458346 -0.03924345  0.01767061\n",
            "   0.01602763 -0.01630496  0.01014177 -0.02893742  0.03527372 -0.00593783\n",
            "   0.04485276 -0.02624741]\n",
            " [ 0.04355587 -0.04048269 -0.04138212  0.01247839 -0.01294935  0.00139042\n",
            "   0.01233207  0.03024682 -0.03334862 -0.02790955  0.01242272 -0.04128085\n",
            "   0.04214266  0.04348017  0.01045523 -0.00205957 -0.03556986 -0.01739997\n",
            "   0.04255753  0.02757342  0.0136765   0.01282351 -0.01459817 -0.00855327\n",
            "  -0.03894869 -0.0358853  -0.03112409  0.01894793  0.02213276 -0.02511839\n",
            "   0.00912381 -0.00024097]\n",
            " [ 0.00016055 -0.03171784 -0.03682018  0.01463613  0.04559476  0.01670735\n",
            "  -0.01924447 -0.01310781 -0.0052641  -0.03164054  0.00288255  0.02052755\n",
            "   0.0398633  -0.01861371  0.01233826  0.04681553 -0.03879207 -0.02040946\n",
            "   0.04356605 -0.03658737 -0.01806207 -0.0237723  -0.04685124  0.04004553\n",
            "   0.01409379  0.00821855 -0.02908291  0.02173609 -0.0136477  -0.04532908\n",
            "  -0.03502221  0.03436175]\n",
            " [ 0.01645621 -0.00589932 -0.01471175 -0.00355174 -0.04663396  0.01846724\n",
            "   0.02401174  0.03724445 -0.02736737 -0.02768031 -0.01896119  0.02223358\n",
            "  -0.03668128  0.00480639  0.00746088  0.03996835 -0.04905364  0.00212307\n",
            "   0.01345445 -0.03006717  0.02294225  0.00458346 -0.03924345  0.01767061\n",
            "   0.01602763 -0.01630496  0.01014177 -0.02893742  0.03527372 -0.00593783\n",
            "   0.04485276 -0.02624741]], shape=(4, 32), dtype=float32)\n"
          ]
        }
      ]
    },
    {
      "cell_type": "code",
      "source": [
        "## do the same thing for movie id\n",
        "\n",
        "movie_id_lookup_layer = tf.keras.layers.experimental.preprocessing.StringLookup(mask_token= None)\n",
        "movie_id_lookup_layer.adapt(\n",
        "    ratings_trainset.map(\n",
        "        lambda x: x['movie_id']\n",
        "    )\n",
        ")\n",
        "movie_id_embedding_dim = 32\n",
        "\n",
        "movie_id_embedding_layer = tf.keras.layers.Embedding(\n",
        "    input_dim = movie_id_lookup_layer.vocabulary_size(),\n",
        "    output_dim = movie_id_embedding_dim\n",
        ")\n",
        "movie_id_model = tf.keras.Sequential(\n",
        "    [ \n",
        "        movie_id_lookup_layer,\n",
        "        movie_id_embedding_layer\n",
        "    ]\n",
        ")"
      ],
      "metadata": {
        "id": "Od2bBvuTZTIu"
      },
      "execution_count": 25,
      "outputs": []
    },
    {
      "cell_type": "markdown",
      "source": [
        "## Tokenize textual features and translate them into embeddings"
      ],
      "metadata": {
        "id": "uwaQnDhdgfHi"
      }
    },
    {
      "cell_type": "code",
      "source": [
        "movie_title_vectorization_layer = tf.keras.layers.experimental.preprocessing.TextVectorization()"
      ],
      "metadata": {
        "id": "YDkMsaHRZTL2"
      },
      "execution_count": 26,
      "outputs": []
    },
    {
      "cell_type": "code",
      "source": [
        "movie_title_vectorization_layer.adapt(\n",
        "    ratings_trainset.map(\n",
        "        lambda rating: rating['movie_title']\n",
        "    )\n",
        ")"
      ],
      "metadata": {
        "id": "zmiWthv4ZTOk"
      },
      "execution_count": 27,
      "outputs": []
    },
    {
      "cell_type": "code",
      "source": [
        "# verify that the tokenization is done correctly\n",
        "print(\n",
        "    f\"Vocabulary[40:50] -> {movie_title_vectorization_layer.get_vocabulary()[40:50]}\"\n",
        ")"
      ],
      "metadata": {
        "id": "7ystGsF0ZTRd",
        "outputId": "165006c8-327e-4e8a-ac79-b4812629cf39",
        "colab": {
          "base_uri": "https://localhost:8080/"
        }
      },
      "execution_count": 28,
      "outputs": [
        {
          "output_type": "stream",
          "name": "stdout",
          "text": [
            "Vocabulary[40:50] -> ['first', 'contact', '1971', '1977', 'monty', '1983', 'love', 'on', 'last', 'men']\n"
          ]
        }
      ]
    },
    {
      "cell_type": "code",
      "source": [
        "print(\n",
        "    \"Vectorized title for 'Postman, The (1997)'\\n\",\n",
        "    movie_title_vectorization_layer('Postman, The (1997)')\n",
        ")"
      ],
      "metadata": {
        "id": "Bvym5-YIgdWW",
        "outputId": "67ee7e4b-39f4-4e41-cb2b-0ebead4fae97",
        "colab": {
          "base_uri": "https://localhost:8080/"
        }
      },
      "execution_count": 29,
      "outputs": [
        {
          "output_type": "stream",
          "name": "stdout",
          "text": [
            "Vectorized title for 'Postman, The (1997)'\n",
            " tf.Tensor([1120    2    4], shape=(3,), dtype=int64)\n"
          ]
        }
      ]
    },
    {
      "cell_type": "code",
      "source": [
        "movie_title_embedding_dim =32\n",
        "movie_title_embedding_layer = tf.keras.layers.Embedding(\n",
        "    input_dim = len(movie_title_vectorization_layer.get_vocabulary()),\n",
        "    output_dim = movie_title_embedding_dim,\n",
        "    mask_zero = True\n",
        ")"
      ],
      "metadata": {
        "id": "8j1gwxbRgdap"
      },
      "execution_count": 30,
      "outputs": []
    },
    {
      "cell_type": "code",
      "source": [
        "movie_title_model = tf.keras.Sequential(\n",
        "    [\n",
        "        movie_title_vectorization_layer,\n",
        "        movie_title_embedding_layer,\n",
        "     # each title contains multiple words, so we will get multiple embeddings\n",
        "       # for each title that should be compressed into a single embedding for\n",
        "       # the text. Models like RNNs, Transformers or Attentions are useful here.\n",
        "       # However, averaging all the words' embeddings together is also a good\n",
        "       # starting point.\n",
        "        tf.keras.layers.GlobalAveragePooling1D()\n",
        "       ]\n",
        ")"
      ],
      "metadata": {
        "id": "MdEcg-aBgdfV"
      },
      "execution_count": 31,
      "outputs": []
    },
    {
      "cell_type": "markdown",
      "source": [
        "## Query and Candidate representation"
      ],
      "metadata": {
        "id": "uPZ9jBtwjVWk"
      }
    },
    {
      "cell_type": "code",
      "source": [
        "query_model = user_id_model\n",
        "candidate_model = movie_id_model"
      ],
      "metadata": {
        "id": "nd_0gAMBgdhb"
      },
      "execution_count": 32,
      "outputs": []
    },
    {
      "cell_type": "markdown",
      "source": [
        "## Build the Retrieval ( Candidate Generation) task\n",
        "* It is about selecting an initial set of hundreds of candidates from all possible candidates. Because the retrieval model may be dealing with millions of candidates, it has to be computationally efficient. \n",
        "* A retreval system is a model that predicts a set of movies from the catalogue that the user is likely to watch. So the train set should be expressesing which movies the users watched, and which they did not."
      ],
      "metadata": {
        "id": "SK0L1DYLj1Rw"
      }
    },
    {
      "cell_type": "markdown",
      "source": [
        "So we treat Movielens as an implicit feedback dataset, where users' watches tell us which things they prefer to see and which they'd rather not see. This means that every movie a user rated (so watched!), no matter the given rating, is an implicit** positive** example, and every movie they have not rated (not seen!) is an implicit **negative** example."
      ],
      "metadata": {
        "id": "CsRYX6V_koQ4"
      }
    },
    {
      "cell_type": "code",
      "source": [
        "retrieval_ratings_trainset = ratings_trainset.map(\n",
        "    lambda rating: {\n",
        "        'user_id': rating['user_id'],\n",
        "        'movie_id': rating['movie_id'],\n",
        "    }\n",
        ")\n",
        "retrieval_ratings_testset = ratings_testset.map(\n",
        "    lambda rating: {\n",
        "        'user_id': rating['user_id'],\n",
        "        'movie_id': rating['movie_id']\n",
        "    }\n",
        ")"
      ],
      "metadata": {
        "id": "f_6jsVtfgdrI"
      },
      "execution_count": 33,
      "outputs": []
    },
    {
      "cell_type": "code",
      "source": [
        ""
      ],
      "metadata": {
        "id": "_rHpTkptgdv-"
      },
      "execution_count": null,
      "outputs": []
    },
    {
      "cell_type": "code",
      "source": [
        ""
      ],
      "metadata": {
        "id": "XJ36MU7rgdyB"
      },
      "execution_count": null,
      "outputs": []
    },
    {
      "cell_type": "code",
      "source": [
        ""
      ],
      "metadata": {
        "id": "sLGPalC_gd0P"
      },
      "execution_count": null,
      "outputs": []
    },
    {
      "cell_type": "code",
      "source": [
        ""
      ],
      "metadata": {
        "id": "lForFA1Ogd3A"
      },
      "execution_count": null,
      "outputs": []
    },
    {
      "cell_type": "code",
      "source": [
        ""
      ],
      "metadata": {
        "id": "12KS9xblgd4z"
      },
      "execution_count": null,
      "outputs": []
    },
    {
      "cell_type": "code",
      "source": [
        ""
      ],
      "metadata": {
        "id": "A8CTl7wrgd7Z"
      },
      "execution_count": null,
      "outputs": []
    },
    {
      "cell_type": "code",
      "source": [
        ""
      ],
      "metadata": {
        "id": "o1egB3ZAZTUO"
      },
      "execution_count": null,
      "outputs": []
    }
  ]
}