{
  "nbformat": 4,
  "nbformat_minor": 0,
  "metadata": {
    "colab": {
      "name": "recommendation sys.ipynb",
      "provenance": [],
      "authorship_tag": "ABX9TyNw1igOML5BaUkwrA7Q2Q/b",
      "include_colab_link": true
    },
    "kernelspec": {
      "name": "python3",
      "display_name": "Python 3"
    },
    "language_info": {
      "name": "python"
    },
    "widgets": {
      "application/vnd.jupyter.widget-state+json": {
        "c6c8c90f2850481fa9fd43cb57d42a7d": {
          "model_module": "@jupyter-widgets/controls",
          "model_name": "HBoxModel",
          "model_module_version": "1.5.0",
          "state": {
            "_dom_classes": [],
            "_model_module": "@jupyter-widgets/controls",
            "_model_module_version": "1.5.0",
            "_model_name": "HBoxModel",
            "_view_count": null,
            "_view_module": "@jupyter-widgets/controls",
            "_view_module_version": "1.5.0",
            "_view_name": "HBoxView",
            "box_style": "",
            "children": [
              "IPY_MODEL_290691469d184b3b9ed5cdac5109cbe8",
              "IPY_MODEL_de8ca101f4c44d60afa9020f0d658e92",
              "IPY_MODEL_0d953d4973244a08bde37bc52f60d5b6"
            ],
            "layout": "IPY_MODEL_65b347a4140f406aaf0ea17b9c3121a3"
          }
        },
        "290691469d184b3b9ed5cdac5109cbe8": {
          "model_module": "@jupyter-widgets/controls",
          "model_name": "HTMLModel",
          "model_module_version": "1.5.0",
          "state": {
            "_dom_classes": [],
            "_model_module": "@jupyter-widgets/controls",
            "_model_module_version": "1.5.0",
            "_model_name": "HTMLModel",
            "_view_count": null,
            "_view_module": "@jupyter-widgets/controls",
            "_view_module_version": "1.5.0",
            "_view_name": "HTMLView",
            "description": "",
            "description_tooltip": null,
            "layout": "IPY_MODEL_9f4f9a45eb4c44918b92f307af60764c",
            "placeholder": "​",
            "style": "IPY_MODEL_6ee5e97262114b82b98a448f8a13df53",
            "value": "Dl Completed...: 100%"
          }
        },
        "de8ca101f4c44d60afa9020f0d658e92": {
          "model_module": "@jupyter-widgets/controls",
          "model_name": "FloatProgressModel",
          "model_module_version": "1.5.0",
          "state": {
            "_dom_classes": [],
            "_model_module": "@jupyter-widgets/controls",
            "_model_module_version": "1.5.0",
            "_model_name": "FloatProgressModel",
            "_view_count": null,
            "_view_module": "@jupyter-widgets/controls",
            "_view_module_version": "1.5.0",
            "_view_name": "ProgressView",
            "bar_style": "success",
            "description": "",
            "description_tooltip": null,
            "layout": "IPY_MODEL_79f15f5075cd438a889987b7c151bc64",
            "max": 1,
            "min": 0,
            "orientation": "horizontal",
            "style": "IPY_MODEL_7b788abf76534750ba1e03f9aa8579b4",
            "value": 1
          }
        },
        "0d953d4973244a08bde37bc52f60d5b6": {
          "model_module": "@jupyter-widgets/controls",
          "model_name": "HTMLModel",
          "model_module_version": "1.5.0",
          "state": {
            "_dom_classes": [],
            "_model_module": "@jupyter-widgets/controls",
            "_model_module_version": "1.5.0",
            "_model_name": "HTMLModel",
            "_view_count": null,
            "_view_module": "@jupyter-widgets/controls",
            "_view_module_version": "1.5.0",
            "_view_name": "HTMLView",
            "description": "",
            "description_tooltip": null,
            "layout": "IPY_MODEL_e3d9204eef914b4883b93aa092c00525",
            "placeholder": "​",
            "style": "IPY_MODEL_5fa34f52d6434eaea6526056e9eeb3c3",
            "value": " 1/1 [00:00&lt;00:00,  1.44 url/s]"
          }
        },
        "65b347a4140f406aaf0ea17b9c3121a3": {
          "model_module": "@jupyter-widgets/base",
          "model_name": "LayoutModel",
          "model_module_version": "1.2.0",
          "state": {
            "_model_module": "@jupyter-widgets/base",
            "_model_module_version": "1.2.0",
            "_model_name": "LayoutModel",
            "_view_count": null,
            "_view_module": "@jupyter-widgets/base",
            "_view_module_version": "1.2.0",
            "_view_name": "LayoutView",
            "align_content": null,
            "align_items": null,
            "align_self": null,
            "border": null,
            "bottom": null,
            "display": null,
            "flex": null,
            "flex_flow": null,
            "grid_area": null,
            "grid_auto_columns": null,
            "grid_auto_flow": null,
            "grid_auto_rows": null,
            "grid_column": null,
            "grid_gap": null,
            "grid_row": null,
            "grid_template_areas": null,
            "grid_template_columns": null,
            "grid_template_rows": null,
            "height": null,
            "justify_content": null,
            "justify_items": null,
            "left": null,
            "margin": null,
            "max_height": null,
            "max_width": null,
            "min_height": null,
            "min_width": null,
            "object_fit": null,
            "object_position": null,
            "order": null,
            "overflow": null,
            "overflow_x": null,
            "overflow_y": null,
            "padding": null,
            "right": null,
            "top": null,
            "visibility": null,
            "width": null
          }
        },
        "9f4f9a45eb4c44918b92f307af60764c": {
          "model_module": "@jupyter-widgets/base",
          "model_name": "LayoutModel",
          "model_module_version": "1.2.0",
          "state": {
            "_model_module": "@jupyter-widgets/base",
            "_model_module_version": "1.2.0",
            "_model_name": "LayoutModel",
            "_view_count": null,
            "_view_module": "@jupyter-widgets/base",
            "_view_module_version": "1.2.0",
            "_view_name": "LayoutView",
            "align_content": null,
            "align_items": null,
            "align_self": null,
            "border": null,
            "bottom": null,
            "display": null,
            "flex": null,
            "flex_flow": null,
            "grid_area": null,
            "grid_auto_columns": null,
            "grid_auto_flow": null,
            "grid_auto_rows": null,
            "grid_column": null,
            "grid_gap": null,
            "grid_row": null,
            "grid_template_areas": null,
            "grid_template_columns": null,
            "grid_template_rows": null,
            "height": null,
            "justify_content": null,
            "justify_items": null,
            "left": null,
            "margin": null,
            "max_height": null,
            "max_width": null,
            "min_height": null,
            "min_width": null,
            "object_fit": null,
            "object_position": null,
            "order": null,
            "overflow": null,
            "overflow_x": null,
            "overflow_y": null,
            "padding": null,
            "right": null,
            "top": null,
            "visibility": null,
            "width": null
          }
        },
        "6ee5e97262114b82b98a448f8a13df53": {
          "model_module": "@jupyter-widgets/controls",
          "model_name": "DescriptionStyleModel",
          "model_module_version": "1.5.0",
          "state": {
            "_model_module": "@jupyter-widgets/controls",
            "_model_module_version": "1.5.0",
            "_model_name": "DescriptionStyleModel",
            "_view_count": null,
            "_view_module": "@jupyter-widgets/base",
            "_view_module_version": "1.2.0",
            "_view_name": "StyleView",
            "description_width": ""
          }
        },
        "79f15f5075cd438a889987b7c151bc64": {
          "model_module": "@jupyter-widgets/base",
          "model_name": "LayoutModel",
          "model_module_version": "1.2.0",
          "state": {
            "_model_module": "@jupyter-widgets/base",
            "_model_module_version": "1.2.0",
            "_model_name": "LayoutModel",
            "_view_count": null,
            "_view_module": "@jupyter-widgets/base",
            "_view_module_version": "1.2.0",
            "_view_name": "LayoutView",
            "align_content": null,
            "align_items": null,
            "align_self": null,
            "border": null,
            "bottom": null,
            "display": null,
            "flex": null,
            "flex_flow": null,
            "grid_area": null,
            "grid_auto_columns": null,
            "grid_auto_flow": null,
            "grid_auto_rows": null,
            "grid_column": null,
            "grid_gap": null,
            "grid_row": null,
            "grid_template_areas": null,
            "grid_template_columns": null,
            "grid_template_rows": null,
            "height": null,
            "justify_content": null,
            "justify_items": null,
            "left": null,
            "margin": null,
            "max_height": null,
            "max_width": null,
            "min_height": null,
            "min_width": null,
            "object_fit": null,
            "object_position": null,
            "order": null,
            "overflow": null,
            "overflow_x": null,
            "overflow_y": null,
            "padding": null,
            "right": null,
            "top": null,
            "visibility": null,
            "width": "20px"
          }
        },
        "7b788abf76534750ba1e03f9aa8579b4": {
          "model_module": "@jupyter-widgets/controls",
          "model_name": "ProgressStyleModel",
          "model_module_version": "1.5.0",
          "state": {
            "_model_module": "@jupyter-widgets/controls",
            "_model_module_version": "1.5.0",
            "_model_name": "ProgressStyleModel",
            "_view_count": null,
            "_view_module": "@jupyter-widgets/base",
            "_view_module_version": "1.2.0",
            "_view_name": "StyleView",
            "bar_color": null,
            "description_width": ""
          }
        },
        "e3d9204eef914b4883b93aa092c00525": {
          "model_module": "@jupyter-widgets/base",
          "model_name": "LayoutModel",
          "model_module_version": "1.2.0",
          "state": {
            "_model_module": "@jupyter-widgets/base",
            "_model_module_version": "1.2.0",
            "_model_name": "LayoutModel",
            "_view_count": null,
            "_view_module": "@jupyter-widgets/base",
            "_view_module_version": "1.2.0",
            "_view_name": "LayoutView",
            "align_content": null,
            "align_items": null,
            "align_self": null,
            "border": null,
            "bottom": null,
            "display": null,
            "flex": null,
            "flex_flow": null,
            "grid_area": null,
            "grid_auto_columns": null,
            "grid_auto_flow": null,
            "grid_auto_rows": null,
            "grid_column": null,
            "grid_gap": null,
            "grid_row": null,
            "grid_template_areas": null,
            "grid_template_columns": null,
            "grid_template_rows": null,
            "height": null,
            "justify_content": null,
            "justify_items": null,
            "left": null,
            "margin": null,
            "max_height": null,
            "max_width": null,
            "min_height": null,
            "min_width": null,
            "object_fit": null,
            "object_position": null,
            "order": null,
            "overflow": null,
            "overflow_x": null,
            "overflow_y": null,
            "padding": null,
            "right": null,
            "top": null,
            "visibility": null,
            "width": null
          }
        },
        "5fa34f52d6434eaea6526056e9eeb3c3": {
          "model_module": "@jupyter-widgets/controls",
          "model_name": "DescriptionStyleModel",
          "model_module_version": "1.5.0",
          "state": {
            "_model_module": "@jupyter-widgets/controls",
            "_model_module_version": "1.5.0",
            "_model_name": "DescriptionStyleModel",
            "_view_count": null,
            "_view_module": "@jupyter-widgets/base",
            "_view_module_version": "1.2.0",
            "_view_name": "StyleView",
            "description_width": ""
          }
        },
        "7ee4715d88a94b54b5be2389a690aa1b": {
          "model_module": "@jupyter-widgets/controls",
          "model_name": "HBoxModel",
          "model_module_version": "1.5.0",
          "state": {
            "_dom_classes": [],
            "_model_module": "@jupyter-widgets/controls",
            "_model_module_version": "1.5.0",
            "_model_name": "HBoxModel",
            "_view_count": null,
            "_view_module": "@jupyter-widgets/controls",
            "_view_module_version": "1.5.0",
            "_view_name": "HBoxView",
            "box_style": "",
            "children": [
              "IPY_MODEL_2ad81406dd75473bb442f53b589b8f80",
              "IPY_MODEL_967094b04472457699ace025cf9bc6f6",
              "IPY_MODEL_3a9c6c7e829b4986bd18680208dfcd93"
            ],
            "layout": "IPY_MODEL_801a3ddde7bb4f7fba71a9077e59a595"
          }
        },
        "2ad81406dd75473bb442f53b589b8f80": {
          "model_module": "@jupyter-widgets/controls",
          "model_name": "HTMLModel",
          "model_module_version": "1.5.0",
          "state": {
            "_dom_classes": [],
            "_model_module": "@jupyter-widgets/controls",
            "_model_module_version": "1.5.0",
            "_model_name": "HTMLModel",
            "_view_count": null,
            "_view_module": "@jupyter-widgets/controls",
            "_view_module_version": "1.5.0",
            "_view_name": "HTMLView",
            "description": "",
            "description_tooltip": null,
            "layout": "IPY_MODEL_612ebef0983b4215b8b1295b5ce67d93",
            "placeholder": "​",
            "style": "IPY_MODEL_e17310c6d03644e6a7b3f135ee5fc02f",
            "value": "Dl Size...: 100%"
          }
        },
        "967094b04472457699ace025cf9bc6f6": {
          "model_module": "@jupyter-widgets/controls",
          "model_name": "FloatProgressModel",
          "model_module_version": "1.5.0",
          "state": {
            "_dom_classes": [],
            "_model_module": "@jupyter-widgets/controls",
            "_model_module_version": "1.5.0",
            "_model_name": "FloatProgressModel",
            "_view_count": null,
            "_view_module": "@jupyter-widgets/controls",
            "_view_module_version": "1.5.0",
            "_view_name": "ProgressView",
            "bar_style": "success",
            "description": "",
            "description_tooltip": null,
            "layout": "IPY_MODEL_e19e5721e12c4ee68b45c7ed892eef78",
            "max": 1,
            "min": 0,
            "orientation": "horizontal",
            "style": "IPY_MODEL_4a26479625d3440dba038b39e5cc3b66",
            "value": 1
          }
        },
        "3a9c6c7e829b4986bd18680208dfcd93": {
          "model_module": "@jupyter-widgets/controls",
          "model_name": "HTMLModel",
          "model_module_version": "1.5.0",
          "state": {
            "_dom_classes": [],
            "_model_module": "@jupyter-widgets/controls",
            "_model_module_version": "1.5.0",
            "_model_name": "HTMLModel",
            "_view_count": null,
            "_view_module": "@jupyter-widgets/controls",
            "_view_module_version": "1.5.0",
            "_view_name": "HTMLView",
            "description": "",
            "description_tooltip": null,
            "layout": "IPY_MODEL_5a11fd311cde4b679406c36bc1567882",
            "placeholder": "​",
            "style": "IPY_MODEL_94793255db424a698d8953e5cd7aba4f",
            "value": " 4/4 [00:00&lt;00:00,  1.86 MiB/s]"
          }
        },
        "801a3ddde7bb4f7fba71a9077e59a595": {
          "model_module": "@jupyter-widgets/base",
          "model_name": "LayoutModel",
          "model_module_version": "1.2.0",
          "state": {
            "_model_module": "@jupyter-widgets/base",
            "_model_module_version": "1.2.0",
            "_model_name": "LayoutModel",
            "_view_count": null,
            "_view_module": "@jupyter-widgets/base",
            "_view_module_version": "1.2.0",
            "_view_name": "LayoutView",
            "align_content": null,
            "align_items": null,
            "align_self": null,
            "border": null,
            "bottom": null,
            "display": null,
            "flex": null,
            "flex_flow": null,
            "grid_area": null,
            "grid_auto_columns": null,
            "grid_auto_flow": null,
            "grid_auto_rows": null,
            "grid_column": null,
            "grid_gap": null,
            "grid_row": null,
            "grid_template_areas": null,
            "grid_template_columns": null,
            "grid_template_rows": null,
            "height": null,
            "justify_content": null,
            "justify_items": null,
            "left": null,
            "margin": null,
            "max_height": null,
            "max_width": null,
            "min_height": null,
            "min_width": null,
            "object_fit": null,
            "object_position": null,
            "order": null,
            "overflow": null,
            "overflow_x": null,
            "overflow_y": null,
            "padding": null,
            "right": null,
            "top": null,
            "visibility": null,
            "width": null
          }
        },
        "612ebef0983b4215b8b1295b5ce67d93": {
          "model_module": "@jupyter-widgets/base",
          "model_name": "LayoutModel",
          "model_module_version": "1.2.0",
          "state": {
            "_model_module": "@jupyter-widgets/base",
            "_model_module_version": "1.2.0",
            "_model_name": "LayoutModel",
            "_view_count": null,
            "_view_module": "@jupyter-widgets/base",
            "_view_module_version": "1.2.0",
            "_view_name": "LayoutView",
            "align_content": null,
            "align_items": null,
            "align_self": null,
            "border": null,
            "bottom": null,
            "display": null,
            "flex": null,
            "flex_flow": null,
            "grid_area": null,
            "grid_auto_columns": null,
            "grid_auto_flow": null,
            "grid_auto_rows": null,
            "grid_column": null,
            "grid_gap": null,
            "grid_row": null,
            "grid_template_areas": null,
            "grid_template_columns": null,
            "grid_template_rows": null,
            "height": null,
            "justify_content": null,
            "justify_items": null,
            "left": null,
            "margin": null,
            "max_height": null,
            "max_width": null,
            "min_height": null,
            "min_width": null,
            "object_fit": null,
            "object_position": null,
            "order": null,
            "overflow": null,
            "overflow_x": null,
            "overflow_y": null,
            "padding": null,
            "right": null,
            "top": null,
            "visibility": null,
            "width": null
          }
        },
        "e17310c6d03644e6a7b3f135ee5fc02f": {
          "model_module": "@jupyter-widgets/controls",
          "model_name": "DescriptionStyleModel",
          "model_module_version": "1.5.0",
          "state": {
            "_model_module": "@jupyter-widgets/controls",
            "_model_module_version": "1.5.0",
            "_model_name": "DescriptionStyleModel",
            "_view_count": null,
            "_view_module": "@jupyter-widgets/base",
            "_view_module_version": "1.2.0",
            "_view_name": "StyleView",
            "description_width": ""
          }
        },
        "e19e5721e12c4ee68b45c7ed892eef78": {
          "model_module": "@jupyter-widgets/base",
          "model_name": "LayoutModel",
          "model_module_version": "1.2.0",
          "state": {
            "_model_module": "@jupyter-widgets/base",
            "_model_module_version": "1.2.0",
            "_model_name": "LayoutModel",
            "_view_count": null,
            "_view_module": "@jupyter-widgets/base",
            "_view_module_version": "1.2.0",
            "_view_name": "LayoutView",
            "align_content": null,
            "align_items": null,
            "align_self": null,
            "border": null,
            "bottom": null,
            "display": null,
            "flex": null,
            "flex_flow": null,
            "grid_area": null,
            "grid_auto_columns": null,
            "grid_auto_flow": null,
            "grid_auto_rows": null,
            "grid_column": null,
            "grid_gap": null,
            "grid_row": null,
            "grid_template_areas": null,
            "grid_template_columns": null,
            "grid_template_rows": null,
            "height": null,
            "justify_content": null,
            "justify_items": null,
            "left": null,
            "margin": null,
            "max_height": null,
            "max_width": null,
            "min_height": null,
            "min_width": null,
            "object_fit": null,
            "object_position": null,
            "order": null,
            "overflow": null,
            "overflow_x": null,
            "overflow_y": null,
            "padding": null,
            "right": null,
            "top": null,
            "visibility": null,
            "width": "20px"
          }
        },
        "4a26479625d3440dba038b39e5cc3b66": {
          "model_module": "@jupyter-widgets/controls",
          "model_name": "ProgressStyleModel",
          "model_module_version": "1.5.0",
          "state": {
            "_model_module": "@jupyter-widgets/controls",
            "_model_module_version": "1.5.0",
            "_model_name": "ProgressStyleModel",
            "_view_count": null,
            "_view_module": "@jupyter-widgets/base",
            "_view_module_version": "1.2.0",
            "_view_name": "StyleView",
            "bar_color": null,
            "description_width": ""
          }
        },
        "5a11fd311cde4b679406c36bc1567882": {
          "model_module": "@jupyter-widgets/base",
          "model_name": "LayoutModel",
          "model_module_version": "1.2.0",
          "state": {
            "_model_module": "@jupyter-widgets/base",
            "_model_module_version": "1.2.0",
            "_model_name": "LayoutModel",
            "_view_count": null,
            "_view_module": "@jupyter-widgets/base",
            "_view_module_version": "1.2.0",
            "_view_name": "LayoutView",
            "align_content": null,
            "align_items": null,
            "align_self": null,
            "border": null,
            "bottom": null,
            "display": null,
            "flex": null,
            "flex_flow": null,
            "grid_area": null,
            "grid_auto_columns": null,
            "grid_auto_flow": null,
            "grid_auto_rows": null,
            "grid_column": null,
            "grid_gap": null,
            "grid_row": null,
            "grid_template_areas": null,
            "grid_template_columns": null,
            "grid_template_rows": null,
            "height": null,
            "justify_content": null,
            "justify_items": null,
            "left": null,
            "margin": null,
            "max_height": null,
            "max_width": null,
            "min_height": null,
            "min_width": null,
            "object_fit": null,
            "object_position": null,
            "order": null,
            "overflow": null,
            "overflow_x": null,
            "overflow_y": null,
            "padding": null,
            "right": null,
            "top": null,
            "visibility": null,
            "width": null
          }
        },
        "94793255db424a698d8953e5cd7aba4f": {
          "model_module": "@jupyter-widgets/controls",
          "model_name": "DescriptionStyleModel",
          "model_module_version": "1.5.0",
          "state": {
            "_model_module": "@jupyter-widgets/controls",
            "_model_module_version": "1.5.0",
            "_model_name": "DescriptionStyleModel",
            "_view_count": null,
            "_view_module": "@jupyter-widgets/base",
            "_view_module_version": "1.2.0",
            "_view_name": "StyleView",
            "description_width": ""
          }
        },
        "d7c63852633d40e3ac99aa535df7f567": {
          "model_module": "@jupyter-widgets/controls",
          "model_name": "HBoxModel",
          "model_module_version": "1.5.0",
          "state": {
            "_dom_classes": [],
            "_model_module": "@jupyter-widgets/controls",
            "_model_module_version": "1.5.0",
            "_model_name": "HBoxModel",
            "_view_count": null,
            "_view_module": "@jupyter-widgets/controls",
            "_view_module_version": "1.5.0",
            "_view_name": "HBoxView",
            "box_style": "",
            "children": [
              "IPY_MODEL_bac6f798f9b1428d9307c0f5eaf4baf7",
              "IPY_MODEL_0e1900d7d8ec41b6a7e1b938f17ddd61",
              "IPY_MODEL_49d6e09ee7c84b75a761ed36d3cb1100"
            ],
            "layout": "IPY_MODEL_39215110b0224afab770a7c0fb26bd07"
          }
        },
        "bac6f798f9b1428d9307c0f5eaf4baf7": {
          "model_module": "@jupyter-widgets/controls",
          "model_name": "HTMLModel",
          "model_module_version": "1.5.0",
          "state": {
            "_dom_classes": [],
            "_model_module": "@jupyter-widgets/controls",
            "_model_module_version": "1.5.0",
            "_model_name": "HTMLModel",
            "_view_count": null,
            "_view_module": "@jupyter-widgets/controls",
            "_view_module_version": "1.5.0",
            "_view_name": "HTMLView",
            "description": "",
            "description_tooltip": null,
            "layout": "IPY_MODEL_92a127dd7f09447ca42a38212027a777",
            "placeholder": "​",
            "style": "IPY_MODEL_f83cb7731d6d429ea3e2455673e04ae9",
            "value": "Extraction completed...: 100%"
          }
        },
        "0e1900d7d8ec41b6a7e1b938f17ddd61": {
          "model_module": "@jupyter-widgets/controls",
          "model_name": "FloatProgressModel",
          "model_module_version": "1.5.0",
          "state": {
            "_dom_classes": [],
            "_model_module": "@jupyter-widgets/controls",
            "_model_module_version": "1.5.0",
            "_model_name": "FloatProgressModel",
            "_view_count": null,
            "_view_module": "@jupyter-widgets/controls",
            "_view_module_version": "1.5.0",
            "_view_name": "ProgressView",
            "bar_style": "success",
            "description": "",
            "description_tooltip": null,
            "layout": "IPY_MODEL_8cdc0ff4b89f4338a4a9cc2af2a9e9e4",
            "max": 1,
            "min": 0,
            "orientation": "horizontal",
            "style": "IPY_MODEL_74963a2cdf034ffaa6a5d5eba5bc806f",
            "value": 1
          }
        },
        "49d6e09ee7c84b75a761ed36d3cb1100": {
          "model_module": "@jupyter-widgets/controls",
          "model_name": "HTMLModel",
          "model_module_version": "1.5.0",
          "state": {
            "_dom_classes": [],
            "_model_module": "@jupyter-widgets/controls",
            "_model_module_version": "1.5.0",
            "_model_name": "HTMLModel",
            "_view_count": null,
            "_view_module": "@jupyter-widgets/controls",
            "_view_module_version": "1.5.0",
            "_view_name": "HTMLView",
            "description": "",
            "description_tooltip": null,
            "layout": "IPY_MODEL_83937d670fbd4951ae930fbb9a098b16",
            "placeholder": "​",
            "style": "IPY_MODEL_02934c0cf0af41e69726c6bd0f39e50f",
            "value": " 1/1 [00:00&lt;00:00,  1.29 file/s]"
          }
        },
        "39215110b0224afab770a7c0fb26bd07": {
          "model_module": "@jupyter-widgets/base",
          "model_name": "LayoutModel",
          "model_module_version": "1.2.0",
          "state": {
            "_model_module": "@jupyter-widgets/base",
            "_model_module_version": "1.2.0",
            "_model_name": "LayoutModel",
            "_view_count": null,
            "_view_module": "@jupyter-widgets/base",
            "_view_module_version": "1.2.0",
            "_view_name": "LayoutView",
            "align_content": null,
            "align_items": null,
            "align_self": null,
            "border": null,
            "bottom": null,
            "display": null,
            "flex": null,
            "flex_flow": null,
            "grid_area": null,
            "grid_auto_columns": null,
            "grid_auto_flow": null,
            "grid_auto_rows": null,
            "grid_column": null,
            "grid_gap": null,
            "grid_row": null,
            "grid_template_areas": null,
            "grid_template_columns": null,
            "grid_template_rows": null,
            "height": null,
            "justify_content": null,
            "justify_items": null,
            "left": null,
            "margin": null,
            "max_height": null,
            "max_width": null,
            "min_height": null,
            "min_width": null,
            "object_fit": null,
            "object_position": null,
            "order": null,
            "overflow": null,
            "overflow_x": null,
            "overflow_y": null,
            "padding": null,
            "right": null,
            "top": null,
            "visibility": null,
            "width": null
          }
        },
        "92a127dd7f09447ca42a38212027a777": {
          "model_module": "@jupyter-widgets/base",
          "model_name": "LayoutModel",
          "model_module_version": "1.2.0",
          "state": {
            "_model_module": "@jupyter-widgets/base",
            "_model_module_version": "1.2.0",
            "_model_name": "LayoutModel",
            "_view_count": null,
            "_view_module": "@jupyter-widgets/base",
            "_view_module_version": "1.2.0",
            "_view_name": "LayoutView",
            "align_content": null,
            "align_items": null,
            "align_self": null,
            "border": null,
            "bottom": null,
            "display": null,
            "flex": null,
            "flex_flow": null,
            "grid_area": null,
            "grid_auto_columns": null,
            "grid_auto_flow": null,
            "grid_auto_rows": null,
            "grid_column": null,
            "grid_gap": null,
            "grid_row": null,
            "grid_template_areas": null,
            "grid_template_columns": null,
            "grid_template_rows": null,
            "height": null,
            "justify_content": null,
            "justify_items": null,
            "left": null,
            "margin": null,
            "max_height": null,
            "max_width": null,
            "min_height": null,
            "min_width": null,
            "object_fit": null,
            "object_position": null,
            "order": null,
            "overflow": null,
            "overflow_x": null,
            "overflow_y": null,
            "padding": null,
            "right": null,
            "top": null,
            "visibility": null,
            "width": null
          }
        },
        "f83cb7731d6d429ea3e2455673e04ae9": {
          "model_module": "@jupyter-widgets/controls",
          "model_name": "DescriptionStyleModel",
          "model_module_version": "1.5.0",
          "state": {
            "_model_module": "@jupyter-widgets/controls",
            "_model_module_version": "1.5.0",
            "_model_name": "DescriptionStyleModel",
            "_view_count": null,
            "_view_module": "@jupyter-widgets/base",
            "_view_module_version": "1.2.0",
            "_view_name": "StyleView",
            "description_width": ""
          }
        },
        "8cdc0ff4b89f4338a4a9cc2af2a9e9e4": {
          "model_module": "@jupyter-widgets/base",
          "model_name": "LayoutModel",
          "model_module_version": "1.2.0",
          "state": {
            "_model_module": "@jupyter-widgets/base",
            "_model_module_version": "1.2.0",
            "_model_name": "LayoutModel",
            "_view_count": null,
            "_view_module": "@jupyter-widgets/base",
            "_view_module_version": "1.2.0",
            "_view_name": "LayoutView",
            "align_content": null,
            "align_items": null,
            "align_self": null,
            "border": null,
            "bottom": null,
            "display": null,
            "flex": null,
            "flex_flow": null,
            "grid_area": null,
            "grid_auto_columns": null,
            "grid_auto_flow": null,
            "grid_auto_rows": null,
            "grid_column": null,
            "grid_gap": null,
            "grid_row": null,
            "grid_template_areas": null,
            "grid_template_columns": null,
            "grid_template_rows": null,
            "height": null,
            "justify_content": null,
            "justify_items": null,
            "left": null,
            "margin": null,
            "max_height": null,
            "max_width": null,
            "min_height": null,
            "min_width": null,
            "object_fit": null,
            "object_position": null,
            "order": null,
            "overflow": null,
            "overflow_x": null,
            "overflow_y": null,
            "padding": null,
            "right": null,
            "top": null,
            "visibility": null,
            "width": "20px"
          }
        },
        "74963a2cdf034ffaa6a5d5eba5bc806f": {
          "model_module": "@jupyter-widgets/controls",
          "model_name": "ProgressStyleModel",
          "model_module_version": "1.5.0",
          "state": {
            "_model_module": "@jupyter-widgets/controls",
            "_model_module_version": "1.5.0",
            "_model_name": "ProgressStyleModel",
            "_view_count": null,
            "_view_module": "@jupyter-widgets/base",
            "_view_module_version": "1.2.0",
            "_view_name": "StyleView",
            "bar_color": null,
            "description_width": ""
          }
        },
        "83937d670fbd4951ae930fbb9a098b16": {
          "model_module": "@jupyter-widgets/base",
          "model_name": "LayoutModel",
          "model_module_version": "1.2.0",
          "state": {
            "_model_module": "@jupyter-widgets/base",
            "_model_module_version": "1.2.0",
            "_model_name": "LayoutModel",
            "_view_count": null,
            "_view_module": "@jupyter-widgets/base",
            "_view_module_version": "1.2.0",
            "_view_name": "LayoutView",
            "align_content": null,
            "align_items": null,
            "align_self": null,
            "border": null,
            "bottom": null,
            "display": null,
            "flex": null,
            "flex_flow": null,
            "grid_area": null,
            "grid_auto_columns": null,
            "grid_auto_flow": null,
            "grid_auto_rows": null,
            "grid_column": null,
            "grid_gap": null,
            "grid_row": null,
            "grid_template_areas": null,
            "grid_template_columns": null,
            "grid_template_rows": null,
            "height": null,
            "justify_content": null,
            "justify_items": null,
            "left": null,
            "margin": null,
            "max_height": null,
            "max_width": null,
            "min_height": null,
            "min_width": null,
            "object_fit": null,
            "object_position": null,
            "order": null,
            "overflow": null,
            "overflow_x": null,
            "overflow_y": null,
            "padding": null,
            "right": null,
            "top": null,
            "visibility": null,
            "width": null
          }
        },
        "02934c0cf0af41e69726c6bd0f39e50f": {
          "model_module": "@jupyter-widgets/controls",
          "model_name": "DescriptionStyleModel",
          "model_module_version": "1.5.0",
          "state": {
            "_model_module": "@jupyter-widgets/controls",
            "_model_module_version": "1.5.0",
            "_model_name": "DescriptionStyleModel",
            "_view_count": null,
            "_view_module": "@jupyter-widgets/base",
            "_view_module_version": "1.2.0",
            "_view_name": "StyleView",
            "description_width": ""
          }
        },
        "451a593c66054a32bbb0828aa58f335f": {
          "model_module": "@jupyter-widgets/controls",
          "model_name": "HBoxModel",
          "model_module_version": "1.5.0",
          "state": {
            "_dom_classes": [],
            "_model_module": "@jupyter-widgets/controls",
            "_model_module_version": "1.5.0",
            "_model_name": "HBoxModel",
            "_view_count": null,
            "_view_module": "@jupyter-widgets/controls",
            "_view_module_version": "1.5.0",
            "_view_name": "HBoxView",
            "box_style": "",
            "children": [
              "IPY_MODEL_3c20eb59e0d942a392547ea83541464e",
              "IPY_MODEL_fb346c5148f74c1e8f9c0cfd51b8ab68",
              "IPY_MODEL_d5ddf2c2cb9a461e89e9270c389fc293"
            ],
            "layout": "IPY_MODEL_28b1471db68c4eda9386921de1ae01e9"
          }
        },
        "3c20eb59e0d942a392547ea83541464e": {
          "model_module": "@jupyter-widgets/controls",
          "model_name": "HTMLModel",
          "model_module_version": "1.5.0",
          "state": {
            "_dom_classes": [],
            "_model_module": "@jupyter-widgets/controls",
            "_model_module_version": "1.5.0",
            "_model_name": "HTMLModel",
            "_view_count": null,
            "_view_module": "@jupyter-widgets/controls",
            "_view_module_version": "1.5.0",
            "_view_name": "HTMLView",
            "description": "",
            "description_tooltip": null,
            "layout": "IPY_MODEL_b6f0cb53450449969318cfd54e9993a6",
            "placeholder": "​",
            "style": "IPY_MODEL_149931f93e3743c2bf0f87434ce0bb84",
            "value": "Generating splits...: 100%"
          }
        },
        "fb346c5148f74c1e8f9c0cfd51b8ab68": {
          "model_module": "@jupyter-widgets/controls",
          "model_name": "FloatProgressModel",
          "model_module_version": "1.5.0",
          "state": {
            "_dom_classes": [],
            "_model_module": "@jupyter-widgets/controls",
            "_model_module_version": "1.5.0",
            "_model_name": "FloatProgressModel",
            "_view_count": null,
            "_view_module": "@jupyter-widgets/controls",
            "_view_module_version": "1.5.0",
            "_view_name": "ProgressView",
            "bar_style": "",
            "description": "",
            "description_tooltip": null,
            "layout": "IPY_MODEL_c95548c5afd14ef28edceae489043c79",
            "max": 1,
            "min": 0,
            "orientation": "horizontal",
            "style": "IPY_MODEL_4b8bb44250194fdf9137b17034323da6",
            "value": 1
          }
        },
        "d5ddf2c2cb9a461e89e9270c389fc293": {
          "model_module": "@jupyter-widgets/controls",
          "model_name": "HTMLModel",
          "model_module_version": "1.5.0",
          "state": {
            "_dom_classes": [],
            "_model_module": "@jupyter-widgets/controls",
            "_model_module_version": "1.5.0",
            "_model_name": "HTMLModel",
            "_view_count": null,
            "_view_module": "@jupyter-widgets/controls",
            "_view_module_version": "1.5.0",
            "_view_name": "HTMLView",
            "description": "",
            "description_tooltip": null,
            "layout": "IPY_MODEL_8be76984e1ea4502af2201713afbb670",
            "placeholder": "​",
            "style": "IPY_MODEL_d4120b1d771f4cf9aea7bdc2ab9bbff3",
            "value": " 1/1 [00:47&lt;00:00, 47.14s/ splits]"
          }
        },
        "28b1471db68c4eda9386921de1ae01e9": {
          "model_module": "@jupyter-widgets/base",
          "model_name": "LayoutModel",
          "model_module_version": "1.2.0",
          "state": {
            "_model_module": "@jupyter-widgets/base",
            "_model_module_version": "1.2.0",
            "_model_name": "LayoutModel",
            "_view_count": null,
            "_view_module": "@jupyter-widgets/base",
            "_view_module_version": "1.2.0",
            "_view_name": "LayoutView",
            "align_content": null,
            "align_items": null,
            "align_self": null,
            "border": null,
            "bottom": null,
            "display": null,
            "flex": null,
            "flex_flow": null,
            "grid_area": null,
            "grid_auto_columns": null,
            "grid_auto_flow": null,
            "grid_auto_rows": null,
            "grid_column": null,
            "grid_gap": null,
            "grid_row": null,
            "grid_template_areas": null,
            "grid_template_columns": null,
            "grid_template_rows": null,
            "height": null,
            "justify_content": null,
            "justify_items": null,
            "left": null,
            "margin": null,
            "max_height": null,
            "max_width": null,
            "min_height": null,
            "min_width": null,
            "object_fit": null,
            "object_position": null,
            "order": null,
            "overflow": null,
            "overflow_x": null,
            "overflow_y": null,
            "padding": null,
            "right": null,
            "top": null,
            "visibility": null,
            "width": null
          }
        },
        "b6f0cb53450449969318cfd54e9993a6": {
          "model_module": "@jupyter-widgets/base",
          "model_name": "LayoutModel",
          "model_module_version": "1.2.0",
          "state": {
            "_model_module": "@jupyter-widgets/base",
            "_model_module_version": "1.2.0",
            "_model_name": "LayoutModel",
            "_view_count": null,
            "_view_module": "@jupyter-widgets/base",
            "_view_module_version": "1.2.0",
            "_view_name": "LayoutView",
            "align_content": null,
            "align_items": null,
            "align_self": null,
            "border": null,
            "bottom": null,
            "display": null,
            "flex": null,
            "flex_flow": null,
            "grid_area": null,
            "grid_auto_columns": null,
            "grid_auto_flow": null,
            "grid_auto_rows": null,
            "grid_column": null,
            "grid_gap": null,
            "grid_row": null,
            "grid_template_areas": null,
            "grid_template_columns": null,
            "grid_template_rows": null,
            "height": null,
            "justify_content": null,
            "justify_items": null,
            "left": null,
            "margin": null,
            "max_height": null,
            "max_width": null,
            "min_height": null,
            "min_width": null,
            "object_fit": null,
            "object_position": null,
            "order": null,
            "overflow": null,
            "overflow_x": null,
            "overflow_y": null,
            "padding": null,
            "right": null,
            "top": null,
            "visibility": null,
            "width": null
          }
        },
        "149931f93e3743c2bf0f87434ce0bb84": {
          "model_module": "@jupyter-widgets/controls",
          "model_name": "DescriptionStyleModel",
          "model_module_version": "1.5.0",
          "state": {
            "_model_module": "@jupyter-widgets/controls",
            "_model_module_version": "1.5.0",
            "_model_name": "DescriptionStyleModel",
            "_view_count": null,
            "_view_module": "@jupyter-widgets/base",
            "_view_module_version": "1.2.0",
            "_view_name": "StyleView",
            "description_width": ""
          }
        },
        "c95548c5afd14ef28edceae489043c79": {
          "model_module": "@jupyter-widgets/base",
          "model_name": "LayoutModel",
          "model_module_version": "1.2.0",
          "state": {
            "_model_module": "@jupyter-widgets/base",
            "_model_module_version": "1.2.0",
            "_model_name": "LayoutModel",
            "_view_count": null,
            "_view_module": "@jupyter-widgets/base",
            "_view_module_version": "1.2.0",
            "_view_name": "LayoutView",
            "align_content": null,
            "align_items": null,
            "align_self": null,
            "border": null,
            "bottom": null,
            "display": null,
            "flex": null,
            "flex_flow": null,
            "grid_area": null,
            "grid_auto_columns": null,
            "grid_auto_flow": null,
            "grid_auto_rows": null,
            "grid_column": null,
            "grid_gap": null,
            "grid_row": null,
            "grid_template_areas": null,
            "grid_template_columns": null,
            "grid_template_rows": null,
            "height": null,
            "justify_content": null,
            "justify_items": null,
            "left": null,
            "margin": null,
            "max_height": null,
            "max_width": null,
            "min_height": null,
            "min_width": null,
            "object_fit": null,
            "object_position": null,
            "order": null,
            "overflow": null,
            "overflow_x": null,
            "overflow_y": null,
            "padding": null,
            "right": null,
            "top": null,
            "visibility": null,
            "width": null
          }
        },
        "4b8bb44250194fdf9137b17034323da6": {
          "model_module": "@jupyter-widgets/controls",
          "model_name": "ProgressStyleModel",
          "model_module_version": "1.5.0",
          "state": {
            "_model_module": "@jupyter-widgets/controls",
            "_model_module_version": "1.5.0",
            "_model_name": "ProgressStyleModel",
            "_view_count": null,
            "_view_module": "@jupyter-widgets/base",
            "_view_module_version": "1.2.0",
            "_view_name": "StyleView",
            "bar_color": null,
            "description_width": ""
          }
        },
        "8be76984e1ea4502af2201713afbb670": {
          "model_module": "@jupyter-widgets/base",
          "model_name": "LayoutModel",
          "model_module_version": "1.2.0",
          "state": {
            "_model_module": "@jupyter-widgets/base",
            "_model_module_version": "1.2.0",
            "_model_name": "LayoutModel",
            "_view_count": null,
            "_view_module": "@jupyter-widgets/base",
            "_view_module_version": "1.2.0",
            "_view_name": "LayoutView",
            "align_content": null,
            "align_items": null,
            "align_self": null,
            "border": null,
            "bottom": null,
            "display": null,
            "flex": null,
            "flex_flow": null,
            "grid_area": null,
            "grid_auto_columns": null,
            "grid_auto_flow": null,
            "grid_auto_rows": null,
            "grid_column": null,
            "grid_gap": null,
            "grid_row": null,
            "grid_template_areas": null,
            "grid_template_columns": null,
            "grid_template_rows": null,
            "height": null,
            "justify_content": null,
            "justify_items": null,
            "left": null,
            "margin": null,
            "max_height": null,
            "max_width": null,
            "min_height": null,
            "min_width": null,
            "object_fit": null,
            "object_position": null,
            "order": null,
            "overflow": null,
            "overflow_x": null,
            "overflow_y": null,
            "padding": null,
            "right": null,
            "top": null,
            "visibility": null,
            "width": null
          }
        },
        "d4120b1d771f4cf9aea7bdc2ab9bbff3": {
          "model_module": "@jupyter-widgets/controls",
          "model_name": "DescriptionStyleModel",
          "model_module_version": "1.5.0",
          "state": {
            "_model_module": "@jupyter-widgets/controls",
            "_model_module_version": "1.5.0",
            "_model_name": "DescriptionStyleModel",
            "_view_count": null,
            "_view_module": "@jupyter-widgets/base",
            "_view_module_version": "1.2.0",
            "_view_name": "StyleView",
            "description_width": ""
          }
        },
        "801a0afedb3843eb825fb0dbf7ff6b4c": {
          "model_module": "@jupyter-widgets/controls",
          "model_name": "HBoxModel",
          "model_module_version": "1.5.0",
          "state": {
            "_dom_classes": [],
            "_model_module": "@jupyter-widgets/controls",
            "_model_module_version": "1.5.0",
            "_model_name": "HBoxModel",
            "_view_count": null,
            "_view_module": "@jupyter-widgets/controls",
            "_view_module_version": "1.5.0",
            "_view_name": "HBoxView",
            "box_style": "",
            "children": [
              "IPY_MODEL_264ed2d4176a40ca8a4e30019798759a",
              "IPY_MODEL_af79ac8f81484a83941217189e119358",
              "IPY_MODEL_23f59f07e80149f9a7ad6dc78ca140d1"
            ],
            "layout": "IPY_MODEL_cfd35046296041db84f2f69e40408092"
          }
        },
        "264ed2d4176a40ca8a4e30019798759a": {
          "model_module": "@jupyter-widgets/controls",
          "model_name": "HTMLModel",
          "model_module_version": "1.5.0",
          "state": {
            "_dom_classes": [],
            "_model_module": "@jupyter-widgets/controls",
            "_model_module_version": "1.5.0",
            "_model_name": "HTMLModel",
            "_view_count": null,
            "_view_module": "@jupyter-widgets/controls",
            "_view_module_version": "1.5.0",
            "_view_name": "HTMLView",
            "description": "",
            "description_tooltip": null,
            "layout": "IPY_MODEL_6b7c914a59214de68902eb7d82f3c20d",
            "placeholder": "​",
            "style": "IPY_MODEL_b223a6cfe4b34ffdbf7a511b48d03d23",
            "value": "Generating train examples...: 100%"
          }
        },
        "af79ac8f81484a83941217189e119358": {
          "model_module": "@jupyter-widgets/controls",
          "model_name": "FloatProgressModel",
          "model_module_version": "1.5.0",
          "state": {
            "_dom_classes": [],
            "_model_module": "@jupyter-widgets/controls",
            "_model_module_version": "1.5.0",
            "_model_name": "FloatProgressModel",
            "_view_count": null,
            "_view_module": "@jupyter-widgets/controls",
            "_view_module_version": "1.5.0",
            "_view_name": "ProgressView",
            "bar_style": "",
            "description": "",
            "description_tooltip": null,
            "layout": "IPY_MODEL_541438dd1b544761a5ba4200eeddf1b9",
            "max": 100000,
            "min": 0,
            "orientation": "horizontal",
            "style": "IPY_MODEL_7879326bbde44cacaa14ee1999f69b88",
            "value": 100000
          }
        },
        "23f59f07e80149f9a7ad6dc78ca140d1": {
          "model_module": "@jupyter-widgets/controls",
          "model_name": "HTMLModel",
          "model_module_version": "1.5.0",
          "state": {
            "_dom_classes": [],
            "_model_module": "@jupyter-widgets/controls",
            "_model_module_version": "1.5.0",
            "_model_name": "HTMLModel",
            "_view_count": null,
            "_view_module": "@jupyter-widgets/controls",
            "_view_module_version": "1.5.0",
            "_view_name": "HTMLView",
            "description": "",
            "description_tooltip": null,
            "layout": "IPY_MODEL_9f9d65a4e4404bbcb6e3f61d70cf3071",
            "placeholder": "​",
            "style": "IPY_MODEL_754fd8a270a04e6fb9d5950ab36156b7",
            "value": " 99829/100000 [00:46&lt;00:00, 2145.85 examples/s]"
          }
        },
        "cfd35046296041db84f2f69e40408092": {
          "model_module": "@jupyter-widgets/base",
          "model_name": "LayoutModel",
          "model_module_version": "1.2.0",
          "state": {
            "_model_module": "@jupyter-widgets/base",
            "_model_module_version": "1.2.0",
            "_model_name": "LayoutModel",
            "_view_count": null,
            "_view_module": "@jupyter-widgets/base",
            "_view_module_version": "1.2.0",
            "_view_name": "LayoutView",
            "align_content": null,
            "align_items": null,
            "align_self": null,
            "border": null,
            "bottom": null,
            "display": null,
            "flex": null,
            "flex_flow": null,
            "grid_area": null,
            "grid_auto_columns": null,
            "grid_auto_flow": null,
            "grid_auto_rows": null,
            "grid_column": null,
            "grid_gap": null,
            "grid_row": null,
            "grid_template_areas": null,
            "grid_template_columns": null,
            "grid_template_rows": null,
            "height": null,
            "justify_content": null,
            "justify_items": null,
            "left": null,
            "margin": null,
            "max_height": null,
            "max_width": null,
            "min_height": null,
            "min_width": null,
            "object_fit": null,
            "object_position": null,
            "order": null,
            "overflow": null,
            "overflow_x": null,
            "overflow_y": null,
            "padding": null,
            "right": null,
            "top": null,
            "visibility": null,
            "width": null
          }
        },
        "6b7c914a59214de68902eb7d82f3c20d": {
          "model_module": "@jupyter-widgets/base",
          "model_name": "LayoutModel",
          "model_module_version": "1.2.0",
          "state": {
            "_model_module": "@jupyter-widgets/base",
            "_model_module_version": "1.2.0",
            "_model_name": "LayoutModel",
            "_view_count": null,
            "_view_module": "@jupyter-widgets/base",
            "_view_module_version": "1.2.0",
            "_view_name": "LayoutView",
            "align_content": null,
            "align_items": null,
            "align_self": null,
            "border": null,
            "bottom": null,
            "display": null,
            "flex": null,
            "flex_flow": null,
            "grid_area": null,
            "grid_auto_columns": null,
            "grid_auto_flow": null,
            "grid_auto_rows": null,
            "grid_column": null,
            "grid_gap": null,
            "grid_row": null,
            "grid_template_areas": null,
            "grid_template_columns": null,
            "grid_template_rows": null,
            "height": null,
            "justify_content": null,
            "justify_items": null,
            "left": null,
            "margin": null,
            "max_height": null,
            "max_width": null,
            "min_height": null,
            "min_width": null,
            "object_fit": null,
            "object_position": null,
            "order": null,
            "overflow": null,
            "overflow_x": null,
            "overflow_y": null,
            "padding": null,
            "right": null,
            "top": null,
            "visibility": null,
            "width": null
          }
        },
        "b223a6cfe4b34ffdbf7a511b48d03d23": {
          "model_module": "@jupyter-widgets/controls",
          "model_name": "DescriptionStyleModel",
          "model_module_version": "1.5.0",
          "state": {
            "_model_module": "@jupyter-widgets/controls",
            "_model_module_version": "1.5.0",
            "_model_name": "DescriptionStyleModel",
            "_view_count": null,
            "_view_module": "@jupyter-widgets/base",
            "_view_module_version": "1.2.0",
            "_view_name": "StyleView",
            "description_width": ""
          }
        },
        "541438dd1b544761a5ba4200eeddf1b9": {
          "model_module": "@jupyter-widgets/base",
          "model_name": "LayoutModel",
          "model_module_version": "1.2.0",
          "state": {
            "_model_module": "@jupyter-widgets/base",
            "_model_module_version": "1.2.0",
            "_model_name": "LayoutModel",
            "_view_count": null,
            "_view_module": "@jupyter-widgets/base",
            "_view_module_version": "1.2.0",
            "_view_name": "LayoutView",
            "align_content": null,
            "align_items": null,
            "align_self": null,
            "border": null,
            "bottom": null,
            "display": null,
            "flex": null,
            "flex_flow": null,
            "grid_area": null,
            "grid_auto_columns": null,
            "grid_auto_flow": null,
            "grid_auto_rows": null,
            "grid_column": null,
            "grid_gap": null,
            "grid_row": null,
            "grid_template_areas": null,
            "grid_template_columns": null,
            "grid_template_rows": null,
            "height": null,
            "justify_content": null,
            "justify_items": null,
            "left": null,
            "margin": null,
            "max_height": null,
            "max_width": null,
            "min_height": null,
            "min_width": null,
            "object_fit": null,
            "object_position": null,
            "order": null,
            "overflow": null,
            "overflow_x": null,
            "overflow_y": null,
            "padding": null,
            "right": null,
            "top": null,
            "visibility": null,
            "width": null
          }
        },
        "7879326bbde44cacaa14ee1999f69b88": {
          "model_module": "@jupyter-widgets/controls",
          "model_name": "ProgressStyleModel",
          "model_module_version": "1.5.0",
          "state": {
            "_model_module": "@jupyter-widgets/controls",
            "_model_module_version": "1.5.0",
            "_model_name": "ProgressStyleModel",
            "_view_count": null,
            "_view_module": "@jupyter-widgets/base",
            "_view_module_version": "1.2.0",
            "_view_name": "StyleView",
            "bar_color": null,
            "description_width": ""
          }
        },
        "9f9d65a4e4404bbcb6e3f61d70cf3071": {
          "model_module": "@jupyter-widgets/base",
          "model_name": "LayoutModel",
          "model_module_version": "1.2.0",
          "state": {
            "_model_module": "@jupyter-widgets/base",
            "_model_module_version": "1.2.0",
            "_model_name": "LayoutModel",
            "_view_count": null,
            "_view_module": "@jupyter-widgets/base",
            "_view_module_version": "1.2.0",
            "_view_name": "LayoutView",
            "align_content": null,
            "align_items": null,
            "align_self": null,
            "border": null,
            "bottom": null,
            "display": null,
            "flex": null,
            "flex_flow": null,
            "grid_area": null,
            "grid_auto_columns": null,
            "grid_auto_flow": null,
            "grid_auto_rows": null,
            "grid_column": null,
            "grid_gap": null,
            "grid_row": null,
            "grid_template_areas": null,
            "grid_template_columns": null,
            "grid_template_rows": null,
            "height": null,
            "justify_content": null,
            "justify_items": null,
            "left": null,
            "margin": null,
            "max_height": null,
            "max_width": null,
            "min_height": null,
            "min_width": null,
            "object_fit": null,
            "object_position": null,
            "order": null,
            "overflow": null,
            "overflow_x": null,
            "overflow_y": null,
            "padding": null,
            "right": null,
            "top": null,
            "visibility": null,
            "width": null
          }
        },
        "754fd8a270a04e6fb9d5950ab36156b7": {
          "model_module": "@jupyter-widgets/controls",
          "model_name": "DescriptionStyleModel",
          "model_module_version": "1.5.0",
          "state": {
            "_model_module": "@jupyter-widgets/controls",
            "_model_module_version": "1.5.0",
            "_model_name": "DescriptionStyleModel",
            "_view_count": null,
            "_view_module": "@jupyter-widgets/base",
            "_view_module_version": "1.2.0",
            "_view_name": "StyleView",
            "description_width": ""
          }
        },
        "561b023a05e24308ad95d8e220a10f66": {
          "model_module": "@jupyter-widgets/controls",
          "model_name": "HBoxModel",
          "model_module_version": "1.5.0",
          "state": {
            "_dom_classes": [],
            "_model_module": "@jupyter-widgets/controls",
            "_model_module_version": "1.5.0",
            "_model_name": "HBoxModel",
            "_view_count": null,
            "_view_module": "@jupyter-widgets/controls",
            "_view_module_version": "1.5.0",
            "_view_name": "HBoxView",
            "box_style": "",
            "children": [
              "IPY_MODEL_ba43d774c7b549e7a856236e6ae7b7c9",
              "IPY_MODEL_6077361da8bd4069a87225185d66ca19",
              "IPY_MODEL_23d45f9fcf9043bd8e914f473caccb49"
            ],
            "layout": "IPY_MODEL_b54fd6a6c8cb4206a7f2f7de01e1d3ec"
          }
        },
        "ba43d774c7b549e7a856236e6ae7b7c9": {
          "model_module": "@jupyter-widgets/controls",
          "model_name": "HTMLModel",
          "model_module_version": "1.5.0",
          "state": {
            "_dom_classes": [],
            "_model_module": "@jupyter-widgets/controls",
            "_model_module_version": "1.5.0",
            "_model_name": "HTMLModel",
            "_view_count": null,
            "_view_module": "@jupyter-widgets/controls",
            "_view_module_version": "1.5.0",
            "_view_name": "HTMLView",
            "description": "",
            "description_tooltip": null,
            "layout": "IPY_MODEL_7e4b7b25f95841098eaa7924373aff40",
            "placeholder": "​",
            "style": "IPY_MODEL_7c4b968882324b66a8f13d418ba26254",
            "value": "Shuffling ~/tensorflow_datasets/movielens/100k-ratings/0.1.1.incomplete1Z02DH/movielens-train.tfrecord*...:  99%"
          }
        },
        "6077361da8bd4069a87225185d66ca19": {
          "model_module": "@jupyter-widgets/controls",
          "model_name": "FloatProgressModel",
          "model_module_version": "1.5.0",
          "state": {
            "_dom_classes": [],
            "_model_module": "@jupyter-widgets/controls",
            "_model_module_version": "1.5.0",
            "_model_name": "FloatProgressModel",
            "_view_count": null,
            "_view_module": "@jupyter-widgets/controls",
            "_view_module_version": "1.5.0",
            "_view_name": "ProgressView",
            "bar_style": "",
            "description": "",
            "description_tooltip": null,
            "layout": "IPY_MODEL_c80aa669e28e4d78baf2f812be85f78d",
            "max": 100000,
            "min": 0,
            "orientation": "horizontal",
            "style": "IPY_MODEL_ac61736058fe4affaade426dc74eee34",
            "value": 100000
          }
        },
        "23d45f9fcf9043bd8e914f473caccb49": {
          "model_module": "@jupyter-widgets/controls",
          "model_name": "HTMLModel",
          "model_module_version": "1.5.0",
          "state": {
            "_dom_classes": [],
            "_model_module": "@jupyter-widgets/controls",
            "_model_module_version": "1.5.0",
            "_model_name": "HTMLModel",
            "_view_count": null,
            "_view_module": "@jupyter-widgets/controls",
            "_view_module_version": "1.5.0",
            "_view_name": "HTMLView",
            "description": "",
            "description_tooltip": null,
            "layout": "IPY_MODEL_e990029dee2b4ee8bb880a0c900bdeaa",
            "placeholder": "​",
            "style": "IPY_MODEL_b4586f053bbe4f30b19766a88087119a",
            "value": " 98757/100000 [00:00&lt;00:00, 258835.27 examples/s]"
          }
        },
        "b54fd6a6c8cb4206a7f2f7de01e1d3ec": {
          "model_module": "@jupyter-widgets/base",
          "model_name": "LayoutModel",
          "model_module_version": "1.2.0",
          "state": {
            "_model_module": "@jupyter-widgets/base",
            "_model_module_version": "1.2.0",
            "_model_name": "LayoutModel",
            "_view_count": null,
            "_view_module": "@jupyter-widgets/base",
            "_view_module_version": "1.2.0",
            "_view_name": "LayoutView",
            "align_content": null,
            "align_items": null,
            "align_self": null,
            "border": null,
            "bottom": null,
            "display": null,
            "flex": null,
            "flex_flow": null,
            "grid_area": null,
            "grid_auto_columns": null,
            "grid_auto_flow": null,
            "grid_auto_rows": null,
            "grid_column": null,
            "grid_gap": null,
            "grid_row": null,
            "grid_template_areas": null,
            "grid_template_columns": null,
            "grid_template_rows": null,
            "height": null,
            "justify_content": null,
            "justify_items": null,
            "left": null,
            "margin": null,
            "max_height": null,
            "max_width": null,
            "min_height": null,
            "min_width": null,
            "object_fit": null,
            "object_position": null,
            "order": null,
            "overflow": null,
            "overflow_x": null,
            "overflow_y": null,
            "padding": null,
            "right": null,
            "top": null,
            "visibility": null,
            "width": null
          }
        },
        "7e4b7b25f95841098eaa7924373aff40": {
          "model_module": "@jupyter-widgets/base",
          "model_name": "LayoutModel",
          "model_module_version": "1.2.0",
          "state": {
            "_model_module": "@jupyter-widgets/base",
            "_model_module_version": "1.2.0",
            "_model_name": "LayoutModel",
            "_view_count": null,
            "_view_module": "@jupyter-widgets/base",
            "_view_module_version": "1.2.0",
            "_view_name": "LayoutView",
            "align_content": null,
            "align_items": null,
            "align_self": null,
            "border": null,
            "bottom": null,
            "display": null,
            "flex": null,
            "flex_flow": null,
            "grid_area": null,
            "grid_auto_columns": null,
            "grid_auto_flow": null,
            "grid_auto_rows": null,
            "grid_column": null,
            "grid_gap": null,
            "grid_row": null,
            "grid_template_areas": null,
            "grid_template_columns": null,
            "grid_template_rows": null,
            "height": null,
            "justify_content": null,
            "justify_items": null,
            "left": null,
            "margin": null,
            "max_height": null,
            "max_width": null,
            "min_height": null,
            "min_width": null,
            "object_fit": null,
            "object_position": null,
            "order": null,
            "overflow": null,
            "overflow_x": null,
            "overflow_y": null,
            "padding": null,
            "right": null,
            "top": null,
            "visibility": null,
            "width": null
          }
        },
        "7c4b968882324b66a8f13d418ba26254": {
          "model_module": "@jupyter-widgets/controls",
          "model_name": "DescriptionStyleModel",
          "model_module_version": "1.5.0",
          "state": {
            "_model_module": "@jupyter-widgets/controls",
            "_model_module_version": "1.5.0",
            "_model_name": "DescriptionStyleModel",
            "_view_count": null,
            "_view_module": "@jupyter-widgets/base",
            "_view_module_version": "1.2.0",
            "_view_name": "StyleView",
            "description_width": ""
          }
        },
        "c80aa669e28e4d78baf2f812be85f78d": {
          "model_module": "@jupyter-widgets/base",
          "model_name": "LayoutModel",
          "model_module_version": "1.2.0",
          "state": {
            "_model_module": "@jupyter-widgets/base",
            "_model_module_version": "1.2.0",
            "_model_name": "LayoutModel",
            "_view_count": null,
            "_view_module": "@jupyter-widgets/base",
            "_view_module_version": "1.2.0",
            "_view_name": "LayoutView",
            "align_content": null,
            "align_items": null,
            "align_self": null,
            "border": null,
            "bottom": null,
            "display": null,
            "flex": null,
            "flex_flow": null,
            "grid_area": null,
            "grid_auto_columns": null,
            "grid_auto_flow": null,
            "grid_auto_rows": null,
            "grid_column": null,
            "grid_gap": null,
            "grid_row": null,
            "grid_template_areas": null,
            "grid_template_columns": null,
            "grid_template_rows": null,
            "height": null,
            "justify_content": null,
            "justify_items": null,
            "left": null,
            "margin": null,
            "max_height": null,
            "max_width": null,
            "min_height": null,
            "min_width": null,
            "object_fit": null,
            "object_position": null,
            "order": null,
            "overflow": null,
            "overflow_x": null,
            "overflow_y": null,
            "padding": null,
            "right": null,
            "top": null,
            "visibility": null,
            "width": null
          }
        },
        "ac61736058fe4affaade426dc74eee34": {
          "model_module": "@jupyter-widgets/controls",
          "model_name": "ProgressStyleModel",
          "model_module_version": "1.5.0",
          "state": {
            "_model_module": "@jupyter-widgets/controls",
            "_model_module_version": "1.5.0",
            "_model_name": "ProgressStyleModel",
            "_view_count": null,
            "_view_module": "@jupyter-widgets/base",
            "_view_module_version": "1.2.0",
            "_view_name": "StyleView",
            "bar_color": null,
            "description_width": ""
          }
        },
        "e990029dee2b4ee8bb880a0c900bdeaa": {
          "model_module": "@jupyter-widgets/base",
          "model_name": "LayoutModel",
          "model_module_version": "1.2.0",
          "state": {
            "_model_module": "@jupyter-widgets/base",
            "_model_module_version": "1.2.0",
            "_model_name": "LayoutModel",
            "_view_count": null,
            "_view_module": "@jupyter-widgets/base",
            "_view_module_version": "1.2.0",
            "_view_name": "LayoutView",
            "align_content": null,
            "align_items": null,
            "align_self": null,
            "border": null,
            "bottom": null,
            "display": null,
            "flex": null,
            "flex_flow": null,
            "grid_area": null,
            "grid_auto_columns": null,
            "grid_auto_flow": null,
            "grid_auto_rows": null,
            "grid_column": null,
            "grid_gap": null,
            "grid_row": null,
            "grid_template_areas": null,
            "grid_template_columns": null,
            "grid_template_rows": null,
            "height": null,
            "justify_content": null,
            "justify_items": null,
            "left": null,
            "margin": null,
            "max_height": null,
            "max_width": null,
            "min_height": null,
            "min_width": null,
            "object_fit": null,
            "object_position": null,
            "order": null,
            "overflow": null,
            "overflow_x": null,
            "overflow_y": null,
            "padding": null,
            "right": null,
            "top": null,
            "visibility": null,
            "width": null
          }
        },
        "b4586f053bbe4f30b19766a88087119a": {
          "model_module": "@jupyter-widgets/controls",
          "model_name": "DescriptionStyleModel",
          "model_module_version": "1.5.0",
          "state": {
            "_model_module": "@jupyter-widgets/controls",
            "_model_module_version": "1.5.0",
            "_model_name": "DescriptionStyleModel",
            "_view_count": null,
            "_view_module": "@jupyter-widgets/base",
            "_view_module_version": "1.2.0",
            "_view_name": "StyleView",
            "description_width": ""
          }
        }
      }
    }
  },
  "cells": [
    {
      "cell_type": "markdown",
      "metadata": {
        "id": "view-in-github",
        "colab_type": "text"
      },
      "source": [
        "<a href=\"https://colab.research.google.com/github/bellazeng2016/playground/blob/main/recommendation_sys.ipynb\" target=\"_parent\"><img src=\"https://colab.research.google.com/assets/colab-badge.svg\" alt=\"Open In Colab\"/></a>"
      ]
    },
    {
      "cell_type": "code",
      "execution_count": 1,
      "metadata": {
        "id": "R-YZbqS2G54k"
      },
      "outputs": [],
      "source": [
        "!pip install -q --upgrade tensorflow-datasets"
      ]
    },
    {
      "cell_type": "code",
      "source": [
        "import tensorflow_datasets as tfds"
      ],
      "metadata": {
        "id": "KikoLmcLHpps"
      },
      "execution_count": 2,
      "outputs": []
    },
    {
      "cell_type": "code",
      "source": [
        "# Download the data, save them as `tfrecord` files, load the `tfrecord` files\n",
        "# and create the `tf.data.Dataset` object containing the dataset.\n",
        "ratings_dataset, ratings_dataset_info = tfds.load(\n",
        "    name='movielens/100k-ratings',\n",
        "    # MovieLens dataset is not splitted into `train` and `test` sets by default.\n",
        "    # So TFDS has put it all into `train` split. We load it completely and split\n",
        "    # it manually.\n",
        "    split ='train',\n",
        "    with_info= True\n",
        ")"
      ],
      "metadata": {
        "colab": {
          "base_uri": "https://localhost:8080/",
          "height": 148,
          "referenced_widgets": [
            "c6c8c90f2850481fa9fd43cb57d42a7d",
            "290691469d184b3b9ed5cdac5109cbe8",
            "de8ca101f4c44d60afa9020f0d658e92",
            "0d953d4973244a08bde37bc52f60d5b6",
            "65b347a4140f406aaf0ea17b9c3121a3",
            "9f4f9a45eb4c44918b92f307af60764c",
            "6ee5e97262114b82b98a448f8a13df53",
            "79f15f5075cd438a889987b7c151bc64",
            "7b788abf76534750ba1e03f9aa8579b4",
            "e3d9204eef914b4883b93aa092c00525",
            "5fa34f52d6434eaea6526056e9eeb3c3",
            "7ee4715d88a94b54b5be2389a690aa1b",
            "2ad81406dd75473bb442f53b589b8f80",
            "967094b04472457699ace025cf9bc6f6",
            "3a9c6c7e829b4986bd18680208dfcd93",
            "801a3ddde7bb4f7fba71a9077e59a595",
            "612ebef0983b4215b8b1295b5ce67d93",
            "e17310c6d03644e6a7b3f135ee5fc02f",
            "e19e5721e12c4ee68b45c7ed892eef78",
            "4a26479625d3440dba038b39e5cc3b66",
            "5a11fd311cde4b679406c36bc1567882",
            "94793255db424a698d8953e5cd7aba4f",
            "d7c63852633d40e3ac99aa535df7f567",
            "bac6f798f9b1428d9307c0f5eaf4baf7",
            "0e1900d7d8ec41b6a7e1b938f17ddd61",
            "49d6e09ee7c84b75a761ed36d3cb1100",
            "39215110b0224afab770a7c0fb26bd07",
            "92a127dd7f09447ca42a38212027a777",
            "f83cb7731d6d429ea3e2455673e04ae9",
            "8cdc0ff4b89f4338a4a9cc2af2a9e9e4",
            "74963a2cdf034ffaa6a5d5eba5bc806f",
            "83937d670fbd4951ae930fbb9a098b16",
            "02934c0cf0af41e69726c6bd0f39e50f",
            "451a593c66054a32bbb0828aa58f335f",
            "3c20eb59e0d942a392547ea83541464e",
            "fb346c5148f74c1e8f9c0cfd51b8ab68",
            "d5ddf2c2cb9a461e89e9270c389fc293",
            "28b1471db68c4eda9386921de1ae01e9",
            "b6f0cb53450449969318cfd54e9993a6",
            "149931f93e3743c2bf0f87434ce0bb84",
            "c95548c5afd14ef28edceae489043c79",
            "4b8bb44250194fdf9137b17034323da6",
            "8be76984e1ea4502af2201713afbb670",
            "d4120b1d771f4cf9aea7bdc2ab9bbff3",
            "801a0afedb3843eb825fb0dbf7ff6b4c",
            "264ed2d4176a40ca8a4e30019798759a",
            "af79ac8f81484a83941217189e119358",
            "23f59f07e80149f9a7ad6dc78ca140d1",
            "cfd35046296041db84f2f69e40408092",
            "6b7c914a59214de68902eb7d82f3c20d",
            "b223a6cfe4b34ffdbf7a511b48d03d23",
            "541438dd1b544761a5ba4200eeddf1b9",
            "7879326bbde44cacaa14ee1999f69b88",
            "9f9d65a4e4404bbcb6e3f61d70cf3071",
            "754fd8a270a04e6fb9d5950ab36156b7",
            "561b023a05e24308ad95d8e220a10f66",
            "ba43d774c7b549e7a856236e6ae7b7c9",
            "6077361da8bd4069a87225185d66ca19",
            "23d45f9fcf9043bd8e914f473caccb49",
            "b54fd6a6c8cb4206a7f2f7de01e1d3ec",
            "7e4b7b25f95841098eaa7924373aff40",
            "7c4b968882324b66a8f13d418ba26254",
            "c80aa669e28e4d78baf2f812be85f78d",
            "ac61736058fe4affaade426dc74eee34",
            "e990029dee2b4ee8bb880a0c900bdeaa",
            "b4586f053bbe4f30b19766a88087119a"
          ]
        },
        "id": "cQDX6I7tHpsS",
        "outputId": "577b677c-1a29-463b-dfa9-35269e1bdaf8"
      },
      "execution_count": 4,
      "outputs": [
        {
          "output_type": "stream",
          "name": "stdout",
          "text": [
            "\u001b[1mDownloading and preparing dataset 4.70 MiB (download: 4.70 MiB, generated: 32.41 MiB, total: 37.10 MiB) to ~/tensorflow_datasets/movielens/100k-ratings/0.1.1...\u001b[0m\n"
          ]
        },
        {
          "output_type": "display_data",
          "data": {
            "text/plain": [
              "Dl Completed...: 0 url [00:00, ? url/s]"
            ],
            "application/vnd.jupyter.widget-view+json": {
              "version_major": 2,
              "version_minor": 0,
              "model_id": "c6c8c90f2850481fa9fd43cb57d42a7d"
            }
          },
          "metadata": {}
        },
        {
          "output_type": "display_data",
          "data": {
            "text/plain": [
              "Dl Size...: 0 MiB [00:00, ? MiB/s]"
            ],
            "application/vnd.jupyter.widget-view+json": {
              "version_major": 2,
              "version_minor": 0,
              "model_id": "7ee4715d88a94b54b5be2389a690aa1b"
            }
          },
          "metadata": {}
        },
        {
          "output_type": "display_data",
          "data": {
            "text/plain": [
              "Extraction completed...: 0 file [00:00, ? file/s]"
            ],
            "application/vnd.jupyter.widget-view+json": {
              "version_major": 2,
              "version_minor": 0,
              "model_id": "d7c63852633d40e3ac99aa535df7f567"
            }
          },
          "metadata": {}
        },
        {
          "output_type": "display_data",
          "data": {
            "text/plain": [
              "Generating splits...:   0%|          | 0/1 [00:00<?, ? splits/s]"
            ],
            "application/vnd.jupyter.widget-view+json": {
              "version_major": 2,
              "version_minor": 0,
              "model_id": "451a593c66054a32bbb0828aa58f335f"
            }
          },
          "metadata": {}
        },
        {
          "output_type": "display_data",
          "data": {
            "text/plain": [
              "Generating train examples...:   0%|          | 0/100000 [00:00<?, ? examples/s]"
            ],
            "application/vnd.jupyter.widget-view+json": {
              "version_major": 2,
              "version_minor": 0,
              "model_id": "801a0afedb3843eb825fb0dbf7ff6b4c"
            }
          },
          "metadata": {}
        },
        {
          "output_type": "display_data",
          "data": {
            "text/plain": [
              "Shuffling ~/tensorflow_datasets/movielens/100k-ratings/0.1.1.incomplete1Z02DH/movielens-train.tfrecord*...:   …"
            ],
            "application/vnd.jupyter.widget-view+json": {
              "version_major": 2,
              "version_minor": 0,
              "model_id": "561b023a05e24308ad95d8e220a10f66"
            }
          },
          "metadata": {}
        },
        {
          "output_type": "stream",
          "name": "stdout",
          "text": [
            "\u001b[1mDataset movielens downloaded and prepared to ~/tensorflow_datasets/movielens/100k-ratings/0.1.1. Subsequent calls will reuse this data.\u001b[0m\n"
          ]
        }
      ]
    },
    {
      "cell_type": "code",
      "source": [
        "import tensorflow as tf"
      ],
      "metadata": {
        "id": "LTwmOcX0HpvC"
      },
      "execution_count": 5,
      "outputs": []
    },
    {
      "cell_type": "code",
      "source": [
        "assert isinstance(ratings_dataset, tf.data.Dataset)"
      ],
      "metadata": {
        "id": "j20S2PvyHpxT"
      },
      "execution_count": 6,
      "outputs": []
    },
    {
      "cell_type": "code",
      "source": [
        "print(f'ratings_dataset size is {ratings_dataset.__len__()}')"
      ],
      "metadata": {
        "colab": {
          "base_uri": "https://localhost:8080/"
        },
        "id": "cMeKBksyHp0L",
        "outputId": "890690ab-3caf-4577-d9bf-4e7aba5bf037"
      },
      "execution_count": 9,
      "outputs": [
        {
          "output_type": "stream",
          "name": "stdout",
          "text": [
            "ratings_dataset size is 100000\n"
          ]
        }
      ]
    },
    {
      "cell_type": "code",
      "source": [
        "print(tfds.as_dataframe(ratings_dataset.take(5), ratings_dataset_info))"
      ],
      "metadata": {
        "colab": {
          "base_uri": "https://localhost:8080/"
        },
        "id": "D2AMoxPLHp2j",
        "outputId": "4c1eef25-9567-43eb-d784-ed885e8b3c74"
      },
      "execution_count": 13,
      "outputs": [
        {
          "output_type": "stream",
          "name": "stdout",
          "text": [
            "   bucketized_user_age movie_genres movie_id  \\\n",
            "0                 45.0          [7]   b'357'   \n",
            "1                 25.0      [4, 14]   b'709'   \n",
            "2                 18.0          [4]   b'412'   \n",
            "3                 50.0       [5, 7]    b'56'   \n",
            "4                 50.0     [10, 16]   b'895'   \n",
            "\n",
            "                                 movie_title  raw_user_age  timestamp  \\\n",
            "0  b\"One Flew Over the Cuckoo's Nest (1975)\"          46.0  879024327   \n",
            "1                b'Strictly Ballroom (1992)'          32.0  875654590   \n",
            "2             b'Very Brady Sequel, A (1996)'          24.0  882075110   \n",
            "3                     b'Pulp Fiction (1994)'          50.0  883326919   \n",
            "4                         b'Scream 2 (1997)'          55.0  891409199   \n",
            "\n",
            "   user_gender user_id  user_occupation_label user_occupation_text  \\\n",
            "0         True  b'138'                      4            b'doctor'   \n",
            "1         True   b'92'                      5     b'entertainment'   \n",
            "2         True  b'301'                     17           b'student'   \n",
            "3         True   b'60'                      4        b'healthcare'   \n",
            "4         True  b'197'                     18        b'technician'   \n",
            "\n",
            "   user_rating user_zip_code  \n",
            "0          4.0      b'53211'  \n",
            "1          2.0      b'80525'  \n",
            "2          4.0      b'55439'  \n",
            "3          4.0      b'06472'  \n",
            "4          3.0      b'75094'  \n"
          ]
        }
      ]
    },
    {
      "cell_type": "code",
      "source": [
        "# feature selection\n",
        "ratings_dataset = ratings_dataset.map( lambda rating: {'user_id': rating['user_id'],\n",
        "                                     'movie_id': rating['movie_id'],\n",
        "                                     'movie_title': rating['movie_title'],\n",
        "                                     'user_rating': rating['user_rating'],\n",
        "                                     'timestamp': rating['timestamp']})"
      ],
      "metadata": {
        "id": "WQt4xpnyHp5E"
      },
      "execution_count": 16,
      "outputs": []
    },
    {
      "cell_type": "code",
      "source": [
        "tfds.as_dataframe(ratings_dataset.take(5), ratings_dataset_info)"
      ],
      "metadata": {
        "colab": {
          "base_uri": "https://localhost:8080/",
          "height": 147
        },
        "id": "8dUHpwzjHp77",
        "outputId": "3aac183e-008c-461d-ce83-363f06a24663"
      },
      "execution_count": 19,
      "outputs": [
        {
          "output_type": "execute_result",
          "data": {
            "text/plain": [
              "  movie_id                                movie_title  timestamp user_id  \\\n",
              "0   b'357'  b\"One Flew Over the Cuckoo's Nest (1975)\"  879024327  b'138'   \n",
              "1   b'709'                b'Strictly Ballroom (1992)'  875654590   b'92'   \n",
              "2   b'412'             b'Very Brady Sequel, A (1996)'  882075110  b'301'   \n",
              "3    b'56'                     b'Pulp Fiction (1994)'  883326919   b'60'   \n",
              "4   b'895'                         b'Scream 2 (1997)'  891409199  b'197'   \n",
              "\n",
              "   user_rating  \n",
              "0          4.0  \n",
              "1          2.0  \n",
              "2          4.0  \n",
              "3          4.0  \n",
              "4          3.0  "
            ],
            "text/html": [
              "\n",
              "  <div id=\"df-f4af74ec-6555-4bfd-901f-3379dc6fa7e5\">\n",
              "    <div class=\"colab-df-container\">\n",
              "      <style type=\"text/css\">\n",
              "</style>\n",
              "<table id=\"T_c059c_\">\n",
              "  <thead>\n",
              "    <tr>\n",
              "      <th class=\"blank level0\" >&nbsp;</th>\n",
              "      <th class=\"col_heading level0 col0\" >movie_id</th>\n",
              "      <th class=\"col_heading level0 col1\" >movie_title</th>\n",
              "      <th class=\"col_heading level0 col2\" >timestamp</th>\n",
              "      <th class=\"col_heading level0 col3\" >user_id</th>\n",
              "      <th class=\"col_heading level0 col4\" >user_rating</th>\n",
              "    </tr>\n",
              "  </thead>\n",
              "  <tbody>\n",
              "    <tr>\n",
              "      <th id=\"T_c059c_level0_row0\" class=\"row_heading level0 row0\" >0</th>\n",
              "      <td id=\"T_c059c_row0_col0\" class=\"data row0 col0\" >b&#x27;357&#x27;</td>\n",
              "      <td id=\"T_c059c_row0_col1\" class=\"data row0 col1\" >b&quot;One Flew Over the Cuckoo&#x27;s Nest (1975)&quot;</td>\n",
              "      <td id=\"T_c059c_row0_col2\" class=\"data row0 col2\" >879024327</td>\n",
              "      <td id=\"T_c059c_row0_col3\" class=\"data row0 col3\" >b&#x27;138&#x27;</td>\n",
              "      <td id=\"T_c059c_row0_col4\" class=\"data row0 col4\" >4.0</td>\n",
              "    </tr>\n",
              "    <tr>\n",
              "      <th id=\"T_c059c_level0_row1\" class=\"row_heading level0 row1\" >1</th>\n",
              "      <td id=\"T_c059c_row1_col0\" class=\"data row1 col0\" >b&#x27;709&#x27;</td>\n",
              "      <td id=\"T_c059c_row1_col1\" class=\"data row1 col1\" >b&#x27;Strictly Ballroom (1992)&#x27;</td>\n",
              "      <td id=\"T_c059c_row1_col2\" class=\"data row1 col2\" >875654590</td>\n",
              "      <td id=\"T_c059c_row1_col3\" class=\"data row1 col3\" >b&#x27;92&#x27;</td>\n",
              "      <td id=\"T_c059c_row1_col4\" class=\"data row1 col4\" >2.0</td>\n",
              "    </tr>\n",
              "    <tr>\n",
              "      <th id=\"T_c059c_level0_row2\" class=\"row_heading level0 row2\" >2</th>\n",
              "      <td id=\"T_c059c_row2_col0\" class=\"data row2 col0\" >b&#x27;412&#x27;</td>\n",
              "      <td id=\"T_c059c_row2_col1\" class=\"data row2 col1\" >b&#x27;Very Brady Sequel, A (1996)&#x27;</td>\n",
              "      <td id=\"T_c059c_row2_col2\" class=\"data row2 col2\" >882075110</td>\n",
              "      <td id=\"T_c059c_row2_col3\" class=\"data row2 col3\" >b&#x27;301&#x27;</td>\n",
              "      <td id=\"T_c059c_row2_col4\" class=\"data row2 col4\" >4.0</td>\n",
              "    </tr>\n",
              "    <tr>\n",
              "      <th id=\"T_c059c_level0_row3\" class=\"row_heading level0 row3\" >3</th>\n",
              "      <td id=\"T_c059c_row3_col0\" class=\"data row3 col0\" >b&#x27;56&#x27;</td>\n",
              "      <td id=\"T_c059c_row3_col1\" class=\"data row3 col1\" >b&#x27;Pulp Fiction (1994)&#x27;</td>\n",
              "      <td id=\"T_c059c_row3_col2\" class=\"data row3 col2\" >883326919</td>\n",
              "      <td id=\"T_c059c_row3_col3\" class=\"data row3 col3\" >b&#x27;60&#x27;</td>\n",
              "      <td id=\"T_c059c_row3_col4\" class=\"data row3 col4\" >4.0</td>\n",
              "    </tr>\n",
              "    <tr>\n",
              "      <th id=\"T_c059c_level0_row4\" class=\"row_heading level0 row4\" >4</th>\n",
              "      <td id=\"T_c059c_row4_col0\" class=\"data row4 col0\" >b&#x27;895&#x27;</td>\n",
              "      <td id=\"T_c059c_row4_col1\" class=\"data row4 col1\" >b&#x27;Scream 2 (1997)&#x27;</td>\n",
              "      <td id=\"T_c059c_row4_col2\" class=\"data row4 col2\" >891409199</td>\n",
              "      <td id=\"T_c059c_row4_col3\" class=\"data row4 col3\" >b&#x27;197&#x27;</td>\n",
              "      <td id=\"T_c059c_row4_col4\" class=\"data row4 col4\" >3.0</td>\n",
              "    </tr>\n",
              "  </tbody>\n",
              "</table>\n",
              "\n",
              "      <button class=\"colab-df-convert\" onclick=\"convertToInteractive('df-f4af74ec-6555-4bfd-901f-3379dc6fa7e5')\"\n",
              "              title=\"Convert this dataframe to an interactive table.\"\n",
              "              style=\"display:none;\">\n",
              "        \n",
              "  <svg xmlns=\"http://www.w3.org/2000/svg\" height=\"24px\"viewBox=\"0 0 24 24\"\n",
              "       width=\"24px\">\n",
              "    <path d=\"M0 0h24v24H0V0z\" fill=\"none\"/>\n",
              "    <path d=\"M18.56 5.44l.94 2.06.94-2.06 2.06-.94-2.06-.94-.94-2.06-.94 2.06-2.06.94zm-11 1L8.5 8.5l.94-2.06 2.06-.94-2.06-.94L8.5 2.5l-.94 2.06-2.06.94zm10 10l.94 2.06.94-2.06 2.06-.94-2.06-.94-.94-2.06-.94 2.06-2.06.94z\"/><path d=\"M17.41 7.96l-1.37-1.37c-.4-.4-.92-.59-1.43-.59-.52 0-1.04.2-1.43.59L10.3 9.45l-7.72 7.72c-.78.78-.78 2.05 0 2.83L4 21.41c.39.39.9.59 1.41.59.51 0 1.02-.2 1.41-.59l7.78-7.78 2.81-2.81c.8-.78.8-2.07 0-2.86zM5.41 20L4 18.59l7.72-7.72 1.47 1.35L5.41 20z\"/>\n",
              "  </svg>\n",
              "      </button>\n",
              "      \n",
              "  <style>\n",
              "    .colab-df-container {\n",
              "      display:flex;\n",
              "      flex-wrap:wrap;\n",
              "      gap: 12px;\n",
              "    }\n",
              "\n",
              "    .colab-df-convert {\n",
              "      background-color: #E8F0FE;\n",
              "      border: none;\n",
              "      border-radius: 50%;\n",
              "      cursor: pointer;\n",
              "      display: none;\n",
              "      fill: #1967D2;\n",
              "      height: 32px;\n",
              "      padding: 0 0 0 0;\n",
              "      width: 32px;\n",
              "    }\n",
              "\n",
              "    .colab-df-convert:hover {\n",
              "      background-color: #E2EBFA;\n",
              "      box-shadow: 0px 1px 2px rgba(60, 64, 67, 0.3), 0px 1px 3px 1px rgba(60, 64, 67, 0.15);\n",
              "      fill: #174EA6;\n",
              "    }\n",
              "\n",
              "    [theme=dark] .colab-df-convert {\n",
              "      background-color: #3B4455;\n",
              "      fill: #D2E3FC;\n",
              "    }\n",
              "\n",
              "    [theme=dark] .colab-df-convert:hover {\n",
              "      background-color: #434B5C;\n",
              "      box-shadow: 0px 1px 3px 1px rgba(0, 0, 0, 0.15);\n",
              "      filter: drop-shadow(0px 1px 2px rgba(0, 0, 0, 0.3));\n",
              "      fill: #FFFFFF;\n",
              "    }\n",
              "  </style>\n",
              "\n",
              "      <script>\n",
              "        const buttonEl =\n",
              "          document.querySelector('#df-f4af74ec-6555-4bfd-901f-3379dc6fa7e5 button.colab-df-convert');\n",
              "        buttonEl.style.display =\n",
              "          google.colab.kernel.accessAllowed ? 'block' : 'none';\n",
              "\n",
              "        async function convertToInteractive(key) {\n",
              "          const element = document.querySelector('#df-f4af74ec-6555-4bfd-901f-3379dc6fa7e5');\n",
              "          const dataTable =\n",
              "            await google.colab.kernel.invokeFunction('convertToInteractive',\n",
              "                                                     [key], {});\n",
              "          if (!dataTable) return;\n",
              "\n",
              "          const docLinkHtml = 'Like what you see? Visit the ' +\n",
              "            '<a target=\"_blank\" href=https://colab.research.google.com/notebooks/data_table.ipynb>data table notebook</a>'\n",
              "            + ' to learn more about interactive tables.';\n",
              "          element.innerHTML = '';\n",
              "          dataTable['output_type'] = 'display_data';\n",
              "          await google.colab.output.renderOutput(dataTable, element);\n",
              "          const docLink = document.createElement('div');\n",
              "          docLink.innerHTML = docLinkHtml;\n",
              "          element.appendChild(docLink);\n",
              "        }\n",
              "      </script>\n",
              "    </div>\n",
              "  </div>\n",
              "  "
            ]
          },
          "metadata": {},
          "execution_count": 19
        }
      ]
    },
    {
      "cell_type": "code",
      "source": [
        "## split dataset randomly (80% for train and 20% for test)\n",
        "trainset_size = 0.8 * ratings_dataset.__len__().numpy()\n",
        "\n",
        "tf.random.set_seed(42)\n",
        "#shuffle the elements of the dataset randomly\n",
        "ratings_dataset_shuffled = ratings_dataset.shuffle(\n",
        "      buffer_size=100_000,\n",
        "      seed =42,\n",
        "      reshuffle_each_iteration=False\n",
        ")"
      ],
      "metadata": {
        "id": "CW4DNxzFHp-j"
      },
      "execution_count": 24,
      "outputs": []
    },
    {
      "cell_type": "code",
      "source": [
        "tfds.as_dataframe(ratings_dataset_shuffled.take(10))"
      ],
      "metadata": {
        "id": "ATkn8XVJN-Dm",
        "outputId": "fb1f9e34-51e9-4cf2-ae51-06e658736187",
        "colab": {
          "base_uri": "https://localhost:8080/",
          "height": 254
        }
      },
      "execution_count": 27,
      "outputs": [
        {
          "output_type": "execute_result",
          "data": {
            "text/plain": [
              "  movie_id                    movie_title  timestamp user_id  user_rating\n",
              "0   b'898'         b'Postman, The (1997)'  885409515  b'681'          4.0\n",
              "1   b'367'             b'Clueless (1995)'  883388887  b'442'          2.0\n",
              "2   b'484'  b'Maltese Falcon, The (1941)'  891249586  b'932'          5.0\n",
              "3   b'494'      b'His Girl Friday (1940)'  878044851  b'506'          5.0\n",
              "4    b'58'            b'Quiz Show (1994)'  880130613   b'18'          4.0\n",
              "5    b'76'        b\"Carlito's Way (1993)\"  892778202  b'551'          4.0\n",
              "6   b'591'          b'Primal Fear (1996)'  879959212   b'12'          5.0\n",
              "7    b'95'              b'Aladdin (1992)'  877131685  b'901'          4.0\n",
              "8   b'160'  b'Glengarry Glen Ross (1992)'  891034219  b'835'          3.0\n",
              "9   b'313'              b'Titanic (1997)'  885328727  b'284'          3.0"
            ],
            "text/html": [
              "\n",
              "  <div id=\"df-733598d0-7357-4c29-8ec8-54ee2c5b6b04\">\n",
              "    <div class=\"colab-df-container\">\n",
              "      <style type=\"text/css\">\n",
              "</style>\n",
              "<table id=\"T_5fcbd_\">\n",
              "  <thead>\n",
              "    <tr>\n",
              "      <th class=\"blank level0\" >&nbsp;</th>\n",
              "      <th class=\"col_heading level0 col0\" >movie_id</th>\n",
              "      <th class=\"col_heading level0 col1\" >movie_title</th>\n",
              "      <th class=\"col_heading level0 col2\" >timestamp</th>\n",
              "      <th class=\"col_heading level0 col3\" >user_id</th>\n",
              "      <th class=\"col_heading level0 col4\" >user_rating</th>\n",
              "    </tr>\n",
              "  </thead>\n",
              "  <tbody>\n",
              "    <tr>\n",
              "      <th id=\"T_5fcbd_level0_row0\" class=\"row_heading level0 row0\" >0</th>\n",
              "      <td id=\"T_5fcbd_row0_col0\" class=\"data row0 col0\" >b'898'</td>\n",
              "      <td id=\"T_5fcbd_row0_col1\" class=\"data row0 col1\" >b'Postman, The (1997)'</td>\n",
              "      <td id=\"T_5fcbd_row0_col2\" class=\"data row0 col2\" >885409515</td>\n",
              "      <td id=\"T_5fcbd_row0_col3\" class=\"data row0 col3\" >b'681'</td>\n",
              "      <td id=\"T_5fcbd_row0_col4\" class=\"data row0 col4\" >4.000000</td>\n",
              "    </tr>\n",
              "    <tr>\n",
              "      <th id=\"T_5fcbd_level0_row1\" class=\"row_heading level0 row1\" >1</th>\n",
              "      <td id=\"T_5fcbd_row1_col0\" class=\"data row1 col0\" >b'367'</td>\n",
              "      <td id=\"T_5fcbd_row1_col1\" class=\"data row1 col1\" >b'Clueless (1995)'</td>\n",
              "      <td id=\"T_5fcbd_row1_col2\" class=\"data row1 col2\" >883388887</td>\n",
              "      <td id=\"T_5fcbd_row1_col3\" class=\"data row1 col3\" >b'442'</td>\n",
              "      <td id=\"T_5fcbd_row1_col4\" class=\"data row1 col4\" >2.000000</td>\n",
              "    </tr>\n",
              "    <tr>\n",
              "      <th id=\"T_5fcbd_level0_row2\" class=\"row_heading level0 row2\" >2</th>\n",
              "      <td id=\"T_5fcbd_row2_col0\" class=\"data row2 col0\" >b'484'</td>\n",
              "      <td id=\"T_5fcbd_row2_col1\" class=\"data row2 col1\" >b'Maltese Falcon, The (1941)'</td>\n",
              "      <td id=\"T_5fcbd_row2_col2\" class=\"data row2 col2\" >891249586</td>\n",
              "      <td id=\"T_5fcbd_row2_col3\" class=\"data row2 col3\" >b'932'</td>\n",
              "      <td id=\"T_5fcbd_row2_col4\" class=\"data row2 col4\" >5.000000</td>\n",
              "    </tr>\n",
              "    <tr>\n",
              "      <th id=\"T_5fcbd_level0_row3\" class=\"row_heading level0 row3\" >3</th>\n",
              "      <td id=\"T_5fcbd_row3_col0\" class=\"data row3 col0\" >b'494'</td>\n",
              "      <td id=\"T_5fcbd_row3_col1\" class=\"data row3 col1\" >b'His Girl Friday (1940)'</td>\n",
              "      <td id=\"T_5fcbd_row3_col2\" class=\"data row3 col2\" >878044851</td>\n",
              "      <td id=\"T_5fcbd_row3_col3\" class=\"data row3 col3\" >b'506'</td>\n",
              "      <td id=\"T_5fcbd_row3_col4\" class=\"data row3 col4\" >5.000000</td>\n",
              "    </tr>\n",
              "    <tr>\n",
              "      <th id=\"T_5fcbd_level0_row4\" class=\"row_heading level0 row4\" >4</th>\n",
              "      <td id=\"T_5fcbd_row4_col0\" class=\"data row4 col0\" >b'58'</td>\n",
              "      <td id=\"T_5fcbd_row4_col1\" class=\"data row4 col1\" >b'Quiz Show (1994)'</td>\n",
              "      <td id=\"T_5fcbd_row4_col2\" class=\"data row4 col2\" >880130613</td>\n",
              "      <td id=\"T_5fcbd_row4_col3\" class=\"data row4 col3\" >b'18'</td>\n",
              "      <td id=\"T_5fcbd_row4_col4\" class=\"data row4 col4\" >4.000000</td>\n",
              "    </tr>\n",
              "    <tr>\n",
              "      <th id=\"T_5fcbd_level0_row5\" class=\"row_heading level0 row5\" >5</th>\n",
              "      <td id=\"T_5fcbd_row5_col0\" class=\"data row5 col0\" >b'76'</td>\n",
              "      <td id=\"T_5fcbd_row5_col1\" class=\"data row5 col1\" >b\"Carlito's Way (1993)\"</td>\n",
              "      <td id=\"T_5fcbd_row5_col2\" class=\"data row5 col2\" >892778202</td>\n",
              "      <td id=\"T_5fcbd_row5_col3\" class=\"data row5 col3\" >b'551'</td>\n",
              "      <td id=\"T_5fcbd_row5_col4\" class=\"data row5 col4\" >4.000000</td>\n",
              "    </tr>\n",
              "    <tr>\n",
              "      <th id=\"T_5fcbd_level0_row6\" class=\"row_heading level0 row6\" >6</th>\n",
              "      <td id=\"T_5fcbd_row6_col0\" class=\"data row6 col0\" >b'591'</td>\n",
              "      <td id=\"T_5fcbd_row6_col1\" class=\"data row6 col1\" >b'Primal Fear (1996)'</td>\n",
              "      <td id=\"T_5fcbd_row6_col2\" class=\"data row6 col2\" >879959212</td>\n",
              "      <td id=\"T_5fcbd_row6_col3\" class=\"data row6 col3\" >b'12'</td>\n",
              "      <td id=\"T_5fcbd_row6_col4\" class=\"data row6 col4\" >5.000000</td>\n",
              "    </tr>\n",
              "    <tr>\n",
              "      <th id=\"T_5fcbd_level0_row7\" class=\"row_heading level0 row7\" >7</th>\n",
              "      <td id=\"T_5fcbd_row7_col0\" class=\"data row7 col0\" >b'95'</td>\n",
              "      <td id=\"T_5fcbd_row7_col1\" class=\"data row7 col1\" >b'Aladdin (1992)'</td>\n",
              "      <td id=\"T_5fcbd_row7_col2\" class=\"data row7 col2\" >877131685</td>\n",
              "      <td id=\"T_5fcbd_row7_col3\" class=\"data row7 col3\" >b'901'</td>\n",
              "      <td id=\"T_5fcbd_row7_col4\" class=\"data row7 col4\" >4.000000</td>\n",
              "    </tr>\n",
              "    <tr>\n",
              "      <th id=\"T_5fcbd_level0_row8\" class=\"row_heading level0 row8\" >8</th>\n",
              "      <td id=\"T_5fcbd_row8_col0\" class=\"data row8 col0\" >b'160'</td>\n",
              "      <td id=\"T_5fcbd_row8_col1\" class=\"data row8 col1\" >b'Glengarry Glen Ross (1992)'</td>\n",
              "      <td id=\"T_5fcbd_row8_col2\" class=\"data row8 col2\" >891034219</td>\n",
              "      <td id=\"T_5fcbd_row8_col3\" class=\"data row8 col3\" >b'835'</td>\n",
              "      <td id=\"T_5fcbd_row8_col4\" class=\"data row8 col4\" >3.000000</td>\n",
              "    </tr>\n",
              "    <tr>\n",
              "      <th id=\"T_5fcbd_level0_row9\" class=\"row_heading level0 row9\" >9</th>\n",
              "      <td id=\"T_5fcbd_row9_col0\" class=\"data row9 col0\" >b'313'</td>\n",
              "      <td id=\"T_5fcbd_row9_col1\" class=\"data row9 col1\" >b'Titanic (1997)'</td>\n",
              "      <td id=\"T_5fcbd_row9_col2\" class=\"data row9 col2\" >885328727</td>\n",
              "      <td id=\"T_5fcbd_row9_col3\" class=\"data row9 col3\" >b'284'</td>\n",
              "      <td id=\"T_5fcbd_row9_col4\" class=\"data row9 col4\" >3.000000</td>\n",
              "    </tr>\n",
              "  </tbody>\n",
              "</table>\n",
              "\n",
              "      <button class=\"colab-df-convert\" onclick=\"convertToInteractive('df-733598d0-7357-4c29-8ec8-54ee2c5b6b04')\"\n",
              "              title=\"Convert this dataframe to an interactive table.\"\n",
              "              style=\"display:none;\">\n",
              "        \n",
              "  <svg xmlns=\"http://www.w3.org/2000/svg\" height=\"24px\"viewBox=\"0 0 24 24\"\n",
              "       width=\"24px\">\n",
              "    <path d=\"M0 0h24v24H0V0z\" fill=\"none\"/>\n",
              "    <path d=\"M18.56 5.44l.94 2.06.94-2.06 2.06-.94-2.06-.94-.94-2.06-.94 2.06-2.06.94zm-11 1L8.5 8.5l.94-2.06 2.06-.94-2.06-.94L8.5 2.5l-.94 2.06-2.06.94zm10 10l.94 2.06.94-2.06 2.06-.94-2.06-.94-.94-2.06-.94 2.06-2.06.94z\"/><path d=\"M17.41 7.96l-1.37-1.37c-.4-.4-.92-.59-1.43-.59-.52 0-1.04.2-1.43.59L10.3 9.45l-7.72 7.72c-.78.78-.78 2.05 0 2.83L4 21.41c.39.39.9.59 1.41.59.51 0 1.02-.2 1.41-.59l7.78-7.78 2.81-2.81c.8-.78.8-2.07 0-2.86zM5.41 20L4 18.59l7.72-7.72 1.47 1.35L5.41 20z\"/>\n",
              "  </svg>\n",
              "      </button>\n",
              "      \n",
              "  <style>\n",
              "    .colab-df-container {\n",
              "      display:flex;\n",
              "      flex-wrap:wrap;\n",
              "      gap: 12px;\n",
              "    }\n",
              "\n",
              "    .colab-df-convert {\n",
              "      background-color: #E8F0FE;\n",
              "      border: none;\n",
              "      border-radius: 50%;\n",
              "      cursor: pointer;\n",
              "      display: none;\n",
              "      fill: #1967D2;\n",
              "      height: 32px;\n",
              "      padding: 0 0 0 0;\n",
              "      width: 32px;\n",
              "    }\n",
              "\n",
              "    .colab-df-convert:hover {\n",
              "      background-color: #E2EBFA;\n",
              "      box-shadow: 0px 1px 2px rgba(60, 64, 67, 0.3), 0px 1px 3px 1px rgba(60, 64, 67, 0.15);\n",
              "      fill: #174EA6;\n",
              "    }\n",
              "\n",
              "    [theme=dark] .colab-df-convert {\n",
              "      background-color: #3B4455;\n",
              "      fill: #D2E3FC;\n",
              "    }\n",
              "\n",
              "    [theme=dark] .colab-df-convert:hover {\n",
              "      background-color: #434B5C;\n",
              "      box-shadow: 0px 1px 3px 1px rgba(0, 0, 0, 0.15);\n",
              "      filter: drop-shadow(0px 1px 2px rgba(0, 0, 0, 0.3));\n",
              "      fill: #FFFFFF;\n",
              "    }\n",
              "  </style>\n",
              "\n",
              "      <script>\n",
              "        const buttonEl =\n",
              "          document.querySelector('#df-733598d0-7357-4c29-8ec8-54ee2c5b6b04 button.colab-df-convert');\n",
              "        buttonEl.style.display =\n",
              "          google.colab.kernel.accessAllowed ? 'block' : 'none';\n",
              "\n",
              "        async function convertToInteractive(key) {\n",
              "          const element = document.querySelector('#df-733598d0-7357-4c29-8ec8-54ee2c5b6b04');\n",
              "          const dataTable =\n",
              "            await google.colab.kernel.invokeFunction('convertToInteractive',\n",
              "                                                     [key], {});\n",
              "          if (!dataTable) return;\n",
              "\n",
              "          const docLinkHtml = 'Like what you see? Visit the ' +\n",
              "            '<a target=\"_blank\" href=https://colab.research.google.com/notebooks/data_table.ipynb>data table notebook</a>'\n",
              "            + ' to learn more about interactive tables.';\n",
              "          element.innerHTML = '';\n",
              "          dataTable['output_type'] = 'display_data';\n",
              "          await google.colab.output.renderOutput(dataTable, element);\n",
              "          const docLink = document.createElement('div');\n",
              "          docLink.innerHTML = docLinkHtml;\n",
              "          element.appendChild(docLink);\n",
              "        }\n",
              "      </script>\n",
              "    </div>\n",
              "  </div>\n",
              "  "
            ]
          },
          "metadata": {},
          "execution_count": 27
        }
      ]
    },
    {
      "cell_type": "code",
      "source": [
        "ratings_trainset = ratings_dataset_shuffled.take(trainset_size)\n",
        "ratings_testset = ratings_dataset_shuffled.skip(trainset_size)"
      ],
      "metadata": {
        "id": "3pf9hpsAN-F-"
      },
      "execution_count": 29,
      "outputs": []
    },
    {
      "cell_type": "code",
      "source": [
        "print(f'training set size is {ratings_trainset.__len__()}')"
      ],
      "metadata": {
        "id": "EcKqSeMwN-IP",
        "outputId": "b951d794-dd7a-435a-cff8-c1ddfe2cb962",
        "colab": {
          "base_uri": "https://localhost:8080/"
        }
      },
      "execution_count": 30,
      "outputs": [
        {
          "output_type": "stream",
          "name": "stdout",
          "text": [
            "training set size is 80000\n"
          ]
        }
      ]
    },
    {
      "cell_type": "code",
      "source": [
        "print(f'test set size is {ratings_testset.__len__()}')"
      ],
      "metadata": {
        "id": "7D0ntgScN-Kd",
        "outputId": "84fa9a6d-3bf5-4ef3-903c-e32ae7595823",
        "colab": {
          "base_uri": "https://localhost:8080/"
        }
      },
      "execution_count": 31,
      "outputs": [
        {
          "output_type": "stream",
          "name": "stdout",
          "text": [
            "test set size is 20000\n"
          ]
        }
      ]
    },
    {
      "cell_type": "markdown",
      "source": [
        "## Preprocess raw features and make embeddings with Keras preprocessing layers"
      ],
      "metadata": {
        "id": "kfHKtOUnS3Ya"
      }
    },
    {
      "cell_type": "markdown",
      "source": [
        "* **Numerical features**( ratings, prices, timestamps, etc）need to be normalized so their values lie in small interval around 0\n",
        "* **Categorical features**(ids, usernames/emails/titles ) are usually string features and have to be translated into embedding vectors(numerical feature representations )\n",
        "* **Text features** ( descriptions, comments, etc) need to be at first, tokenized and then translated into embeddings\n"
      ],
      "metadata": {
        "id": "Vw4H8EmETEqJ"
      }
    },
    {
      "cell_type": "code",
      "source": [
        "from pprint import pprint\n",
        "for rating in ratings_trainset.take(1).as_numpy_iterator():\n",
        "  pprint(rating)"
      ],
      "metadata": {
        "id": "p6YBvxZLN-Mv",
        "outputId": "d0c58d30-fba4-45b9-8349-6dab9554e4e1",
        "colab": {
          "base_uri": "https://localhost:8080/"
        }
      },
      "execution_count": 33,
      "outputs": [
        {
          "output_type": "stream",
          "name": "stdout",
          "text": [
            "{'movie_id': b'898',\n",
            " 'movie_title': b'Postman, The (1997)',\n",
            " 'timestamp': 885409515,\n",
            " 'user_id': b'681',\n",
            " 'user_rating': 4.0}\n"
          ]
        }
      ]
    },
    {
      "cell_type": "markdown",
      "source": [
        "### Normalize numeric features"
      ],
      "metadata": {
        "id": "iXICi4e2VZ88"
      }
    },
    {
      "cell_type": "code",
      "source": [
        "# make a keras Normalization layer to standardize a numerical feature\n",
        "timestamp_normalization_layer = tf.keras.layers.experimental.preprocessing.Normalization(axis=None)"
      ],
      "metadata": {
        "id": "FyusE7yiN-PP"
      },
      "execution_count": 35,
      "outputs": []
    },
    {
      "cell_type": "code",
      "source": [
        "timestamp_normalization_layer.adapt(\n",
        "    ratings_trainset.map(\n",
        "        lambda x: x['timestamp']\n",
        "    )\n",
        ")"
      ],
      "metadata": {
        "id": "5QYh_aZeN-Rf"
      },
      "execution_count": 36,
      "outputs": []
    },
    {
      "cell_type": "code",
      "source": [
        "for rating in ratings_trainset.take(5).as_numpy_iterator():\n",
        "  print(\n",
        "      f\"raw timestampe: {rating['timestamp']} ->\",\n",
        "      f\"normalized timestamp: {timestamp_normalization_layer(rating['timestamp'])}\"\n",
        "  )"
      ],
      "metadata": {
        "id": "CKYMAaZgZSu2",
        "outputId": "5cb8e9f9-5d6b-4b45-da97-bb0b1a044108",
        "colab": {
          "base_uri": "https://localhost:8080/"
        }
      },
      "execution_count": 37,
      "outputs": [
        {
          "output_type": "stream",
          "name": "stdout",
          "text": [
            "raw timestampe: 885409515 -> normalized timestamp: 0.3537561595439911\n",
            "raw timestampe: 883388887 -> normalized timestamp: -0.02487170137465\n",
            "raw timestampe: 891249586 -> normalized timestamp: 1.4480509757995605\n",
            "raw timestampe: 878044851 -> normalized timestamp: -1.0262154340744019\n",
            "raw timestampe: 880130613 -> normalized timestamp: -0.6353915929794312\n"
          ]
        }
      ]
    },
    {
      "cell_type": "markdown",
      "source": [
        "### Turning categorical features into embeddings"
      ],
      "metadata": {
        "id": "YgFHrr9uaxA7"
      }
    },
    {
      "cell_type": "code",
      "source": [
        "## 1. Build a mapping( called 'vocabulary')\n",
        "user_id_lookup_layer = tf.keras.layers.experimental.preprocessing.StringLookup(mask_token= None)"
      ],
      "metadata": {
        "id": "PzXmdahSZS2O"
      },
      "execution_count": 38,
      "outputs": []
    },
    {
      "cell_type": "code",
      "source": [
        "user_id_lookup_layer.adapt(\n",
        "    ratings_trainset.map(\n",
        "        lambda x: x['user_id']\n",
        "    )\n",
        ")"
      ],
      "metadata": {
        "id": "0TtcF61TZS49"
      },
      "execution_count": 39,
      "outputs": []
    },
    {
      "cell_type": "code",
      "source": [
        "print(f\"Vocabulary[:10] -> {user_id_lookup_layer.get_vocabulary()[:10]}\")"
      ],
      "metadata": {
        "id": "0TKl1SF2ZS7w",
        "outputId": "b992b502-e106-4fa5-893a-b09588019e33",
        "colab": {
          "base_uri": "https://localhost:8080/"
        }
      },
      "execution_count": 40,
      "outputs": [
        {
          "output_type": "stream",
          "name": "stdout",
          "text": [
            "Vocabulary[:10] -> ['[UNK]', '405', '655', '13', '450', '276', '303', '416', '537', '234']\n"
          ]
        }
      ]
    },
    {
      "cell_type": "code",
      "source": [
        "print(\n",
        "    \"Mapped integer for user ids: ['-2', '13', '655', 'xxx']\\n\",\n",
        "    user_id_lookup_layer(\n",
        "        ['-2', '13', '655', 'xxx']\n",
        "    )\n",
        ")"
      ],
      "metadata": {
        "id": "AeJlNk6qZS-N",
        "outputId": "d772ef70-7e64-4d2a-b5f0-9ba79abb2af8",
        "colab": {
          "base_uri": "https://localhost:8080/"
        }
      },
      "execution_count": 41,
      "outputs": [
        {
          "output_type": "stream",
          "name": "stdout",
          "text": [
            "Mapped integer for user ids: ['-2', '13', '655', 'xxx']\n",
            " tf.Tensor([0 3 2 0], shape=(4,), dtype=int64)\n"
          ]
        }
      ]
    },
    {
      "cell_type": "code",
      "source": [
        ""
      ],
      "metadata": {
        "id": "JDHO8uPGc78P"
      },
      "execution_count": 44,
      "outputs": []
    },
    {
      "cell_type": "code",
      "source": [
        "## 2. Turn these integers into embedding vectors\n",
        "user_id_embedding_dim =32\n",
        "user_id_embedding_layer = tf.keras.layers.Embedding(\n",
        "    # size of the vocab\n",
        "    input_dim = user_id_lookup_layer.vocabulary_size(),\n",
        "    # Dimension of the dense embedding\n",
        "    output_dim = user_id_embedding_dim\n",
        ")"
      ],
      "metadata": {
        "id": "UZN4BMi_ZTA1"
      },
      "execution_count": 45,
      "outputs": []
    },
    {
      "cell_type": "code",
      "source": [
        "# A model that takes raw string feature values (user_id) in and yields embeddings\n",
        "user_id_model = tf.keras.Sequential(\n",
        "    [\n",
        "        user_id_lookup_layer,\n",
        "        user_id_embedding_layer\n",
        "    ]\n",
        ")"
      ],
      "metadata": {
        "id": "yNvGImZ7ZTDk"
      },
      "execution_count": 46,
      "outputs": []
    },
    {
      "cell_type": "code",
      "source": [
        "print(\n",
        "    \"Embeddings for user ids: ['-2', '13', '655', 'xxx']\\n\",\n",
        "    user_id_model(\n",
        "        ['-2', '13', '655', 'xxx']\n",
        "    )\n",
        ")"
      ],
      "metadata": {
        "id": "KzUFKg19ZTGW",
        "outputId": "f28d9217-f052-4a3f-a91f-1a3ba1e01de5",
        "colab": {
          "base_uri": "https://localhost:8080/"
        }
      },
      "execution_count": 47,
      "outputs": [
        {
          "output_type": "stream",
          "name": "stderr",
          "text": [
            "WARNING:tensorflow:Layers in a Sequential model should only have a single input tensor. Received: inputs=['-2', '13', '655', 'xxx']. Consider rewriting this model with the Functional API.\n"
          ]
        },
        {
          "output_type": "stream",
          "name": "stdout",
          "text": [
            "Embeddings for user ids: ['-2', '13', '655', 'xxx']\n",
            " tf.Tensor(\n",
            "[[ 0.01645621 -0.00589932 -0.01471175 -0.00355174 -0.04663396  0.01846724\n",
            "   0.02401174  0.03724445 -0.02736737 -0.02768031 -0.01896119  0.02223358\n",
            "  -0.03668128  0.00480639  0.00746088  0.03996835 -0.04905364  0.00212307\n",
            "   0.01345445 -0.03006717  0.02294225  0.00458346 -0.03924345  0.01767061\n",
            "   0.01602763 -0.01630496  0.01014177 -0.02893742  0.03527372 -0.00593783\n",
            "   0.04485276 -0.02624741]\n",
            " [ 0.04355587 -0.04048269 -0.04138212  0.01247839 -0.01294935  0.00139042\n",
            "   0.01233207  0.03024682 -0.03334862 -0.02790955  0.01242272 -0.04128085\n",
            "   0.04214266  0.04348017  0.01045523 -0.00205957 -0.03556986 -0.01739997\n",
            "   0.04255753  0.02757342  0.0136765   0.01282351 -0.01459817 -0.00855327\n",
            "  -0.03894869 -0.0358853  -0.03112409  0.01894793  0.02213276 -0.02511839\n",
            "   0.00912381 -0.00024097]\n",
            " [ 0.00016055 -0.03171784 -0.03682018  0.01463613  0.04559476  0.01670735\n",
            "  -0.01924447 -0.01310781 -0.0052641  -0.03164054  0.00288255  0.02052755\n",
            "   0.0398633  -0.01861371  0.01233826  0.04681553 -0.03879207 -0.02040946\n",
            "   0.04356605 -0.03658737 -0.01806207 -0.0237723  -0.04685124  0.04004553\n",
            "   0.01409379  0.00821855 -0.02908291  0.02173609 -0.0136477  -0.04532908\n",
            "  -0.03502221  0.03436175]\n",
            " [ 0.01645621 -0.00589932 -0.01471175 -0.00355174 -0.04663396  0.01846724\n",
            "   0.02401174  0.03724445 -0.02736737 -0.02768031 -0.01896119  0.02223358\n",
            "  -0.03668128  0.00480639  0.00746088  0.03996835 -0.04905364  0.00212307\n",
            "   0.01345445 -0.03006717  0.02294225  0.00458346 -0.03924345  0.01767061\n",
            "   0.01602763 -0.01630496  0.01014177 -0.02893742  0.03527372 -0.00593783\n",
            "   0.04485276 -0.02624741]], shape=(4, 32), dtype=float32)\n"
          ]
        }
      ]
    },
    {
      "cell_type": "code",
      "source": [
        "## do the same thing for movie id\n",
        "\n",
        "movie_id_lookup_layer = tf.keras.layers.experimental.preprocessing.StringLookup(mask_token= None)\n",
        "movie_id_lookup_layer.adapt(\n",
        "    ratings_trainset.map(\n",
        "        lambda x: x['movie_id']\n",
        "    )\n",
        ")\n",
        "movie_id_embedding_dim = 32\n",
        "\n",
        "movie_id_embedding_layer = tf.keras.layers.Embedding(\n",
        "    input_dim = movie_id_lookup_layer.vocabulary_size(),\n",
        "    output_dim = movie_id_embedding_dim\n",
        ")\n",
        "movie_id_model = tf.keras.Sequential(\n",
        "    [ \n",
        "        movie_id_lookup_layer,\n",
        "        movie_id_embedding_layer\n",
        "    ]\n",
        ")"
      ],
      "metadata": {
        "id": "Od2bBvuTZTIu"
      },
      "execution_count": 48,
      "outputs": []
    },
    {
      "cell_type": "markdown",
      "source": [
        "## Tokenize textual features and translate them into embeddings"
      ],
      "metadata": {
        "id": "uwaQnDhdgfHi"
      }
    },
    {
      "cell_type": "code",
      "source": [
        "movie_title_vectorization_layer = tf.keras.layers.experimental.preprocessing.TextVectorization()"
      ],
      "metadata": {
        "id": "YDkMsaHRZTL2"
      },
      "execution_count": null,
      "outputs": []
    },
    {
      "cell_type": "code",
      "source": [
        ""
      ],
      "metadata": {
        "id": "zmiWthv4ZTOk"
      },
      "execution_count": null,
      "outputs": []
    },
    {
      "cell_type": "code",
      "source": [
        ""
      ],
      "metadata": {
        "id": "7ystGsF0ZTRd"
      },
      "execution_count": null,
      "outputs": []
    },
    {
      "cell_type": "code",
      "source": [
        ""
      ],
      "metadata": {
        "id": "o1egB3ZAZTUO"
      },
      "execution_count": null,
      "outputs": []
    }
  ]
}